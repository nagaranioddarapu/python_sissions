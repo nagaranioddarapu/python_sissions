{
 "cells": [
  {
   "cell_type": "code",
   "execution_count": 1,
   "id": "7e54dc95",
   "metadata": {},
   "outputs": [
    {
     "name": "stdout",
     "output_type": "stream",
     "text": [
      "enter number10\n",
      "enter number20\n",
      "the addition of 10 and 20 is 30 \n"
     ]
    }
   ],
   "source": [
    "val1=int(input(\"enter number\"))\n",
    "val2=int(input(\"enter number\"))\n",
    "add=val1+val2\n",
    "print (\"the addition of {} and {} is {} \".format(val1,val2,add))"
   ]
  },
  {
   "cell_type": "code",
   "execution_count": 3,
   "id": "ed1cdeb8",
   "metadata": {},
   "outputs": [
    {
     "name": "stdout",
     "output_type": "stream",
     "text": [
      "enter number10\n",
      "enter number20.5\n"
     ]
    },
    {
     "ename": "ValueError",
     "evalue": "invalid literal for int() with base 10: '20.5'",
     "output_type": "error",
     "traceback": [
      "\u001b[1;31m---------------------------------------------------------------------------\u001b[0m",
      "\u001b[1;31mValueError\u001b[0m                                Traceback (most recent call last)",
      "Cell \u001b[1;32mIn[3], line 2\u001b[0m\n\u001b[0;32m      1\u001b[0m val1\u001b[38;5;241m=\u001b[39m\u001b[38;5;28mint\u001b[39m(\u001b[38;5;28minput\u001b[39m(\u001b[38;5;124m\"\u001b[39m\u001b[38;5;124menter number\u001b[39m\u001b[38;5;124m\"\u001b[39m))\n\u001b[1;32m----> 2\u001b[0m val2\u001b[38;5;241m=\u001b[39m\u001b[38;5;28mint\u001b[39m(\u001b[38;5;28minput\u001b[39m(\u001b[38;5;124m\"\u001b[39m\u001b[38;5;124menter number\u001b[39m\u001b[38;5;124m\"\u001b[39m))\n\u001b[0;32m      3\u001b[0m add\u001b[38;5;241m=\u001b[39mval1\u001b[38;5;241m+\u001b[39mval2\n\u001b[0;32m      4\u001b[0m \u001b[38;5;28mprint\u001b[39m (\u001b[38;5;124m\"\u001b[39m\u001b[38;5;124mthe addition of \u001b[39m\u001b[38;5;132;01m{}\u001b[39;00m\u001b[38;5;124m and \u001b[39m\u001b[38;5;132;01m{}\u001b[39;00m\u001b[38;5;124m is \u001b[39m\u001b[38;5;132;01m{}\u001b[39;00m\u001b[38;5;124m \u001b[39m\u001b[38;5;124m\"\u001b[39m\u001b[38;5;241m.\u001b[39mformat(val1,val2,add))\n",
      "\u001b[1;31mValueError\u001b[0m: invalid literal for int() with base 10: '20.5'"
     ]
    }
   ],
   "source": [
    "val1=int(input(\"enter number\"))\n",
    "val2=int(input(\"enter number\"))\n",
    "add=val1+val2\n",
    "print (\"the addition of {} and {} is {} \".format(val1,val2,add))"
   ]
  },
  {
   "cell_type": "code",
   "execution_count": 4,
   "id": "57cb3aee",
   "metadata": {},
   "outputs": [
    {
     "name": "stdout",
     "output_type": "stream",
     "text": [
      "enter number10\n",
      "enter number20.5\n",
      "the addition of 10 and 20.5 is 30.5 \n"
     ]
    }
   ],
   "source": [
    "val1=int(input(\"enter number\"))\n",
    "val2=float(input(\"enter number\"))\n",
    "add=val1+val2\n",
    "print (\"the addition of {} and {} is {} \".format(val1,val2,add))"
   ]
  },
  {
   "cell_type": "code",
   "execution_count": 5,
   "id": "8226c2ac",
   "metadata": {},
   "outputs": [
    {
     "name": "stdout",
     "output_type": "stream",
     "text": [
      "enter number10\n",
      "enter number20\n",
      "the addition of 10 and 20.0 is 30.0 \n"
     ]
    }
   ],
   "source": [
    "val1=int(input(\"enter number\"))\n",
    "val2=float(input(\"enter number\"))\n",
    "add=val1+val2\n",
    "print (\"the addition of {} and {} is {} \".format(val1,val2,add))"
   ]
  },
  {
   "cell_type": "code",
   "execution_count": 6,
   "id": "78c3e33d",
   "metadata": {},
   "outputs": [
    {
     "name": "stdout",
     "output_type": "stream",
     "text": [
      "enter number10\n",
      "enter number20.2\n",
      "the addition of 10 and 20.2 is 30.2 \n"
     ]
    }
   ],
   "source": [
    "val1=eval(input(\"enter number\"))\n",
    "val2=eval(input(\"enter number\"))\n",
    "add=val1+val2\n",
    "print (\"the addition of {} and {} is {} \".format(val1,val2,add))"
   ]
  },
  {
   "cell_type": "code",
   "execution_count": null,
   "id": "61fc0341",
   "metadata": {},
   "outputs": [],
   "source": []
  }
 ],
 "metadata": {
  "kernelspec": {
   "display_name": "Python 3 (ipykernel)",
   "language": "python",
   "name": "python3"
  },
  "language_info": {
   "codemirror_mode": {
    "name": "ipython",
    "version": 3
   },
   "file_extension": ".py",
   "mimetype": "text/x-python",
   "name": "python",
   "nbconvert_exporter": "python",
   "pygments_lexer": "ipython3",
   "version": "3.11.5"
  }
 },
 "nbformat": 4,
 "nbformat_minor": 5
}
