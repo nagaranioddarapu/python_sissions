{
 "cells": [
  {
   "cell_type": "markdown",
   "id": "8189eb27",
   "metadata": {},
   "source": [
    "# assignment on strings"
   ]
  },
  {
   "cell_type": "markdown",
   "id": "7318fc69",
   "metadata": {},
   "source": [
    "#write a program that ask the user to enter string and print following.\n",
    "    #1)print total number of characters in the string"
   ]
  },
  {
   "cell_type": "code",
   "execution_count": 2,
   "id": "0ec96d74",
   "metadata": {},
   "outputs": [
    {
     "name": "stdout",
     "output_type": "stream",
     "text": [
      "enter the string : python\n"
     ]
    },
    {
     "data": {
      "text/plain": [
       "6"
      ]
     },
     "execution_count": 2,
     "metadata": {},
     "output_type": "execute_result"
    }
   ],
   "source": [
    "str1=input(\"enter the string : \")  # string is providing through keyboard\n",
    "len(str1)                          #finding number characters in string"
   ]
  },
  {
   "cell_type": "code",
   "execution_count": 11,
   "id": "b86488ed",
   "metadata": {},
   "outputs": [
    {
     "name": "stdout",
     "output_type": "stream",
     "text": [
      "enter the string : python\n",
      "1 python\n",
      "2 python\n",
      "3 python\n",
      "4 python\n",
      "5 python\n",
      "6 python\n",
      "7 python\n",
      "8 python\n",
      "9 python\n",
      "10 python\n"
     ]
    }
   ],
   "source": [
    "#string repeated for 10 times\n",
    "\n",
    "str1=input(\"enter the string : \")  # string is providing through keyboard\n",
    "for i in range(1,11):\n",
    "    print(i,str1)                  #string repeated for 10 times using for loop\n",
    "                                  "
   ]
  },
  {
   "cell_type": "code",
   "execution_count": 12,
   "id": "286e0989",
   "metadata": {},
   "outputs": [
    {
     "name": "stdout",
     "output_type": "stream",
     "text": [
      "enter the string : python\n"
     ]
    },
    {
     "data": {
      "text/plain": [
       "'p'"
      ]
     },
     "execution_count": 12,
     "metadata": {},
     "output_type": "execute_result"
    }
   ],
   "source": [
    "# print first character of string\n",
    "str1=input(\"enter the string : \")  # string is providing through keyboard\n",
    "str1[0]                            # using index print the  1st character"
   ]
  },
  {
   "cell_type": "code",
   "execution_count": 15,
   "id": "b7a1cc8c",
   "metadata": {},
   "outputs": [
    {
     "name": "stdout",
     "output_type": "stream",
     "text": [
      "enter the string : python\n",
      "p\n",
      "y\n",
      "t\n"
     ]
    }
   ],
   "source": [
    "#print first three character of given string\n",
    "str1=input(\"enter the string : \")  # string is providing through keyboard\n",
    "\n",
    "for i in range(3):\n",
    "    print(str1[i])"
   ]
  },
  {
   "cell_type": "code",
   "execution_count": 17,
   "id": "84649303",
   "metadata": {},
   "outputs": [
    {
     "name": "stdout",
     "output_type": "stream",
     "text": [
      "enter the string : welcomepython\n",
      "h\n",
      "o\n",
      "n\n"
     ]
    }
   ],
   "source": [
    "#print last three characters of string\n",
    "str1=input(\"enter the string : \")  # string is providing through keyboard\n",
    "for i in range(len(str1)):         #iterate last 3 characters of string       \n",
    "    if i>=len(str1)-3:             #if condition is true \n",
    "        print(str1[i])              #print last 3 characters"
   ]
  },
  {
   "cell_type": "code",
   "execution_count": 22,
   "id": "46bb4dfd",
   "metadata": {},
   "outputs": [
    {
     "name": "stdout",
     "output_type": "stream",
     "text": [
      "enter the string : python\n",
      "nohtyp"
     ]
    }
   ],
   "source": [
    "#print the string backwards\n",
    "str1=input(\"enter the string : \")  # string is providing through keyboard\n",
    "rev1=reversed(str1)           \n",
    "for i in rev1:\n",
    "    print(i,end='')"
   ]
  },
  {
   "cell_type": "code",
   "execution_count": 25,
   "id": "bc0015d0",
   "metadata": {},
   "outputs": [
    {
     "name": "stdout",
     "output_type": "stream",
     "text": [
      "enter the string : nagarani\n",
      "the seventh character is: n\n"
     ]
    }
   ],
   "source": [
    "#print 7th character if stringis long enough otherwise message\n",
    "str1=input(\"enter the string : \")  # string is providing through keyboard\n",
    "if len(str1)>=7:\n",
    "    print(\"the seventh character is:\",str1[7-1])\n",
    "else:\n",
    "    print(\"the string length is not enpough\")"
   ]
  },
  {
   "cell_type": "code",
   "execution_count": 51,
   "id": "5866f99f",
   "metadata": {},
   "outputs": [
    {
     "name": "stdout",
     "output_type": "stream",
     "text": [
      "enter the string : python\n",
      " ython\n"
     ]
    },
    {
     "data": {
      "text/plain": [
       "' ytho '"
      ]
     },
     "execution_count": 51,
     "metadata": {},
     "output_type": "execute_result"
    }
   ],
   "source": [
    "#the string with its first and last characters removed\n",
    "str1=input(\"enter the string : \")  # string is providing through keyboard\n",
    "str2=''                            # str2 is empty string\n",
    "str2=str1.replace(str1[0],' ',1)   \n",
    "print(str2)\n",
    "str2.replace(str2[-1],' ',1)\n"
   ]
  },
  {
   "cell_type": "code",
   "execution_count": 56,
   "id": "325819f1",
   "metadata": {},
   "outputs": [
    {
     "name": "stdout",
     "output_type": "stream",
     "text": [
      "enter the string : python\n"
     ]
    },
    {
     "data": {
      "text/plain": [
       "'ytho'"
      ]
     },
     "execution_count": 56,
     "metadata": {},
     "output_type": "execute_result"
    }
   ],
   "source": [
    "str1=input(\"enter the string : \")  # string is providing through keyboard\n",
    "str2=''\n",
    "str2=str1[1:-1]                    #removed  first and last characters of string\n",
    "str2"
   ]
  },
  {
   "cell_type": "code",
   "execution_count": null,
   "id": "0adcae86",
   "metadata": {},
   "outputs": [],
   "source": []
  },
  {
   "cell_type": "code",
   "execution_count": 55,
   "id": "81ad7051",
   "metadata": {},
   "outputs": [
    {
     "name": "stdout",
     "output_type": "stream",
     "text": [
      "enter the string : python\n"
     ]
    },
    {
     "data": {
      "text/plain": [
       "'PYTHON'"
      ]
     },
     "execution_count": 55,
     "metadata": {},
     "output_type": "execute_result"
    }
   ],
   "source": [
    "#print string in all caps\n",
    "str1=input(\"enter the string : \")  # string is providing through keyboard\n",
    "str1.upper()                      #string changed into uppercase\n"
   ]
  },
  {
   "cell_type": "code",
   "execution_count": 57,
   "id": "87ccaeba",
   "metadata": {},
   "outputs": [
    {
     "name": "stdout",
     "output_type": "stream",
     "text": [
      "enter the string : a and an are articles\n"
     ]
    },
    {
     "data": {
      "text/plain": [
       "'e end en ere erticles'"
      ]
     },
     "execution_count": 57,
     "metadata": {},
     "output_type": "execute_result"
    }
   ],
   "source": [
    "# print the string with every 'a' replaced with an 'e'\n",
    "str1=input(\"enter the string : \")  # string is providing through keyboard\n",
    "str1.replace('a','e',-1)       # replaced 'a with 'e'"
   ]
  },
  {
   "cell_type": "markdown",
   "id": "222a773c",
   "metadata": {},
   "source": [
    "# 2.write aprogram that ask the user for a string and returns number of words in a string"
   ]
  },
  {
   "cell_type": "code",
   "execution_count": 63,
   "id": "4c42a938",
   "metadata": {},
   "outputs": [
    {
     "name": "stdout",
     "output_type": "stream",
     "text": [
      "enter the string : a aa aaa aaaa aaa aa a\n",
      "number of words are: 7\n"
     ]
    }
   ],
   "source": [
    "str1=input(\"enter the string : \")  # string is providing through keyboard\n",
    "space=str1.count(' ')        # count the number of spacesand words\n",
    "print(\"number of words are:\",space+1)"
   ]
  },
  {
   "cell_type": "markdown",
   "id": "574d42ec",
   "metadata": {},
   "source": [
    "# write a program to find vowels in string"
   ]
  },
  {
   "cell_type": "code",
   "execution_count": 67,
   "id": "28bce9fd",
   "metadata": {},
   "outputs": [
    {
     "name": "stdout",
     "output_type": "stream",
     "text": [
      "enter the string : capital\n",
      "a\n",
      "i\n",
      "a\n"
     ]
    }
   ],
   "source": [
    "str1=input(\"enter the string : \")  # string is providing through keyboard\n",
    "v1='aeiou'\n",
    "for i in str1:\n",
    "    if i in v1:\n",
    "        print(i)\n",
    "    "
   ]
  },
  {
   "cell_type": "markdown",
   "id": "f3f40337",
   "metadata": {},
   "source": [
    "#  4.write aprogram to find unique vowels"
   ]
  },
  {
   "cell_type": "code",
   "execution_count": 8,
   "id": "54444616",
   "metadata": {},
   "outputs": [
    {
     "name": "stdout",
     "output_type": "stream",
     "text": [
      "enter the string : an apple an ant\n"
     ]
    },
    {
     "data": {
      "text/plain": [
       "{'a': 1, 'e': 1}"
      ]
     },
     "execution_count": 8,
     "metadata": {},
     "output_type": "execute_result"
    }
   ],
   "source": [
    "str1=input(\"enter the string : \")  # string is providing through keyboard\n",
    "l1=[]\n",
    "d1={}\n",
    "for i in str1:\n",
    "    if i in 'aeiou':\n",
    "        l1.append(i)\n",
    "        d1[i]=1\n",
    "d1"
   ]
  },
  {
   "cell_type": "markdown",
   "id": "6da15163",
   "metadata": {},
   "source": [
    "# 5.write aprogram that asks the user to enter a string, the progarm should create new-string Q*bert!!!"
   ]
  },
  {
   "cell_type": "code",
   "execution_count": 11,
   "id": "511ccc6f",
   "metadata": {},
   "outputs": [
    {
     "name": "stdout",
     "output_type": "stream",
     "text": [
      "enter the string : Qbert\n",
      "enter the string : !!!\n"
     ]
    },
    {
     "data": {
      "text/plain": [
       "'Q*ert!!!'"
      ]
     },
     "execution_count": 11,
     "metadata": {},
     "output_type": "execute_result"
    }
   ],
   "source": [
    "str1=input(\"enter the string : \")  # string is providing through keyboard\n",
    "str2=input(\"enter the string : \")  # string is providing through keyboard\n",
    "str3=''\n",
    "str3=str1.replace(str1[1],'*',1)\n",
    "str3+str2\n",
    "\n",
    "        "
   ]
  },
  {
   "cell_type": "markdown",
   "id": "4cc6edc9",
   "metadata": {},
   "source": [
    "# 6.write a program that ask the user to enter a word  and determines whether a word palindrome or not"
   ]
  },
  {
   "cell_type": "code",
   "execution_count": 54,
   "id": "f79a5d3d",
   "metadata": {},
   "outputs": [
    {
     "name": "stdout",
     "output_type": "stream",
     "text": [
      "enter the string : eye\n",
      "reverse of word is eye\n",
      "the word eye is palindrome\n"
     ]
    }
   ],
   "source": [
    "str1=input(\"enter the string : \")  # string is providing through keyboard\n",
    "str2=''\n",
    "rev1=reversed(str1)                 #reverse the string\n",
    "for i in rev1:\n",
    "    str2=str2+i\n",
    "print(\"reverse of word is\",str2)\n",
    "\n",
    "if str1==str2:\n",
    "    print(\"the word {} is palindrome\".format(str1))\n",
    "        \n",
    "else:\n",
    "    print(\"the word {} is not palindrome\".format(str1))"
   ]
  },
  {
   "cell_type": "markdown",
   "id": "ad629108",
   "metadata": {},
   "source": [
    "# 7. write a program that asks the user how many email addresses entering ,then enter those addresses,find those sre related to student or professor "
   ]
  },
  {
   "cell_type": "code",
   "execution_count": 50,
   "id": "0c2974b3",
   "metadata": {},
   "outputs": [
    {
     "name": "stdout",
     "output_type": "stream",
     "text": [
      "number of email addresses 3\n",
      "enter email address : rani@student.college.edu\n",
      "the addresses belongs to student\n",
      "enter email address : raishi@prof.college.edu\n",
      "the addresses belongs to professor\n",
      "enter email address : rishitha@student.college.edu\n",
      "the addresses belongs to student\n"
     ]
    }
   ],
   "source": [
    "num_addr=eval(input(\"number of email addresses \"))  # entered number of addresses\n",
    "sadd='@student.college.edu'                         # given address store in sadd\n",
    "str1=''\n",
    "for i in range(num_addr):\n",
    "    email1=input(\"enter email address : \")          # student/professor address entered through keyboard\n",
    "    str1=email1\n",
    "    if email1[email1.find('@')+1:email1.find('.')]==sadd[0+1:sadd.find('.')]: #compare the enter address with given address\n",
    "        print(\"the addresses belongs to student\")                             #if it is True ,aaddress belongs to student\n",
    "    else:\n",
    "        print(\"the addresses belongs to professor\")                            #else address belongs to professor\n"
   ]
  },
  {
   "cell_type": "markdown",
   "id": "cd61cc17",
   "metadata": {},
   "source": [
    "# 8.write a program that asks the user to enter a string ,print out each letter of the string doubled and on a sepetate line "
   ]
  },
  {
   "cell_type": "code",
   "execution_count": 56,
   "id": "8d741e59",
   "metadata": {},
   "outputs": [
    {
     "name": "stdout",
     "output_type": "stream",
     "text": [
      "enter the string : python\n",
      "pp\n",
      "yy\n",
      "tt\n",
      "hh\n",
      "oo\n",
      "nn\n"
     ]
    }
   ],
   "source": [
    "str1=input(\"enter the string : \")  # string is providing through keyboard\n",
    "for i in str1:                  #iterate the striing with for loop \n",
    "    print(i*2)                  # printed each letter double times"
   ]
  },
  {
   "cell_type": "markdown",
   "id": "03c36f5a",
   "metadata": {},
   "source": [
    "# 9.write aprogram that asks the userto enter string that should becontains 'a',\n",
    "# if 'a' occurce in the string then upto 'a' print in 1st line ,  remaing should print in 2nd line"
   ]
  },
  {
   "cell_type": "code",
   "execution_count": 9,
   "id": "19aba67e",
   "metadata": {},
   "outputs": [
    {
     "name": "stdout",
     "output_type": "stream",
     "text": [
      "enter the string : buffalo\n",
      "buffa\n",
      "lo"
     ]
    }
   ],
   "source": [
    "str1=input(\"enter the string : \")  # string is providing through keyboard\n",
    "str2=''\n",
    "str3=''\n",
    "for i in str1:\n",
    "    if i!='a':\n",
    "        print(i,end='')\n",
    "    else:\n",
    "        print(i)"
   ]
  },
  {
   "cell_type": "markdown",
   "id": "bbd60a50",
   "metadata": {},
   "source": [
    "# 10.write a program that asks the user to enter a word and capitalizes every other letter of that word"
   ]
  },
  {
   "cell_type": "code",
   "execution_count": 4,
   "id": "4d4765f0",
   "metadata": {},
   "outputs": [
    {
     "name": "stdout",
     "output_type": "stream",
     "text": [
      "enter the string : rhinoceros\n",
      "rHiNoCeRoS"
     ]
    }
   ],
   "source": [
    "str1=input(\"enter the string : \")  # string is providing through keyboard\n",
    "for i in range(len(str1)):          #\n",
    "    if i%2==0:                      \n",
    "        print(str1[i],end='')\n",
    "    else:\n",
    "        print(str1[i].capitalize(),end='')"
   ]
  },
  {
   "cell_type": "markdown",
   "id": "cf5c283a",
   "metadata": {},
   "source": [
    "# 11.write a program that asks the user to enter two stringsof the same length , if length of both strings equal then alternate the characters of the two strings ,otherwise exit program"
   ]
  },
  {
   "cell_type": "code",
   "execution_count": 25,
   "id": "1d53d51a",
   "metadata": {},
   "outputs": [
    {
     "name": "stdout",
     "output_type": "stream",
     "text": [
      "enter the string : abcde\n",
      "enter the string : ABCDE\n",
      "AaBbCcDdEe"
     ]
    }
   ],
   "source": [
    "str1=input(\"enter the string : \")  # string is providing through keyboard\n",
    "str2=input(\"enter the string : \")  # string is providing through keyboard\n",
    "str3=''\n",
    "if len(str1)==len(str2):            #compare the length of both strings\n",
    "    for i,j in zip (str2,str1):     # iterate the both strings using for loop\n",
    "        print(i,end='')\n",
    "        print(j,end='')             # alternate the characters of both strings\n",
    "        \n",
    "else:\n",
    "    print(\"the length of two strings are not same\")  # if both are not in same length print message\n",
    "    "
   ]
  },
  {
   "cell_type": "markdown",
   "id": "e4095f4b",
   "metadata": {},
   "source": [
    "# 12.write a program that asks the user to enter their name in lowercase and capitalize the first letter of each word"
   ]
  },
  {
   "cell_type": "code",
   "execution_count": 10,
   "id": "46b4bd16",
   "metadata": {},
   "outputs": [
    {
     "name": "stdout",
     "output_type": "stream",
     "text": [
      "enter the string : nagarani\n"
     ]
    },
    {
     "data": {
      "text/plain": [
       "'Nagarani'"
      ]
     },
     "execution_count": 10,
     "metadata": {},
     "output_type": "execute_result"
    }
   ],
   "source": [
    "str1=input(\"enter the string : \")  # string is providing through keyboard\n",
    "str1.capitalize()                   #capitalize the given string by using capitalize ()\n"
   ]
  },
  {
   "cell_type": "markdown",
   "id": "354cb847",
   "metadata": {},
   "source": [
    "# 13.write a program that asks the user to enter a string and letter  without using the in operator  and prints out whether or not appears in the string."
   ]
  },
  {
   "cell_type": "code",
   "execution_count": 9,
   "id": "7635e467",
   "metadata": {},
   "outputs": [
    {
     "name": "stdout",
     "output_type": "stream",
     "text": [
      "enter the string : rani\n",
      "enter the string : a\n",
      "['r', 'a', 'n', 'i']\n",
      "the letter a not appears \n",
      "the letter a appears \n"
     ]
    }
   ],
   "source": [
    "str1=input(\"enter the string : \")  # string is providing through keyboard\n",
    "letter=input(\"enter the string : \")  # string is providing through keyboard\n",
    "list1=[]\n",
    "i=0\n",
    "while i<len(str1):\n",
    "    list1.append(str1[i])   # append the string into list \n",
    "    i=i+1\n",
    "print(list1)   #prints the list\n",
    "\n",
    "i=0\n",
    "while i<len(list1):\n",
    "    if list1[i]==letter:     #if letter = letter of list \n",
    "        print(\"the letter {} appears \".format(letter))    # print letter \n",
    "        break\n",
    "    else:\n",
    "        print(\"the letter {} not appears \".format(letter))  #else prints message\n",
    "    i+=1\n",
    "\n",
    "#print(\"the given letter appears in string in the index of : \", str1.find(l1)) # finding given letter in string"
   ]
  },
  {
   "cell_type": "markdown",
   "id": "19636b5c",
   "metadata": {},
   "source": [
    "# 13.without using the count method ,write aprogram that asks the user to enter a string and letter ,print how many letter occurences are there  in a string."
   ]
  },
  {
   "cell_type": "code",
   "execution_count": 10,
   "id": "1cc17105",
   "metadata": {},
   "outputs": [
    {
     "name": "stdout",
     "output_type": "stream",
     "text": [
      "enter the string : an apple an ant\n",
      "enter a letter :a\n",
      "number of occurences of letter a is 4 \n"
     ]
    }
   ],
   "source": [
    "str1=input(\"enter the string : \")  # string is providing through keyboard\n",
    "l1=input(\"enter a letter :\")       #letter provdided through keyboard\n",
    "count=0\n",
    "i=0\n",
    "while i<len(str1):\n",
    "    if l1==str1[i]:   # number of occurences of a given letter in string\n",
    "        count+=1\n",
    "    i+=1\n",
    "print(\"number of occurences of letter {} is {} \".format(l1,count))"
   ]
  },
  {
   "cell_type": "markdown",
   "id": "9e48ac50",
   "metadata": {},
   "source": [
    "# 13 without using index method ,write aprogram that asks the user to enter a string and letter ,print first index of letter ,otherwise print message"
   ]
  },
  {
   "cell_type": "code",
   "execution_count": 22,
   "id": "f876cd8a",
   "metadata": {},
   "outputs": [
    {
     "name": "stdout",
     "output_type": "stream",
     "text": [
      "enter the string : gaaana\n",
      "enter a letter :a\n",
      "first index of a in string is 1\n"
     ]
    }
   ],
   "source": [
    "str1=input(\"enter the string : \")  # string is providing through keyboard\n",
    "l1=input(\"enter a letter :\") #letter provdided through keyboard\n",
    "i=0\n",
    "while i<len(str1):\n",
    "    \n",
    "    if l1==str1[i]:\n",
    "        print(\"first index of {} in string is {}\".format(str1[i],i))  # first index of given leteer in string\n",
    "        break\n",
    "        \n",
    "    i=i+1"
   ]
  },
  {
   "cell_type": "code",
   "execution_count": null,
   "id": "1b8ce25e",
   "metadata": {},
   "outputs": [],
   "source": []
  },
  {
   "cell_type": "markdown",
   "id": "53a32f86",
   "metadata": {},
   "source": [
    "# 14.write a program to find a substring within a given string"
   ]
  },
  {
   "cell_type": "code",
   "execution_count": 20,
   "id": "4ac10e87",
   "metadata": {},
   "outputs": [
    {
     "data": {
      "text/plain": [
       "'uct.ac.za'"
      ]
     },
     "execution_count": 20,
     "metadata": {},
     "output_type": "execute_result"
    }
   ],
   "source": [
    "str1='From stephen.marquard@uct.ac.za sat jan 5 09:14:16 2008'\n",
    "str1[str1.find('@')+1:str1.find(' ',str1.find(' ')+1)] # finding string after @ and before space"
   ]
  },
  {
   "cell_type": "markdown",
   "id": "15aa8fa6",
   "metadata": {},
   "source": [
    "# 15.write a program to add 'ing' at the end of a given string,if already ends with 'ing' then add 'ly'instead,if the string length is <3 leave it unchanged"
   ]
  },
  {
   "cell_type": "code",
   "execution_count": 23,
   "id": "3eadc1cd",
   "metadata": {},
   "outputs": [
    {
     "name": "stdout",
     "output_type": "stream",
     "text": [
      "enter the string : string\n",
      "Expected Result  : stringly\n"
     ]
    }
   ],
   "source": [
    "str1=input(\"enter the string : \")  # string is providing through keyboard\n",
    "str2='ing'                        # store the 'ing' str2\n",
    "str3='ly'                         # store the 'ly' str3\n",
    "str4=''\n",
    "if len(str1)>=3:                  # if length is >3\n",
    "    if str1.endswith(\"ing\"):      # if string endswith 'ing'\n",
    "        str4=str1+str3\n",
    "        print(\"Expected Result  :\",str4)   #add 'ly' at the end of string'\n",
    "    else:\n",
    "        str4=str1+str2                     #else\n",
    "        print(\"Expected Result : \",str4)   # string not end with 'ing ' then added 'ing'\n",
    "    \n",
    "else:\n",
    "    print(\"leave it unchanged\")             #else leave it unchanged"
   ]
  },
  {
   "cell_type": "markdown",
   "id": "af4ea552",
   "metadata": {},
   "source": [
    "# string='X-DSAM-Confidence:0.8475' \n",
    "# extract the string after the colon character and then use the float function to convert the extracted string into a floating point number"
   ]
  },
  {
   "cell_type": "code",
   "execution_count": 36,
   "id": "e061f1fb",
   "metadata": {},
   "outputs": [
    {
     "name": "stdout",
     "output_type": "stream",
     "text": [
      "floating point number: 0.8475\n"
     ]
    }
   ],
   "source": [
    "str1='X-DSAM-Confidence:0.8475'\n",
    "str2=''\n",
    "str2=float(str1[str1.find(':')+1:])    # find the string after colon character and converted into float and print the output\n",
    "print(\"floating point number:\",str2)"
   ]
  },
  {
   "cell_type": "code",
   "execution_count": null,
   "id": "a8d4ddaf",
   "metadata": {},
   "outputs": [],
   "source": []
  }
 ],
 "metadata": {
  "kernelspec": {
   "display_name": "Python 3 (ipykernel)",
   "language": "python",
   "name": "python3"
  },
  "language_info": {
   "codemirror_mode": {
    "name": "ipython",
    "version": 3
   },
   "file_extension": ".py",
   "mimetype": "text/x-python",
   "name": "python",
   "nbconvert_exporter": "python",
   "pygments_lexer": "ipython3",
   "version": "3.11.5"
  }
 },
 "nbformat": 4,
 "nbformat_minor": 5
}
