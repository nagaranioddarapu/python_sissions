{
 "cells": [
  {
   "cell_type": "code",
   "execution_count": 3,
   "id": "685f0b88",
   "metadata": {},
   "outputs": [
    {
     "name": "stdout",
     "output_type": "stream",
     "text": [
      "enter radius7\n",
      "radius of the circle is 154.0 \n"
     ]
    }
   ],
   "source": [
    "# find area of circle\n",
    "radi=eval(input(\"enter radius\"))\n",
    "area=round(22/7*radi*radi,3) #pii*r*r\n",
    "print(\"radius of the circle is {} \".format(area))"
   ]
  },
  {
   "cell_type": "code",
   "execution_count": 7,
   "id": "403dbe0a",
   "metadata": {},
   "outputs": [
    {
     "name": "stdout",
     "output_type": "stream",
     "text": [
      "enter radius5\n",
      "radius of the circle is 78.54 \n"
     ]
    }
   ],
   "source": [
    "#without arguments# find area of circle\n",
    "import math\n",
    "def radius():\n",
    "    radi=eval(input(\"enter radius\"))\n",
    "    pii=math.pi\n",
    "    area=round(pii*radi*radi,3) #pii*r*r\n",
    "    print(\"radius of the circle is {} \".format(area))\n",
    "    \n",
    "radius()\n"
   ]
  },
  {
   "cell_type": "code",
   "execution_count": 9,
   "id": "425cb834",
   "metadata": {},
   "outputs": [
    {
     "name": "stdout",
     "output_type": "stream",
     "text": [
      "enter radius8\n",
      "radius of the circle is 201.062 \n"
     ]
    }
   ],
   "source": [
    "#with arguments# find area of circle\n",
    "import math\n",
    "def radius(radi):\n",
    "    pii=math.pi\n",
    "    area=round(pii*radi*radi,3) #pii*r*r\n",
    "    print(\"radius of the circle is {} \".format(area))\n",
    "    \n",
    "radius(eval(input(\"enter radius\")))\n"
   ]
  },
  {
   "cell_type": "code",
   "execution_count": 10,
   "id": "2655babb",
   "metadata": {},
   "outputs": [
    {
     "name": "stdout",
     "output_type": "stream",
     "text": [
      "radius of the circle is 113.097 \n"
     ]
    }
   ],
   "source": [
    "#defualt arguments\n",
    "# find area of circle\n",
    "import math\n",
    "def radius(pii,radi=6):\n",
    "    area=round(pii*radi*radi,3) #pii*r*r\n",
    "    print(\"radius of the circle is {} \".format(area))\n",
    "    \n",
    "radius(math.pi)#or pii=math.pi\n"
   ]
  },
  {
   "cell_type": "code",
   "execution_count": 11,
   "id": "b541598e",
   "metadata": {},
   "outputs": [
    {
     "name": "stdout",
     "output_type": "stream",
     "text": [
      "radius of the circle is 113.097 \n"
     ]
    }
   ],
   "source": [
    "#defualt arguments\n",
    "# return values incomplete\n",
    "import math\n",
    "def radius(pii,radi=6):\n",
    "    area11=round(pii*radi*radi,3) #pii*r*r\n",
    "    print(\"radius of the circle is {} \".format(area11))\n",
    "    \n",
    "radius(math.pi)#or pii=math.pi\n"
   ]
  },
  {
   "cell_type": "code",
   "execution_count": 1,
   "id": "edfbe5d6",
   "metadata": {},
   "outputs": [
    {
     "ename": "NameError",
     "evalue": "name 'area11' is not defined",
     "output_type": "error",
     "traceback": [
      "\u001b[1;31m---------------------------------------------------------------------------\u001b[0m",
      "\u001b[1;31mNameError\u001b[0m                                 Traceback (most recent call last)",
      "Cell \u001b[1;32mIn[1], line 1\u001b[0m\n\u001b[1;32m----> 1\u001b[0m area11\n",
      "\u001b[1;31mNameError\u001b[0m: name 'area11' is not defined"
     ]
    }
   ],
   "source": [
    "area11"
   ]
  },
  {
   "cell_type": "code",
   "execution_count": 3,
   "id": "eb1b0f38",
   "metadata": {},
   "outputs": [
    {
     "name": "stdout",
     "output_type": "stream",
     "text": [
      "enter number23\n",
      "enter number34\n",
      "enter number45\n",
      "avg is 34.0\n",
      "102\n",
      " avg is  34.0\n",
      "sum is  102\n"
     ]
    }
   ],
   "source": [
    "def avg():\n",
    "    num1=eval(input(\"enter number\"))\n",
    "    num2=eval(input(\"enter number\"))    \n",
    "    num3=eval(input(\"enter number\"))   \n",
    "    sum1=num1+num2+num3\n",
    "    avg1=sum1/3\n",
    "    print(\"avg is {}\".format(avg1))\n",
    "    print(sum1)\n",
    "    return(avg1,sum1)\n",
    "    \n",
    "avg11,sum11=avg()\n",
    "print(\" avg is \",avg11)\n",
    "print(\"sum is \",sum11)\n",
    "    \n"
   ]
  },
  {
   "cell_type": "code",
   "execution_count": 11,
   "id": "0f8f21fa",
   "metadata": {},
   "outputs": [
    {
     "name": "stdout",
     "output_type": "stream",
     "text": [
      "enter num25\n",
      "avg is 3.33\n",
      "10\n",
      " avg is  (3.33, 10)\n"
     ]
    }
   ],
   "source": [
    "def avg(num1,num2,num3=4):\n",
    "    sum1=num1+num2+num3\n",
    "    avg1=round(sum1/3,2)\n",
    "    print(\"avg is {}\".format(avg1))\n",
    "    print(sum1)\n",
    "    return(avg1,sum1)\n",
    "    \n",
    "avg11=avg(1,eval(input(\"enter num2\")))\n",
    "print(\" avg is \",avg11)\n",
    "\n",
    "    \n"
   ]
  },
  {
   "cell_type": "code",
   "execution_count": 17,
   "id": "782c2dc8",
   "metadata": {},
   "outputs": [
    {
     "name": "stdout",
     "output_type": "stream",
     "text": [
      "enter num2\n",
      "enter num3\n",
      "enter num4\n",
      "n3 is big 4\n"
     ]
    }
   ],
   "source": [
    "#find biggest number\n",
    "n1=eval(input(\"enter num\"))\n",
    "n2=eval(input(\"enter num\"))\n",
    "n3=eval(input(\"enter num\"))\n",
    "if n1>n2 and n2>n3:\n",
    "    print(\"n1 is big num\",n1)\n",
    "elif n2>n3:\n",
    "    print(\"n2 is big\",n2)\n",
    "else:\n",
    "    print(\"n3 is big\",n3)"
   ]
  },
  {
   "cell_type": "code",
   "execution_count": 18,
   "id": "71b3b8a0",
   "metadata": {},
   "outputs": [
    {
     "name": "stdout",
     "output_type": "stream",
     "text": [
      "n133\n",
      "enter number2444\n",
      "enter number3333\n",
      "n2 is big 444\n",
      "abc is 444\n"
     ]
    }
   ],
   "source": [
    "#using function\n",
    "def big(n1,n2,n3=90): #n3 is over written by 99\n",
    "    if n1>n2 and n2>n3:\n",
    "        print(\"n1 is big\",n1)\n",
    "        a=n1\n",
    "        return(a)\n",
    "    elif n2>n3:\n",
    "        print(\"n2 is big\",n2)\n",
    "        a=n2\n",
    "        return(a)\n",
    "    else:\n",
    "        print(\"n3 is big\",n3)\n",
    "        a=n3\n",
    "        return(a)\n",
    "\n",
    "abc=big(eval(input(\"n1\")),eval(input(\"enter number2\")),eval(input(\"enter number3\")))\n",
    "print(\"abc is\",abc)"
   ]
  },
  {
   "cell_type": "code",
   "execution_count": 22,
   "id": "d72eaf9e",
   "metadata": {},
   "outputs": [
    {
     "name": "stdout",
     "output_type": "stream",
     "text": [
      "num is  -10\n"
     ]
    }
   ],
   "source": [
    "def sub(a,b):\n",
    "    return(a-b)\n",
    "\n",
    "num=sub(40,50)\n",
    "print(\"num is \",num)\n",
    "\n"
   ]
  },
  {
   "cell_type": "code",
   "execution_count": 23,
   "id": "b21dad8a",
   "metadata": {},
   "outputs": [
    {
     "name": "stdout",
     "output_type": "stream",
     "text": [
      "num is  2000\n"
     ]
    }
   ],
   "source": [
    "def sub(a,b):\n",
    "    return(a*b)\n",
    "\n",
    "num=sub(40,50)\n",
    "print(\"num is \",num)\n",
    "\n"
   ]
  },
  {
   "cell_type": "code",
   "execution_count": 24,
   "id": "2d061755",
   "metadata": {},
   "outputs": [
    {
     "name": "stdout",
     "output_type": "stream",
     "text": [
      "num is  0.8\n"
     ]
    }
   ],
   "source": [
    "def sub(a,b):\n",
    "    return(a/b)\n",
    "\n",
    "num=sub(40,50)\n",
    "print(\"num is \",num)\n",
    "\n"
   ]
  },
  {
   "cell_type": "code",
   "execution_count": null,
   "id": "c3925405",
   "metadata": {},
   "outputs": [],
   "source": [
    "def sub(a,b):\n",
    "    return(a+b)\n",
    "\n",
    "num=sub(40,50)\n",
    "print(\"num is \",num)\n",
    "\n"
   ]
  },
  {
   "cell_type": "code",
   "execution_count": 19,
   "id": "4e6ae62d",
   "metadata": {},
   "outputs": [
    {
     "name": "stdout",
     "output_type": "stream",
     "text": [
      "num is  90\n",
      "num is  -10\n",
      "num is  2000\n",
      "num is  0.8\n"
     ]
    }
   ],
   "source": [
    "def add(a,b):\n",
    "    return(a+b)\n",
    "def sub(a,b):\n",
    "    return(a-b)\n",
    "def mul(a,b):\n",
    "    return(a*b)\n",
    "def div(a,b):\n",
    "    return(a/b)\n",
    "\n",
    "num=add(40,50)\n",
    "print(\"num is \",num)\n",
    "num=sub(40,50)\n",
    "print(\"num is \",num)\n",
    "num=mul(40,50)\n",
    "print(\"num is \",num)\n",
    "num=div(40,50)\n",
    "print(\"num is \",num)\n",
    "\n"
   ]
  },
  {
   "cell_type": "code",
   "execution_count": 20,
   "id": "3917e866",
   "metadata": {},
   "outputs": [
    {
     "name": "stdout",
     "output_type": "stream",
     "text": [
      "56 -12 748 1\n"
     ]
    }
   ],
   "source": [
    "def add(a,b):\n",
    "    return(a+b,a-b,a*b,round(a/b))\n",
    "add,sub,mul,div=add(22,34)\n",
    "print(add,sub,mul,div)"
   ]
  },
  {
   "cell_type": "code",
   "execution_count": 21,
   "id": "01a24cb6",
   "metadata": {},
   "outputs": [
    {
     "name": "stdout",
     "output_type": "stream",
     "text": [
      "(56, -12, 748, 1)\n"
     ]
    }
   ],
   "source": [
    "def add(a,b):\n",
    "    return(a+b,a-b,a*b,round(a/b))\n",
    "add=add(22,34)\n",
    "print(add)"
   ]
  },
  {
   "cell_type": "code",
   "execution_count": null,
   "id": "170040e6",
   "metadata": {},
   "outputs": [],
   "source": []
  }
 ],
 "metadata": {
  "kernelspec": {
   "display_name": "Python 3 (ipykernel)",
   "language": "python",
   "name": "python3"
  },
  "language_info": {
   "codemirror_mode": {
    "name": "ipython",
    "version": 3
   },
   "file_extension": ".py",
   "mimetype": "text/x-python",
   "name": "python",
   "nbconvert_exporter": "python",
   "pygments_lexer": "ipython3",
   "version": "3.11.5"
  }
 },
 "nbformat": 4,
 "nbformat_minor": 5
}
