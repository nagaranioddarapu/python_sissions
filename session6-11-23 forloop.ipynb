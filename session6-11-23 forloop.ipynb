{
 "cells": [
  {
   "cell_type": "markdown",
   "id": "1f8af03e",
   "metadata": {},
   "source": [
    "# for loop"
   ]
  },
  {
   "cell_type": "code",
   "execution_count": 1,
   "id": "1ac90f51",
   "metadata": {},
   "outputs": [
    {
     "name": "stdout",
     "output_type": "stream",
     "text": [
      "hi\n",
      "hi\n",
      "hi\n"
     ]
    }
   ],
   "source": [
    "for i in range(3):\n",
    "    print(\"hi\")"
   ]
  },
  {
   "cell_type": "code",
   "execution_count": 2,
   "id": "977d9c21",
   "metadata": {},
   "outputs": [
    {
     "name": "stdout",
     "output_type": "stream",
     "text": [
      "A\n",
      "A\n",
      "A\n",
      "B\n",
      "B\n",
      "c\n",
      "c\n",
      "c\n"
     ]
    }
   ],
   "source": [
    "for i in range(3):\n",
    "    print('A')\n",
    "for i in range(2):\n",
    "    print('B')\n",
    "for i in range(3):\n",
    "    print('c')"
   ]
  },
  {
   "cell_type": "code",
   "execution_count": 3,
   "id": "6f4d4bdb",
   "metadata": {},
   "outputs": [
    {
     "name": "stdout",
     "output_type": "stream",
     "text": [
      "A\n",
      "B\n",
      "A\n",
      "B\n",
      "A\n",
      "B\n",
      "c\n",
      "c\n",
      "c\n"
     ]
    }
   ],
   "source": [
    "for i in range(3):\n",
    "    print('A')\n",
    "    print('B')\n",
    "for i in range(3):\n",
    "    print('c')"
   ]
  },
  {
   "cell_type": "code",
   "execution_count": 4,
   "id": "65ab9e96",
   "metadata": {},
   "outputs": [
    {
     "name": "stdout",
     "output_type": "stream",
     "text": [
      "the square of 10 is 100\n",
      "the square of 11 is 121\n",
      "the square of 12 is 144\n",
      "the square of 13 is 169\n",
      "the square of 14 is 196\n"
     ]
    }
   ],
   "source": [
    "for i in range(10,16):\n",
    "    print(\"the square of {} is {}\".format(i,i*i))"
   ]
  },
  {
   "cell_type": "code",
   "execution_count": 2,
   "id": "48d5dfda",
   "metadata": {},
   "outputs": [
    {
     "name": "stdout",
     "output_type": "stream",
     "text": [
      "the square of 10 is 100\n",
      "the square of 11 is 121\n",
      "the square of 12 is 144\n",
      "the square of 13 is 169\n",
      "the square of 14 is 196\n",
      "the square of 15 is 225\n"
     ]
    }
   ],
   "source": [
    "def sq():\n",
    "    for i in range(10,16):\n",
    "        print(\"the square of {} is {}\".format(i,i*i))\n",
    "    \n",
    "sq()"
   ]
  },
  {
   "cell_type": "code",
   "execution_count": 3,
   "id": "432b03d5",
   "metadata": {},
   "outputs": [
    {
     "name": "stdout",
     "output_type": "stream",
     "text": [
      "the square of 10 is 100\n",
      "the square of 11 is 121\n",
      "the square of 12 is 144\n",
      "the square of 13 is 169\n",
      "the square of 14 is 196\n",
      "the square of 15 is 225\n"
     ]
    }
   ],
   "source": [
    "def sq(a,b):\n",
    "    for i in range(a,b):\n",
    "        print(\"the square of {} is {}\".format(i,i*i))\n",
    "    \n",
    "sq(10,16)"
   ]
  },
  {
   "cell_type": "code",
   "execution_count": 4,
   "id": "7116500b",
   "metadata": {},
   "outputs": [
    {
     "name": "stdout",
     "output_type": "stream",
     "text": [
      "the square of 10 is 100\n",
      "the square of 11 is 121\n",
      "the square of 12 is 144\n"
     ]
    }
   ],
   "source": [
    "def sq(a,b):\n",
    "    for i in range(a,b):\n",
    "        print(\"the square of {} is {}\".format(i,i*i))\n",
    "a=10\n",
    "b=13\n",
    "sq(a,b)"
   ]
  },
  {
   "cell_type": "code",
   "execution_count": 5,
   "id": "afdf3dd6",
   "metadata": {},
   "outputs": [
    {
     "name": "stdout",
     "output_type": "stream",
     "text": [
      "enter start number:10\n",
      "enter stop number:13\n",
      "the square of 10 is 100\n",
      "the square of 11 is 121\n",
      "the square of 12 is 144\n"
     ]
    }
   ],
   "source": [
    "def sq(a,b):\n",
    "    for i in range(a,b):\n",
    "        print(\"the square of {} is {}\".format(i,i*i))\n",
    "a=eval(input(\"enter start number:\"))\n",
    "b=eval(input(\"enter stop number:\"))\n",
    "sq(a,b)"
   ]
  },
  {
   "cell_type": "code",
   "execution_count": 6,
   "id": "1d48476a",
   "metadata": {},
   "outputs": [
    {
     "name": "stdout",
     "output_type": "stream",
     "text": [
      "enter start number:4\n",
      "enter stop number:7\n",
      "the square of 4 is 16\n",
      "the square of 5 is 25\n",
      "the square of 6 is 36\n"
     ]
    }
   ],
   "source": [
    "def sq(a,b):\n",
    "    for i in range(a,b):\n",
    "        print(\"the square of {} is {}\".format(i,i*i))\n",
    "\n",
    "sq(eval(input(\"enter start number:\")),eval(input(\"enter stop number:\")))"
   ]
  },
  {
   "cell_type": "code",
   "execution_count": 9,
   "id": "1e20a9de",
   "metadata": {},
   "outputs": [
    {
     "ename": "SyntaxError",
     "evalue": "positional argument follows keyword argument (3524482903.py, line 5)",
     "output_type": "error",
     "traceback": [
      "\u001b[1;36m  Cell \u001b[1;32mIn[9], line 5\u001b[1;36m\u001b[0m\n\u001b[1;33m    sq(a=3,b)\u001b[0m\n\u001b[1;37m            ^\u001b[0m\n\u001b[1;31mSyntaxError\u001b[0m\u001b[1;31m:\u001b[0m positional argument follows keyword argument\n"
     ]
    }
   ],
   "source": [
    "def sq(a,b=6):\n",
    "    for i in range(a,b):\n",
    "        print(\"the square of {} is {}\".format(i,i*i))\n",
    "\n",
    "sq(a=3,b)"
   ]
  },
  {
   "cell_type": "code",
   "execution_count": 12,
   "id": "a7534412",
   "metadata": {},
   "outputs": [
    {
     "name": "stdout",
     "output_type": "stream",
     "text": [
      "the square of 3 is 9\n",
      "the square of 4 is 16\n",
      "the square of 5 is 25\n",
      "the square of 6 is 36\n",
      "the square of 7 is 49\n"
     ]
    }
   ],
   "source": [
    "def sq(a,b=6):#b=6 is a default argument and 6 is overwritten by 7\n",
    "    b=8\n",
    "    for i in range(a,b):\n",
    "        print(\"the square of {} is {}\".format(i,i*i))\n",
    "\n",
    "sq(a=3,b=7)"
   ]
  },
  {
   "cell_type": "code",
   "execution_count": 15,
   "id": "dc50c695",
   "metadata": {},
   "outputs": [
    {
     "name": "stdout",
     "output_type": "stream",
     "text": [
      "enter a number11\n",
      "enter b number13\n",
      "the square of 11 is 121\n",
      "the square of 12 is 144\n"
     ]
    }
   ],
   "source": [
    "def sq(a,b=6):#b=6 is a default argument and 6 is overwritten by 7\n",
    "    a=eval(input(\"enter a number\"))\n",
    "    b=eval(input(\"enter b number\"))\n",
    "    for i in range(a,b):\n",
    "        print(\"the square of {} is {}\".format(i,i*i))\n",
    "\n",
    "sq(a=3,b=7)"
   ]
  },
  {
   "cell_type": "code",
   "execution_count": 16,
   "id": "f8e37537",
   "metadata": {},
   "outputs": [
    {
     "name": "stdout",
     "output_type": "stream",
     "text": [
      "2\n",
      "4\n",
      "the square of 2 is 4\n",
      "the square of 3 is 9\n"
     ]
    }
   ],
   "source": [
    "num1=eval(input())\n",
    "num2=eval(input())\n",
    "for i in range(num1,num2):\n",
    "    print((\"the square of {} is {}\".format(i,i*i)))"
   ]
  },
  {
   "cell_type": "code",
   "execution_count": 9,
   "id": "87fa15e5",
   "metadata": {},
   "outputs": [
    {
     "name": "stdout",
     "output_type": "stream",
     "text": [
      "10\n",
      "16\n",
      "the square of 10 is 100\n",
      "the square of 11 is 121\n",
      "the square of 12 is 144\n",
      "the square of 13 is 169\n",
      "the square of 14 is 196\n",
      "the square of 15 is 225\n"
     ]
    }
   ],
   "source": [
    "def square():\n",
    "    num1=eval(input())\n",
    "    num2=eval(input())\n",
    "    for i in range(num1,num2):\n",
    "        print((\"the square of {} is {}\".format(i,i*i)))\n",
    "    \n",
    "square()"
   ]
  },
  {
   "cell_type": "code",
   "execution_count": 17,
   "id": "11b21460",
   "metadata": {},
   "outputs": [
    {
     "name": "stdout",
     "output_type": "stream",
     "text": [
      "the square of 10 is 100\n",
      "the square of 11 is 121\n",
      "the square of 12 is 144\n",
      "the square of 13 is 169\n",
      "the square of 14 is 196\n",
      "the square of 15 is 225\n"
     ]
    }
   ],
   "source": [
    "def square(num1,num2):\n",
    "    for i in range(num1,num2):\n",
    "        print((\"the square of {} is {}\".format(i,i*i)))\n",
    "    \n",
    "square(10,16)"
   ]
  },
  {
   "cell_type": "code",
   "execution_count": 11,
   "id": "8f23a283",
   "metadata": {
    "scrolled": true
   },
   "outputs": [
    {
     "name": "stdout",
     "output_type": "stream",
     "text": [
      "enter number10\n",
      "the square of 10 is 100\n",
      "enter number11\n",
      "the square of 11 is 121\n",
      "enter number12\n",
      "the square of 12 is 144\n",
      "enter number13\n",
      "the square of 13 is 169\n",
      "enter number14\n",
      "the square of 14 is 196\n",
      "enter number15\n",
      "the square of 15 is 225\n"
     ]
    }
   ],
   "source": [
    "for i in range(6):\n",
    "    num1=eval(input('enter number'))\n",
    "    print(\"the square of {} is {}\".format(num1,num1*num1))"
   ]
  },
  {
   "cell_type": "code",
   "execution_count": 18,
   "id": "35c14626",
   "metadata": {},
   "outputs": [
    {
     "name": "stdout",
     "output_type": "stream",
     "text": [
      "enter number6\n",
      "the square of 6 is 36\n",
      "enter number7\n",
      "the square of 7 is 49\n",
      "enter number8\n",
      "the square of 8 is 64\n",
      "enter number9\n",
      "the square of 9 is 81\n",
      "enter number2\n",
      "the square of 2 is 4\n",
      "enter number3\n",
      "the square of 3 is 9\n"
     ]
    }
   ],
   "source": [
    "def sqa():\n",
    "    for i in range(6):\n",
    "        num1=eval(input('enter number')) #enter number every time through keyboard\n",
    "        print(\"the square of {} is {}\".format(num1,num1*num1))\n",
    "        \n",
    "sqa()"
   ]
  },
  {
   "cell_type": "code",
   "execution_count": 20,
   "id": "2c789065",
   "metadata": {},
   "outputs": [
    {
     "name": "stdout",
     "output_type": "stream",
     "text": [
      "enter number4\n",
      "the square of 4 is 16\n",
      "the square of 4 is 16\n",
      "the square of 4 is 16\n"
     ]
    }
   ],
   "source": [
    "def sqa(num1):\n",
    "    for i in range(3):\n",
    "        print(\"the square of {} is {}\".format(num1,num1*num1))# enter number repeated 3 times\n",
    "        \n",
    "sqa(eval(input('enter number')))"
   ]
  },
  {
   "cell_type": "code",
   "execution_count": 12,
   "id": "e54f0eeb",
   "metadata": {},
   "outputs": [
    {
     "name": "stdout",
     "output_type": "stream",
     "text": [
      "the square of 12 is 144\n",
      "the square of 14 is 196\n",
      "the square of 6 is 36\n",
      "the square of 3 is 9\n",
      "the square of 1 is 1\n",
      "the square of 11 is 121\n"
     ]
    }
   ],
   "source": [
    "import random\n",
    "for i in range(6):\n",
    "    num1=random.randint(1,20)\n",
    "    print(\"the square of {} is {}\".format(num1,num1*num1))"
   ]
  },
  {
   "cell_type": "code",
   "execution_count": 14,
   "id": "fa677774",
   "metadata": {},
   "outputs": [
    {
     "name": "stdout",
     "output_type": "stream",
     "text": [
      "the given number is 10 even\n",
      "the given number 11 is odd\n",
      "the given number is 12 even\n",
      "the given number 13 is odd\n",
      "the given number is 14 even\n",
      "the given number 15 is odd\n",
      "the given number is 16 even\n",
      "the given number 17 is odd\n",
      "the given number is 18 even\n",
      "the given number 19 is odd\n",
      "the given number is 20 even\n",
      "the given number 21 is odd\n",
      "the given number is 22 even\n",
      "the given number 23 is odd\n",
      "the given number is 24 even\n",
      "the given number 25 is odd\n",
      "the given number is 26 even\n",
      "the given number 27 is odd\n",
      "the given number is 28 even\n",
      "the given number 29 is odd\n"
     ]
    }
   ],
   "source": [
    "for i in range(10,30):\n",
    "    if i%2==0:\n",
    "        print(\"the given number is {} even\".format(i))\n",
    "    else:\n",
    "        print(\"the given number {} is odd\".format(i))"
   ]
  },
  {
   "cell_type": "code",
   "execution_count": 15,
   "id": "b6c5fb78",
   "metadata": {},
   "outputs": [
    {
     "name": "stdout",
     "output_type": "stream",
     "text": [
      "the given number 27 is odd\n",
      "the given number is 12 even\n",
      "the given number is 20 even\n",
      "the given number 15 is odd\n",
      "the given number 25 is odd\n"
     ]
    }
   ],
   "source": [
    "import random\n",
    "for i in range(5):\n",
    "    ran=random.randint(10,30)\n",
    "        print(\"the given number is {} even\".format(ran))\n",
    "    else:f ran%2== i   0:\n",
    "\n",
    "        print(\"the given number {} is odd\".format(ran))"
   ]
  },
  {
   "cell_type": "code",
   "execution_count": 16,
   "id": "a1d721b2",
   "metadata": {},
   "outputs": [
    {
     "name": "stdout",
     "output_type": "stream",
     "text": [
      "the given number is 8 even\n"
     ]
    }
   ],
   "source": [
    "def even(num):\n",
    "    if num%2==0:\n",
    "        print(\"the given number is {} even\".format(num))\n",
    "    else:\n",
    "         print(\"the given number is {} even\".format(num))\n",
    "            \n",
    "even(8)\n",
    "\n"
   ]
  },
  {
   "cell_type": "code",
   "execution_count": 26,
   "id": "6ec33724",
   "metadata": {},
   "outputs": [
    {
     "name": "stdout",
     "output_type": "stream",
     "text": [
      "enter a number6\n",
      "you lose\n",
      "enter a number7\n",
      "you lose\n",
      "enter a number88\n",
      "you lose\n"
     ]
    }
   ],
   "source": [
    "import random\n",
    "num=random.randint(1,10)\n",
    "for i in range(3):\n",
    "    num1=eval(input(\"enter a number\"))\n",
    "    if num1==num:\n",
    "        print(\"you won\")\n",
    "        \n",
    "    else:\n",
    "        print(\"you lose\")"
   ]
  },
  {
   "cell_type": "code",
   "execution_count": 27,
   "id": "bca8aacf",
   "metadata": {},
   "outputs": [
    {
     "name": "stdout",
     "output_type": "stream",
     "text": [
      "enter a number4\n",
      "you lose\n",
      "the number chances left is : 2\n",
      "enter a number5\n",
      "you lose\n",
      "the number chances left is : 1\n",
      "enter a number6\n",
      "you lose\n",
      "the number chances left is : 0\n"
     ]
    }
   ],
   "source": [
    "import random\n",
    "num=random.randint(1,10)\n",
    "for i in range(3):\n",
    "    num1=eval(input(\"enter a number\"))\n",
    "    if num1==num:\n",
    "        print(\"you won\")\n",
    "        \n",
    "    else:\n",
    "        print(\"you lose\")\n",
    "        print(\"the number chances left is :\",3-1-i)"
   ]
  },
  {
   "cell_type": "code",
   "execution_count": 33,
   "id": "d3e2c211",
   "metadata": {},
   "outputs": [
    {
     "name": "stdout",
     "output_type": "stream",
     "text": [
      "enter no -of chances3\n",
      "enter a number2\n",
      "the number chances left is : 2\n",
      "enter a number66\n",
      "the number chances left is : 1\n",
      "enter a number55\n",
      "chances over\n"
     ]
    }
   ],
   "source": [
    "import random\n",
    "num=random.randint(1,10) \n",
    "chance=eval(input(\"enter no -of chances\"))\n",
    "for i in range(chance):\n",
    "    num1=eval(input(\"enter a number\"))\n",
    "    if num1==num:\n",
    "        print(\"you won\")\n",
    "        \n",
    "    elif chance-1-i==0:\n",
    "        print(\"chances over\")\n",
    "        \n",
    "    else:            \n",
    "        print(\"you lose\")\n",
    "        print(\"the number chances left is :\",chance-1-i)\n"
   ]
  },
  {
   "cell_type": "code",
   "execution_count": null,
   "id": "5e018037",
   "metadata": {},
   "outputs": [],
   "source": []
  }
 ],
 "metadata": {
  "kernelspec": {
   "display_name": "Python 3 (ipykernel)",
   "language": "python",
   "name": "python3"
  },
  "language_info": {
   "codemirror_mode": {
    "name": "ipython",
    "version": 3
   },
   "file_extension": ".py",
   "mimetype": "text/x-python",
   "name": "python",
   "nbconvert_exporter": "python",
   "pygments_lexer": "ipython3",
   "version": "3.11.5"
  }
 },
 "nbformat": 4,
 "nbformat_minor": 5
}
