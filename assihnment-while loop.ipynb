{
 "cells": [
  {
   "cell_type": "markdown",
   "id": "31b6fd27",
   "metadata": {},
   "source": [
    "# assignment -while loop"
   ]
  },
  {
   "cell_type": "code",
   "execution_count": 1,
   "id": "cb1c325e",
   "metadata": {},
   "outputs": [
    {
     "name": "stdout",
     "output_type": "stream",
     "text": [
      "guess  a number :3\n",
      "sorry,try again\n",
      "guess  a number :4\n",
      "you got it right!congo!\n",
      "guess  a number :4\n",
      "sorry,try again\n",
      "guess  a number :2\n",
      "sorry,try again\n",
      "guess  a number :7\n",
      "sorry,try again\n",
      "guess  a number :8\n",
      "sorry,try again\n",
      "guess  a number :9\n",
      "sorry,try again\n",
      "guess  a number :5\n",
      "sorry,try again\n",
      "guess  a number :1\n",
      "you got it right!congo!\n"
     ]
    }
   ],
   "source": [
    "import random\n",
    "i=0\n",
    "while i<9: \n",
    "    rand=random.randint(0,9)\n",
    "    num=eval(input(\"guess  a number :\"))\n",
    "    if rand==num:\n",
    "        print(\"you got it right!congo!\")\n",
    "        \n",
    "    else:\n",
    "        print(\"sorry,try again\")\n",
    "    i=i+1\n",
    "    "
   ]
  },
  {
   "cell_type": "code",
   "execution_count": null,
   "id": "f2a8e2e9",
   "metadata": {},
   "outputs": [],
   "source": []
  },
  {
   "cell_type": "code",
   "execution_count": 5,
   "id": "fbb5e4d5",
   "metadata": {},
   "outputs": [
    {
     "name": "stdout",
     "output_type": "stream",
     "text": [
      "guess a number :2\n",
      "Too low\n",
      "guess a number :3\n",
      "Too low\n",
      "guess a number :4\n",
      "sorry,try again\n"
     ]
    }
   ],
   "source": [
    "import random\n",
    "i=1000\n",
    "for i in range(3):\n",
    "    rand=random.randint(0,9)\n",
    "    num=eval(input(\"guess a number :\"))\n",
    "    \n",
    "    if i == 2:\n",
    "        print(\"sorry,try again\")\n",
    "        break\n",
    "        \n",
    "    if num<rand:\n",
    "        print(\"Too low\")\n",
    "        \n",
    "    elif num>rand:\n",
    "        print(\"Too high\")\n",
    "    \n",
    "\n",
    "    "
   ]
  },
  {
   "cell_type": "code",
   "execution_count": 10,
   "id": "0adaf88d",
   "metadata": {},
   "outputs": [
    {
     "name": "stdout",
     "output_type": "stream",
     "text": [
      "you have acash of rs 1000/ with you\n",
      "guess  a number :2\n",
      "you have acash of rs 1000/ with you\n",
      "guess  a number :3\n",
      "you have acash of rs 1000/ with you\n",
      "guess  a number :3\n",
      "You lost rs 500/\n"
     ]
    }
   ],
   "source": [
    "import random\n",
    "\n",
    "for i in range(3):\n",
    "    rand=random.randint(0,9)\n",
    "    print(\"you have a cash of rs 1000/ with you\")\n",
    "    num=eval(input(\"guess  a number :\"))\n",
    "    if i==0:\n",
    "        \n",
    "        if num==rand:\n",
    "            print(\"right number you won rs 5000/\")\n",
    "            break\n",
    "    if i==1:\n",
    "        \n",
    "        if num==rand:\n",
    "            print(\"right number you won rs 1000/\")\n",
    "            \n",
    "    \n",
    "            break\n",
    "            \n",
    "    if i == 2:\n",
    "        if num!=rand:\n",
    "            print('You lost rs 500/')\n",
    "            \n",
    "            break\n",
    "            \n",
    "    \n",
    "    "
   ]
  },
  {
   "cell_type": "code",
   "execution_count": 1,
   "id": "ddd51b30",
   "metadata": {},
   "outputs": [
    {
     "name": "stdout",
     "output_type": "stream",
     "text": [
      "to play the game player requires rs 1000/\n",
      "enter current balance200\n",
      "he needs to with draw money\n",
      "enter withdraw amount900\n",
      "ready to start play game\n",
      "account balance 1100\n",
      "current amount in the e-wallet is : 3900\n",
      "enter withdraw amount1000\n",
      "ready to start play game\n",
      "account balance 2100\n",
      "current amount in the e-wallet is : 2900\n",
      "enter withdraw amount900\n",
      "ready to start play game\n",
      "account balance 3000\n",
      "current amount in the e-wallet is : 2000\n",
      "enter withdraw amount1000\n",
      "ready to start play game\n",
      "account balance 4000\n",
      "current amount in the e-wallet is : 1000\n",
      "enter withdraw amount1000\n",
      "ready to start play game\n",
      "account balance 5000\n",
      "current amount in the e-wallet is : 0\n",
      "no more rounds to play\n"
     ]
    }
   ],
   "source": [
    "wallet=5000\n",
    "print(\"to play the game player requires rs 1000/\")\n",
    "c_bal=eval(input(\"enter current balance\"))\n",
    "if c_bal<1000:\n",
    "    print(\"he needs to with draw money\")\n",
    "    i=0\n",
    "    while True:\n",
    "        withdraw_money=eval(input(\"enter withdraw amount\"))\n",
    "        c_bal=c_bal+withdraw_money\n",
    "        if c_bal>=1000:\n",
    "            print(\"ready to start play game\")\n",
    "            print(\"account balance\",c_bal)\n",
    "            print(\"current amount in the e-wallet is :\",wallet-c_bal)\n",
    "            if wallet-c_bal==0:\n",
    "                print(\"no more rounds to play\")\n",
    "                break\n",
    "        \n",
    "        else:\n",
    "            print(\"you still donot have enough money\")\n",
    "        i=i+1\n",
    "        "
   ]
  },
  {
   "cell_type": "code",
   "execution_count": null,
   "id": "6245b1af",
   "metadata": {},
   "outputs": [],
   "source": []
  }
 ],
 "metadata": {
  "kernelspec": {
   "display_name": "Python 3 (ipykernel)",
   "language": "python",
   "name": "python3"
  },
  "language_info": {
   "codemirror_mode": {
    "name": "ipython",
    "version": 3
   },
   "file_extension": ".py",
   "mimetype": "text/x-python",
   "name": "python",
   "nbconvert_exporter": "python",
   "pygments_lexer": "ipython3",
   "version": "3.11.5"
  }
 },
 "nbformat": 4,
 "nbformat_minor": 5
}
