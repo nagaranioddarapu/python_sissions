{
 "cells": [
  {
   "cell_type": "code",
   "execution_count": 4,
   "id": "eb0cebd0",
   "metadata": {},
   "outputs": [
    {
     "name": "stdout",
     "output_type": "stream",
     "text": [
      "20 30\n"
     ]
    }
   ],
   "source": [
    "num1=20\n",
    "num2=30\n",
    "print(num1,num2)"
   ]
  },
  {
   "cell_type": "code",
   "execution_count": 6,
   "id": "50c3029b",
   "metadata": {},
   "outputs": [
    {
     "name": "stdout",
     "output_type": "stream",
     "text": [
      "20\n",
      "30\n"
     ]
    }
   ],
   "source": [
    "print(num1)\n",
    "print(num2)"
   ]
  },
  {
   "cell_type": "markdown",
   "id": "cd6a53c5",
   "metadata": {},
   "source": [
    "#python"
   ]
  },
  {
   "cell_type": "markdown",
   "id": "992a149e",
   "metadata": {},
   "source": [
    "hai how are you "
   ]
  },
  {
   "cell_type": "raw",
   "id": "e67da842",
   "metadata": {},
   "source": [
    "hi rishik"
   ]
  },
  {
   "cell_type": "markdown",
   "id": "d21ce87e",
   "metadata": {},
   "source": [
    "# chikky bakery"
   ]
  },
  {
   "cell_type": "code",
   "execution_count": 8,
   "id": "01d24ac9",
   "metadata": {},
   "outputs": [
    {
     "name": "stdout",
     "output_type": "stream",
     "text": [
      "hello\n"
     ]
    }
   ],
   "source": [
    "print(\"hello\")"
   ]
  },
  {
   "cell_type": "code",
   "execution_count": 9,
   "id": "cebf253c",
   "metadata": {},
   "outputs": [
    {
     "name": "stdout",
     "output_type": "stream",
     "text": [
      "hai\n",
      "are\n",
      "you\n"
     ]
    }
   ],
   "source": [
    "print('hai')\n",
    "print('are')\n",
    "print('you')"
   ]
  },
  {
   "cell_type": "code",
   "execution_count": 10,
   "id": "a278f914",
   "metadata": {},
   "outputs": [
    {
     "name": "stdout",
     "output_type": "stream",
     "text": [
      "hai\n",
      "are\n",
      "you\n"
     ]
    },
    {
     "ename": "NameError",
     "evalue": "name 'hello' is not defined",
     "output_type": "error",
     "traceback": [
      "\u001b[1;31m---------------------------------------------------------------------------\u001b[0m",
      "\u001b[1;31mNameError\u001b[0m                                 Traceback (most recent call last)",
      "Cell \u001b[1;32mIn[10], line 4\u001b[0m\n\u001b[0;32m      2\u001b[0m \u001b[38;5;28mprint\u001b[39m(\u001b[38;5;124m'\u001b[39m\u001b[38;5;124mare\u001b[39m\u001b[38;5;124m'\u001b[39m)\n\u001b[0;32m      3\u001b[0m \u001b[38;5;28mprint\u001b[39m(\u001b[38;5;124m'\u001b[39m\u001b[38;5;124myou\u001b[39m\u001b[38;5;124m'\u001b[39m)\n\u001b[1;32m----> 4\u001b[0m \u001b[38;5;28mprint\u001b[39m(hello)\n",
      "\u001b[1;31mNameError\u001b[0m: name 'hello' is not defined"
     ]
    }
   ],
   "source": [
    "print('hai')\n",
    "print('are')\n",
    "print('you')\n",
    "print(hello)"
   ]
  },
  {
   "cell_type": "code",
   "execution_count": 11,
   "id": "f87aaa98",
   "metadata": {},
   "outputs": [
    {
     "name": "stdout",
     "output_type": "stream",
     "text": [
      "20 30\n"
     ]
    }
   ],
   "source": [
    "print(num1,num2)"
   ]
  },
  {
   "cell_type": "code",
   "execution_count": 13,
   "id": "151e9249",
   "metadata": {},
   "outputs": [
    {
     "name": "stdout",
     "output_type": "stream",
     "text": [
      "20 \t 30\n"
     ]
    }
   ],
   "source": [
    "print(num1,'\\t',num2)\n",
    "      "
   ]
  },
  {
   "cell_type": "code",
   "execution_count": 14,
   "id": "eba201fc",
   "metadata": {},
   "outputs": [
    {
     "name": "stdout",
     "output_type": "stream",
     "text": [
      "20 \n",
      " 30\n"
     ]
    }
   ],
   "source": [
    "print(num1,\"\\n\",num2)"
   ]
  },
  {
   "cell_type": "code",
   "execution_count": 15,
   "id": "455df99b",
   "metadata": {},
   "outputs": [
    {
     "name": "stdout",
     "output_type": "stream",
     "text": [
      "20\n",
      "--------\n",
      "30\n",
      "*****************\n"
     ]
    }
   ],
   "source": [
    "print(num1)\n",
    "print(\"--------\")\n",
    "print(num2)\n",
    "print(\"*****************\")"
   ]
  },
  {
   "cell_type": "code",
   "execution_count": 16,
   "id": "c802b8ef",
   "metadata": {},
   "outputs": [
    {
     "name": "stdout",
     "output_type": "stream",
     "text": [
      "hai are you\n"
     ]
    }
   ],
   "source": [
    "print('hi',\"are\",\"you\")"
   ]
  },
  {
   "cell_type": "code",
   "execution_count": 17,
   "id": "1b77ff1d",
   "metadata": {},
   "outputs": [
    {
     "name": "stdout",
     "output_type": "stream",
     "text": [
      "hi\n",
      "how\n",
      "are you\n"
     ]
    }
   ],
   "source": [
    "print(\"hi\")\n",
    "print(\"how\")\n",
    "print(\"are you\")"
   ]
  },
  {
   "cell_type": "code",
   "execution_count": 22,
   "id": "874d4f9d",
   "metadata": {},
   "outputs": [
    {
     "name": "stdout",
     "output_type": "stream",
     "text": [
      "hai0 how are you\n"
     ]
    }
   ],
   "source": [
    "print('hai',end='0')\n",
    "print(' how are you')"
   ]
  },
  {
   "cell_type": "code",
   "execution_count": 26,
   "id": "1fd9a271",
   "metadata": {},
   "outputs": [
    {
     "ename": "SyntaxError",
     "evalue": "invalid syntax (483457587.py, line 1)",
     "output_type": "error",
     "traceback": [
      "\u001b[1;36m  Cell \u001b[1;32mIn[26], line 1\u001b[1;36m\u001b[0m\n\u001b[1;33m    >>>print(10+20)\u001b[0m\n\u001b[1;37m    ^\u001b[0m\n\u001b[1;31mSyntaxError\u001b[0m\u001b[1;31m:\u001b[0m invalid syntax\n"
     ]
    }
   ],
   "source": [
    ">>>print(10+20) "
   ]
  },
  {
   "cell_type": "code",
   "execution_count": 31,
   "id": "9d033119",
   "metadata": {},
   "outputs": [
    {
     "name": "stdout",
     "output_type": "stream",
     "text": [
      "1@2@3\n"
     ]
    }
   ],
   "source": [
    "print('1',end='@')\n",
    "print('2',end='@')      \n",
    "print('3')\n",
    "      \n",
    "      \n",
    "\n",
    "        "
   ]
  },
  {
   "cell_type": "code",
   "execution_count": 46,
   "id": "bd0ed099",
   "metadata": {},
   "outputs": [
    {
     "name": "stdout",
     "output_type": "stream",
     "text": [
      "the addition of  200 and 300 is 500\n"
     ]
    }
   ],
   "source": [
    "num1=200\n",
    "num2=300\n",
    "add=num1+num2\n",
    "print(\"the addition of \",num1,'and',num2,\"is\",add)"
   ]
  },
  {
   "cell_type": "code",
   "execution_count": 47,
   "id": "c7576e71",
   "metadata": {},
   "outputs": [
    {
     "name": "stdout",
     "output_type": "stream",
     "text": [
      "the addtion of 200 and 300 is 500 \n"
     ]
    }
   ],
   "source": [
    "print(\"the addtion of {} and {} is {} \".format(num1,num2,add))"
   ]
  },
  {
   "cell_type": "code",
   "execution_count": 49,
   "id": "8c6ca08a",
   "metadata": {},
   "outputs": [
    {
     "name": "stdout",
     "output_type": "stream",
     "text": [
      "the division of 200 and 300 is0.5\n"
     ]
    }
   ],
   "source": [
    "print(\"the division of {} and {} is{}\".format(num1,num2,div))"
   ]
  },
  {
   "cell_type": "code",
   "execution_count": 52,
   "id": "06dec68a",
   "metadata": {},
   "outputs": [
    {
     "name": "stdout",
     "output_type": "stream",
     "text": [
      "the division of 200 and 300 is 0.66667\n"
     ]
    }
   ],
   "source": [
    "div=round(num1/num2,5)\n",
    "print(\"the division of {} and {} is {}\".format(num1,num2,div))"
   ]
  },
  {
   "cell_type": "code",
   "execution_count": 53,
   "id": "821f0f83",
   "metadata": {},
   "outputs": [
    {
     "name": "stdout",
     "output_type": "stream",
     "text": [
      "2.5\n"
     ]
    }
   ],
   "source": [
    "print(5/2)#division"
   ]
  },
  {
   "cell_type": "code",
   "execution_count": 54,
   "id": "e668c639",
   "metadata": {},
   "outputs": [
    {
     "name": "stdout",
     "output_type": "stream",
     "text": [
      "2\n"
     ]
    }
   ],
   "source": [
    "print(5//2) #floor division"
   ]
  },
  {
   "cell_type": "code",
   "execution_count": 55,
   "id": "2f66c938",
   "metadata": {},
   "outputs": [
    {
     "name": "stdout",
     "output_type": "stream",
     "text": [
      "1\n"
     ]
    }
   ],
   "source": [
    "print(5%2) #modulus"
   ]
  },
  {
   "cell_type": "code",
   "execution_count": 56,
   "id": "6d4207c0",
   "metadata": {},
   "outputs": [
    {
     "name": "stdout",
     "output_type": "stream",
     "text": [
      "30\n"
     ]
    },
    {
     "data": {
      "text/plain": [
       "'30'"
      ]
     },
     "execution_count": 56,
     "metadata": {},
     "output_type": "execute_result"
    }
   ],
   "source": [
    "input()"
   ]
  },
  {
   "cell_type": "code",
   "execution_count": 58,
   "id": "2402921b",
   "metadata": {},
   "outputs": [
    {
     "name": "stdout",
     "output_type": "stream",
     "text": [
      "enter a number500\n"
     ]
    },
    {
     "data": {
      "text/plain": [
       "'500'"
      ]
     },
     "execution_count": 58,
     "metadata": {},
     "output_type": "execute_result"
    }
   ],
   "source": [
    "input(\"enter a number\")"
   ]
  },
  {
   "cell_type": "code",
   "execution_count": 59,
   "id": "4b3397a6",
   "metadata": {},
   "outputs": [
    {
     "name": "stdout",
     "output_type": "stream",
     "text": [
      "enter anumber40\n",
      "enter the age32\n"
     ]
    },
    {
     "data": {
      "text/plain": [
       "'32'"
      ]
     },
     "execution_count": 59,
     "metadata": {},
     "output_type": "execute_result"
    }
   ],
   "source": [
    "input(\"enter anumber\")\n",
    "input(\"enter the age\")\n"
   ]
  },
  {
   "cell_type": "code",
   "execution_count": 64,
   "id": "4f37e0ee",
   "metadata": {},
   "outputs": [
    {
     "name": "stdout",
     "output_type": "stream",
     "text": [
      "enter  namerani\n",
      "enter the age32\n"
     ]
    },
    {
     "data": {
      "text/plain": [
       "'32'"
      ]
     },
     "execution_count": 64,
     "metadata": {},
     "output_type": "execute_result"
    }
   ],
   "source": [
    "val1=input(\"enter  name\")\n",
    "val2=input(\"enter the age\")\n",
    "\n"
   ]
  },
  {
   "cell_type": "code",
   "execution_count": 62,
   "id": "7dbd5621",
   "metadata": {},
   "outputs": [
    {
     "name": "stdout",
     "output_type": "stream",
     "text": [
      "rani 32\n"
     ]
    }
   ],
   "source": [
    "print(val1,val2)"
   ]
  },
  {
   "cell_type": "code",
   "execution_count": null,
   "id": "5be2723a",
   "metadata": {},
   "outputs": [],
   "source": [
    "val1=input(\"enter a number\")\n",
    "val2=input(\"enter b value\")\n",
    "add=val1+val2\n",
    "print(\"the addition of  {} and {} is {}\".format(val1,val2,add))"
   ]
  },
  {
   "cell_type": "code",
   "execution_count": null,
   "id": "194215e0",
   "metadata": {},
   "outputs": [],
   "source": []
  },
  {
   "cell_type": "code",
   "execution_count": null,
   "id": "428ed839",
   "metadata": {},
   "outputs": [],
   "source": []
  },
  {
   "cell_type": "code",
   "execution_count": null,
   "id": "4f9b9c43",
   "metadata": {},
   "outputs": [],
   "source": []
  },
  {
   "cell_type": "code",
   "execution_count": null,
   "id": "b8035f87",
   "metadata": {},
   "outputs": [],
   "source": []
  }
 ],
 "metadata": {
  "kernelspec": {
   "display_name": "Python 3 (ipykernel)",
   "language": "python",
   "name": "python3"
  },
  "language_info": {
   "codemirror_mode": {
    "name": "ipython",
    "version": 3
   },
   "file_extension": ".py",
   "mimetype": "text/x-python",
   "name": "python",
   "nbconvert_exporter": "python",
   "pygments_lexer": "ipython3",
   "version": "3.11.5"
  }
 },
 "nbformat": 4,
 "nbformat_minor": 5
}
