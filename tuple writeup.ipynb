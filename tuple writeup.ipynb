{
 "cells": [
  {
   "cell_type": "markdown",
   "id": "0093d664",
   "metadata": {},
   "source": [
    "# tuple writeup"
   ]
  },
  {
   "cell_type": "markdown",
   "id": "5eb11ecb",
   "metadata": {},
   "source": [
    "   -tuple is a pre-defined class and treated as list data type.\n",
    "   -tuple is an ordered collection of elements either of same type or different type or both types with unique and duplicate.\n",
    "   -the elements of tuple must be stored within braces () the elements must separated by comma."
   ]
  },
  {
   "cell_type": "markdown",
   "id": "944c13d5",
   "metadata": {},
   "source": [
    "#  -Empty tuple:-\n",
    "    - An empty tuple does not contain any elements and length is 0"
   ]
  },
  {
   "cell_type": "code",
   "execution_count": 1,
   "id": "fb67172e",
   "metadata": {},
   "outputs": [],
   "source": [
    "tuple1=()      "
   ]
  },
  {
   "cell_type": "code",
   "execution_count": 2,
   "id": "8d0c15b3",
   "metadata": {},
   "outputs": [
    {
     "data": {
      "text/plain": [
       "0"
      ]
     },
     "execution_count": 2,
     "metadata": {},
     "output_type": "execute_result"
    }
   ],
   "source": [
    "len(tuple1)"
   ]
  },
  {
   "cell_type": "markdown",
   "id": "63e7405c",
   "metadata": {},
   "source": [
    "# Non empty tuple:\n",
    "   -A non empty tuple contains elements and length is >0"
   ]
  },
  {
   "cell_type": "code",
   "execution_count": 3,
   "id": "4ba7a96c",
   "metadata": {},
   "outputs": [
    {
     "data": {
      "text/plain": [
       "(1, 'a', True, (5+8j), 5.5)"
      ]
     },
     "execution_count": 3,
     "metadata": {},
     "output_type": "execute_result"
    }
   ],
   "source": [
    "tuple1=(1,'a',True,5+8j,5.5)      #elements belongs to different data types\n",
    "tuple1"
   ]
  },
  {
   "cell_type": "code",
   "execution_count": 4,
   "id": "f6a9f013",
   "metadata": {},
   "outputs": [
    {
     "data": {
      "text/plain": [
       "(1, 'a', True, (5+8j), 5.5, 1, 'a')"
      ]
     },
     "execution_count": 4,
     "metadata": {},
     "output_type": "execute_result"
    }
   ],
   "source": [
    "tuple1=(1,'a',True,5+8j,5.5,1,'a')    # duplicates allowed in tuple\n",
    "tuple1"
   ]
  },
  {
   "cell_type": "code",
   "execution_count": 6,
   "id": "375aab8a",
   "metadata": {},
   "outputs": [
    {
     "data": {
      "text/plain": [
       "(1, 2, 3, 4)"
      ]
     },
     "execution_count": 6,
     "metadata": {},
     "output_type": "execute_result"
    }
   ],
   "source": [
    "tupl1=(1,2,3,4)        # elements belong to same data type\n",
    "tupl1"
   ]
  },
  {
   "cell_type": "markdown",
   "id": "084a1152",
   "metadata": {},
   "source": [
    "#  max()\n",
    "   - max() gives the maximum  element of the tuple"
   ]
  },
  {
   "cell_type": "code",
   "execution_count": 7,
   "id": "9ad04ae4",
   "metadata": {},
   "outputs": [
    {
     "data": {
      "text/plain": [
       "4"
      ]
     },
     "execution_count": 7,
     "metadata": {},
     "output_type": "execute_result"
    }
   ],
   "source": [
    "tupl1=(1,2,3,4)        # maximum value of tuple\n",
    "max(tupl1)"
   ]
  },
  {
   "cell_type": "markdown",
   "id": "668b752a",
   "metadata": {},
   "source": [
    "# min()\n",
    "   - min() gives the minimum value of the tuple."
   ]
  },
  {
   "cell_type": "code",
   "execution_count": 8,
   "id": "57e972fe",
   "metadata": {},
   "outputs": [
    {
     "data": {
      "text/plain": [
       "1"
      ]
     },
     "execution_count": 8,
     "metadata": {},
     "output_type": "execute_result"
    }
   ],
   "source": [
    "tupl1=(1,2,3,4)     #minimum value of tuple\n",
    "min(tupl1)"
   ]
  },
  {
   "cell_type": "markdown",
   "id": "8fac50f9",
   "metadata": {},
   "source": [
    "# type\n",
    "  -it gives the  type of the tuple "
   ]
  },
  {
   "cell_type": "code",
   "execution_count": 9,
   "id": "483b4950",
   "metadata": {},
   "outputs": [
    {
     "data": {
      "text/plain": [
       "tuple"
      ]
     },
     "execution_count": 9,
     "metadata": {},
     "output_type": "execute_result"
    }
   ],
   "source": [
    "type(tupl1)     #type is one of the data types"
   ]
  },
  {
   "cell_type": "markdown",
   "id": "20cf8f3b",
   "metadata": {},
   "source": [
    "# sum"
   ]
  },
  {
   "cell_type": "code",
   "execution_count": 11,
   "id": "8c078000",
   "metadata": {},
   "outputs": [
    {
     "data": {
      "text/plain": [
       "(1, 'a', True, (5+8j), 5.5, 1, 2, 3, 4)"
      ]
     },
     "execution_count": 11,
     "metadata": {},
     "output_type": "execute_result"
    }
   ],
   "source": [
    "tuple1=(1,'a',True,5+8j,5.5)      # addition of two  tuples \n",
    "tuple2=(1,2,3,4)\n",
    "tuple1+tuple2"
   ]
  },
  {
   "cell_type": "code",
   "execution_count": 12,
   "id": "55b82786",
   "metadata": {},
   "outputs": [
    {
     "ename": "TypeError",
     "evalue": "unsupported operand type(s) for -: 'tuple' and 'tuple'",
     "output_type": "error",
     "traceback": [
      "\u001b[1;31m---------------------------------------------------------------------------\u001b[0m",
      "\u001b[1;31mTypeError\u001b[0m                                 Traceback (most recent call last)",
      "Cell \u001b[1;32mIn[12], line 3\u001b[0m\n\u001b[0;32m      1\u001b[0m tuple1\u001b[38;5;241m=\u001b[39m(\u001b[38;5;241m1\u001b[39m,\u001b[38;5;124m'\u001b[39m\u001b[38;5;124ma\u001b[39m\u001b[38;5;124m'\u001b[39m,\u001b[38;5;28;01mTrue\u001b[39;00m,\u001b[38;5;241m5\u001b[39m\u001b[38;5;241m+\u001b[39m\u001b[38;5;241m8\u001b[39mj,\u001b[38;5;241m5.5\u001b[39m)      \u001b[38;5;66;03m# subtraction of two  tuples \u001b[39;00m\n\u001b[0;32m      2\u001b[0m tuple2\u001b[38;5;241m=\u001b[39m(\u001b[38;5;241m1\u001b[39m,\u001b[38;5;241m2\u001b[39m,\u001b[38;5;241m3\u001b[39m,\u001b[38;5;241m4\u001b[39m)\n\u001b[1;32m----> 3\u001b[0m tuple1\u001b[38;5;241m-\u001b[39mtuple2\n",
      "\u001b[1;31mTypeError\u001b[0m: unsupported operand type(s) for -: 'tuple' and 'tuple'"
     ]
    }
   ],
   "source": [
    "tuple1=(1,'a',True,5+8j,5.5)      # subtraction of two  tuples  is not possible\n",
    "tuple2=(1,2,3,4)\n",
    "tuple1-tuple2"
   ]
  },
  {
   "cell_type": "code",
   "execution_count": 13,
   "id": "8bb13501",
   "metadata": {},
   "outputs": [
    {
     "ename": "TypeError",
     "evalue": "can't multiply sequence by non-int of type 'tuple'",
     "output_type": "error",
     "traceback": [
      "\u001b[1;31m---------------------------------------------------------------------------\u001b[0m",
      "\u001b[1;31mTypeError\u001b[0m                                 Traceback (most recent call last)",
      "Cell \u001b[1;32mIn[13], line 3\u001b[0m\n\u001b[0;32m      1\u001b[0m tuple1\u001b[38;5;241m=\u001b[39m(\u001b[38;5;241m1\u001b[39m,\u001b[38;5;124m'\u001b[39m\u001b[38;5;124ma\u001b[39m\u001b[38;5;124m'\u001b[39m,\u001b[38;5;28;01mTrue\u001b[39;00m,\u001b[38;5;241m5\u001b[39m\u001b[38;5;241m+\u001b[39m\u001b[38;5;241m8\u001b[39mj,\u001b[38;5;241m5.5\u001b[39m)      \u001b[38;5;66;03m# addition of two  tuples \u001b[39;00m\n\u001b[0;32m      2\u001b[0m tuple2\u001b[38;5;241m=\u001b[39m(\u001b[38;5;241m1\u001b[39m,\u001b[38;5;241m2\u001b[39m,\u001b[38;5;241m3\u001b[39m,\u001b[38;5;241m4\u001b[39m)\n\u001b[1;32m----> 3\u001b[0m tuple1\u001b[38;5;241m*\u001b[39mtuple2\n",
      "\u001b[1;31mTypeError\u001b[0m: can't multiply sequence by non-int of type 'tuple'"
     ]
    }
   ],
   "source": [
    "tuple1=(1,'a',True,5+8j,5.5)      # multiplication of two  tuples is not possible\n",
    "tuple2=(1,2,3,4)\n",
    "tuple1*tuple2"
   ]
  },
  {
   "cell_type": "markdown",
   "id": "b7f20884",
   "metadata": {},
   "source": [
    "#  -tuple contains two pre-defined functions \n",
    "    1.index\n",
    "    2.count\n",
    "    \n",
    "    NOTE:tuple belongs to immutable so it does not contain folling methods.\n",
    "      -append()\n",
    "      -insert()\n",
    "      -remove()\n",
    "      -pop()\n",
    "      -pop(index)\n",
    "      -copy()\n",
    "      -clear()\n",
    "      -reverse()\n",
    "      -sort()\n",
    "      -extend()\n",
    "      "
   ]
  },
  {
   "cell_type": "markdown",
   "id": "fb249b25",
   "metadata": {},
   "source": [
    "# index\n",
    "   - it prints the index of specific element "
   ]
  },
  {
   "cell_type": "code",
   "execution_count": 16,
   "id": "b7496976",
   "metadata": {},
   "outputs": [
    {
     "data": {
      "text/plain": [
       "1"
      ]
     },
     "execution_count": 16,
     "metadata": {},
     "output_type": "execute_result"
    }
   ],
   "source": [
    "tuple1=(1,'a',True,5+8j,5.5)      # prints the index of specific elements\n",
    "tuple1.index('a')"
   ]
  },
  {
   "cell_type": "markdown",
   "id": "ea7ea39b",
   "metadata": {},
   "source": [
    "# count\n",
    "   it prints the number of occurences of specific elements."
   ]
  },
  {
   "cell_type": "code",
   "execution_count": 34,
   "id": "bfb3b560",
   "metadata": {},
   "outputs": [
    {
     "data": {
      "text/plain": [
       "4"
      ]
     },
     "execution_count": 34,
     "metadata": {},
     "output_type": "execute_result"
    }
   ],
   "source": [
    "tuple1=(10,20,30,20,20,20)     # 20 repeated for 4 times\n",
    "tuple1.count(20)               #count the number of occurences "
   ]
  },
  {
   "cell_type": "markdown",
   "id": "9b6316ad",
   "metadata": {},
   "source": [
    "# slice\n",
    "  -it prints the elements according to slice [start value:stop value-1:moving steps]"
   ]
  },
  {
   "cell_type": "code",
   "execution_count": 23,
   "id": "2e961f9a",
   "metadata": {},
   "outputs": [
    {
     "data": {
      "text/plain": [
       "(1, 'a', True)"
      ]
     },
     "execution_count": 23,
     "metadata": {},
     "output_type": "execute_result"
    }
   ],
   "source": [
    "tuple1=(1,'a',True,5+8j,5.5)      # prints the element between indexs of 0 and 3-1\n",
    "tuple1[0:3]"
   ]
  },
  {
   "cell_type": "code",
   "execution_count": 26,
   "id": "2973f91a",
   "metadata": {},
   "outputs": [
    {
     "data": {
      "text/plain": [
       "(1, True)"
      ]
     },
     "execution_count": 26,
     "metadata": {},
     "output_type": "execute_result"
    }
   ],
   "source": [
    "tuple1=(1,'a',True,5+8j,5.5)      # prints the elements from index of 0 to 4 by 2 steps\n",
    "tuple1[0:4:2]"
   ]
  },
  {
   "cell_type": "markdown",
   "id": "3e135178",
   "metadata": {},
   "source": [
    "# Mutable\n",
    "   - mutable means changing the  value of particular index.\n",
    "   -but tuple is  not mutable \n",
    "   -it is immutable.\n",
    "   -we can not change values."
   ]
  },
  {
   "cell_type": "code",
   "execution_count": 27,
   "id": "c8e2ce2a",
   "metadata": {},
   "outputs": [
    {
     "ename": "TypeError",
     "evalue": "'tuple' object does not support item assignment",
     "output_type": "error",
     "traceback": [
      "\u001b[1;31m---------------------------------------------------------------------------\u001b[0m",
      "\u001b[1;31mTypeError\u001b[0m                                 Traceback (most recent call last)",
      "Cell \u001b[1;32mIn[27], line 2\u001b[0m\n\u001b[0;32m      1\u001b[0m tuple1\u001b[38;5;241m=\u001b[39m(\u001b[38;5;241m1\u001b[39m,\u001b[38;5;124m'\u001b[39m\u001b[38;5;124ma\u001b[39m\u001b[38;5;124m'\u001b[39m,\u001b[38;5;28;01mTrue\u001b[39;00m,\u001b[38;5;241m5\u001b[39m\u001b[38;5;241m+\u001b[39m\u001b[38;5;241m8\u001b[39mj,\u001b[38;5;241m5.5\u001b[39m)      \u001b[38;5;66;03m# prints the element between indexs of 0 and 3-1\u001b[39;00m\n\u001b[1;32m----> 2\u001b[0m tuple1[\u001b[38;5;241m1\u001b[39m]\u001b[38;5;241m=\u001b[39m\u001b[38;5;124m'\u001b[39m\u001b[38;5;124mtuple\u001b[39m\u001b[38;5;124m'\u001b[39m\n\u001b[0;32m      3\u001b[0m tuple1\n",
      "\u001b[1;31mTypeError\u001b[0m: 'tuple' object does not support item assignment"
     ]
    }
   ],
   "source": [
    "tuple1=(1,'a',True,5+8j,5.5)      # we can not change the value\n",
    "tuple1[1]='tuple'\n",
    "tuple1"
   ]
  },
  {
   "cell_type": "markdown",
   "id": "2ae1f9f2",
   "metadata": {},
   "source": [
    "# in operator"
   ]
  },
  {
   "cell_type": "code",
   "execution_count": 29,
   "id": "a07fc534",
   "metadata": {},
   "outputs": [
    {
     "data": {
      "text/plain": [
       "True"
      ]
     },
     "execution_count": 29,
     "metadata": {},
     "output_type": "execute_result"
    }
   ],
   "source": [
    "tuple1=(1,'a',True,5+8j,5.5)      # if 'a' in tuple1 prints True,otherwise  False\n",
    "'a' in tuple1"
   ]
  },
  {
   "cell_type": "code",
   "execution_count": 30,
   "id": "29653c7d",
   "metadata": {},
   "outputs": [
    {
     "data": {
      "text/plain": [
       "False"
      ]
     },
     "execution_count": 30,
     "metadata": {},
     "output_type": "execute_result"
    }
   ],
   "source": [
    "'b' in tuple1"
   ]
  },
  {
   "cell_type": "markdown",
   "id": "c442b3a9",
   "metadata": {},
   "source": [
    "# for loop\n",
    "   -we can iterate the tuple by using for loop"
   ]
  },
  {
   "cell_type": "code",
   "execution_count": 31,
   "id": "6364bfa4",
   "metadata": {},
   "outputs": [
    {
     "name": "stdout",
     "output_type": "stream",
     "text": [
      "1\n",
      "a\n",
      "True\n",
      "(5+8j)\n",
      "5.5\n"
     ]
    }
   ],
   "source": [
    "tuple1=(1,'a',True,5+8j,5.5)      # iterate the sequence of tuple through for loop\n",
    "for i in tuple1:\n",
    "    print(i)"
   ]
  },
  {
   "cell_type": "code",
   "execution_count": null,
   "id": "489329ad",
   "metadata": {},
   "outputs": [],
   "source": []
  }
 ],
 "metadata": {
  "kernelspec": {
   "display_name": "Python 3 (ipykernel)",
   "language": "python",
   "name": "python3"
  },
  "language_info": {
   "codemirror_mode": {
    "name": "ipython",
    "version": 3
   },
   "file_extension": ".py",
   "mimetype": "text/x-python",
   "name": "python",
   "nbconvert_exporter": "python",
   "pygments_lexer": "ipython3",
   "version": "3.11.5"
  }
 },
 "nbformat": 4,
 "nbformat_minor": 5
}
