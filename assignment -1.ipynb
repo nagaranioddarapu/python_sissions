{
 "cells": [
  {
   "cell_type": "code",
   "execution_count": 2,
   "id": "0ce375eb",
   "metadata": {},
   "outputs": [
    {
     "name": "stdout",
     "output_type": "stream",
     "text": [
      "enter a number:5\n",
      "the square of 5 is 25 \n"
     ]
    }
   ],
   "source": [
    "#wap a program to printout the square of the number\n",
    "num=eval(input(\"enter a number:\")) #etering value through keyboard\n",
    "square=num*num  #finding square of a number\n",
    "print(\"the square of {} is {} \".format(num,square)) #print  the square value"
   ]
  },
  {
   "cell_type": "markdown",
   "id": "13abfa5b",
   "metadata": {},
   "source": [
    "# write a program to print out x,2x,3x,4x and 5x"
   ]
  },
  {
   "cell_type": "code",
   "execution_count": 3,
   "id": "85c79b3a",
   "metadata": {},
   "outputs": [
    {
     "name": "stdout",
     "output_type": "stream",
     "text": [
      "enter a number :7\n",
      "7----14----21----28----35----"
     ]
    }
   ],
   "source": [
    "num1=eval(input(\"enter a number :\"))  #enter the value through keyboard\n",
    "print(num1,end=\"----\")  #prnitout x value\n",
    "print(2*num1,end=\"----\")  #printiout 2x value\n",
    "print(3*num1,end=\"----\")  #printout 3x value\n",
    "print(4*num1,end=\"----\")  #printout 4x value\n",
    "print(5*num1,end=\"----\")  #printout 5x value"
   ]
  },
  {
   "cell_type": "markdown",
   "id": "d497c12f",
   "metadata": {},
   "source": [
    "#write a program to convert kilograms into pounds"
   ]
  },
  {
   "cell_type": "code",
   "execution_count": 6,
   "id": "da016ef8",
   "metadata": {},
   "outputs": [
    {
     "name": "stdout",
     "output_type": "stream",
     "text": [
      "enter a weight in kilograms15\n",
      "the 15 kilograms equal to 33.0 pounds\n"
     ]
    }
   ],
   "source": [
    "weight=eval(input(\"enter a weight in kilograms\"))  #enter the weight in kilograms\n",
    "total=2.2*weight  #convert the kilograms into pounds\n",
    "print(\"the {} kilograms equal to {} pounds\".format(weight,total))   #print out the weight in pounds\n"
   ]
  },
  {
   "cell_type": "markdown",
   "id": "b3b823a6",
   "metadata": {},
   "source": [
    "# write a program to pint out total and average of 3 numbers"
   ]
  },
  {
   "cell_type": "code",
   "execution_count": 8,
   "id": "bd3e7310",
   "metadata": {},
   "outputs": [
    {
     "name": "stdout",
     "output_type": "stream",
     "text": [
      "enter a number 1:4\n",
      "enter a number 2:6\n",
      "enter a number 3:8\n",
      "the sum of 3 numbers is 18 \n",
      "the average of 3 numbers is 6.0\n"
     ]
    }
   ],
   "source": [
    "a=eval(input(\"enter a number 1:\"))  #enter the  first value \n",
    "b=eval(input(\"enter a number 2:\"))   # enter the second value\n",
    "c=eval(input(\"enter a number 3:\"))   #enter the third value\n",
    "total=a+b+c   # store  sum of the  three numbers in total variable\n",
    "average=total/3  #store the average of 3 numbers in average variable\n",
    "print(\"the sum of 3 numbers is {} \".format(total))   #print out the sum of 3 numbers\n",
    "print(\"the average of 3 numbers is {}\".format(average))   #print out the average of 3 numbers"
   ]
  },
  {
   "cell_type": "markdown",
   "id": "cd423a5b",
   "metadata": {},
   "source": [
    "# write a program to ask the user for price of the meal ,percent tip they want to leave ,  print out tip amount and totalbill with tip included"
   ]
  },
  {
   "cell_type": "code",
   "execution_count": 9,
   "id": "e94346ef",
   "metadata": {},
   "outputs": [
    {
     "name": "stdout",
     "output_type": "stream",
     "text": [
      "enter price of the meal500\n",
      "enter the tip percentage20\n",
      "tip amount is 100.0 and  total bill is 600.0 \n"
     ]
    }
   ],
   "source": [
    "meal_price=eval(input(\"enter price of the meal\"))  #enter  price of the meal\n",
    "tip_percentage=eval(input(\"enter the tip percentage\"))  # enter tip percentage \n",
    "tip_amount=(20/100)*500   #calculating tip amount \n",
    "total_bill=meal_price+tip_amount  # calculating total bill\n",
    "print(\"tip amount is {} and  total bill is {} \".format(tip_amount,total_bill))  #print out tip amount and total bill"
   ]
  },
  {
   "cell_type": "code",
   "execution_count": null,
   "id": "d58945ff",
   "metadata": {},
   "outputs": [],
   "source": []
  }
 ],
 "metadata": {
  "kernelspec": {
   "display_name": "Python 3 (ipykernel)",
   "language": "python",
   "name": "python3"
  },
  "language_info": {
   "codemirror_mode": {
    "name": "ipython",
    "version": 3
   },
   "file_extension": ".py",
   "mimetype": "text/x-python",
   "name": "python",
   "nbconvert_exporter": "python",
   "pygments_lexer": "ipython3",
   "version": "3.11.5"
  }
 },
 "nbformat": 4,
 "nbformat_minor": 5
}
