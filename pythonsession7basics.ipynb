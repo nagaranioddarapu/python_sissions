{
 "cells": [
  {
   "cell_type": "code",
   "execution_count": 1,
   "id": "4525c236",
   "metadata": {},
   "outputs": [
    {
     "name": "stdout",
     "output_type": "stream",
     "text": [
      "enter a number2\n",
      "enter a number2\n"
     ]
    }
   ],
   "source": [
    "num1=eval(input(\"enter a number\"))\n",
    "num2=eval(input(\"enter a number\"))"
   ]
  },
  {
   "cell_type": "code",
   "execution_count": 5,
   "id": "8aebb90a",
   "metadata": {},
   "outputs": [
    {
     "ename": "IndentationError",
     "evalue": "unindent does not match any outer indentation level (<tokenize>, line 4)",
     "output_type": "error",
     "traceback": [
      "\u001b[1;36m  File \u001b[1;32m<tokenize>:4\u001b[1;36m\u001b[0m\n\u001b[1;33m    num2=3\u001b[0m\n\u001b[1;37m    ^\u001b[0m\n\u001b[1;31mIndentationError\u001b[0m\u001b[1;31m:\u001b[0m unindent does not match any outer indentation level\n"
     ]
    }
   ],
   "source": [
    "try:\n",
    "    num=10\n",
    "    num1=2\n",
    "    num2=3\n",
    "    add=num+num1+num2\n",
    "    print(add)\n",
    "except:\n",
    "    print(\"error is there,check code\")"
   ]
  },
  {
   "cell_type": "code",
   "execution_count": 6,
   "id": "ea9b2d89",
   "metadata": {},
   "outputs": [
    {
     "name": "stdout",
     "output_type": "stream",
     "text": [
      "enter a num10\n",
      "enter a num220\n",
      "enter anum330\n",
      "the avg of 10 and 20 and 30 is 20.0\n"
     ]
    }
   ],
   "source": [
    "#wap ask user to enter 3 numbers and find average\n",
    "try:\n",
    "    num1=eval(input(\"enter a num\"))\n",
    "    num2=eval(input(\"enter a num2\"))\n",
    "    num3=eval(input(\"enter anum3\"))\n",
    "    avg=(num1+num2+num3)/3\n",
    "    print(\"the avg of {} and {} and {} is {}\".format(num1,num2,num3,avg))\n",
    "    \n",
    "except:\n",
    "    print(\"check code\")"
   ]
  },
  {
   "cell_type": "code",
   "execution_count": 8,
   "id": "6b0ecca6",
   "metadata": {},
   "outputs": [
    {
     "name": "stdout",
     "output_type": "stream",
     "text": [
      "enter a num2\n",
      "enter a num23\n",
      "enter anum33\n",
      "division by zero\n"
     ]
    }
   ],
   "source": [
    "try:\n",
    "    num1=eval(input(\"enter a num\"))\n",
    "    num2=eval(input(\"enter a num2\"))\n",
    "    num3=eval(input(\"enter anum3\"))\n",
    "    avg=(num1+num2+num3)/0\n",
    "    print(\"the avg of {} and {} and {} is {}\".format(num1,num2,num3,avg))\n",
    "    \n",
    "except Exception as one:\n",
    "    print(one)"
   ]
  },
  {
   "cell_type": "code",
   "execution_count": 20,
   "id": "3362cb16",
   "metadata": {},
   "outputs": [
    {
     "name": "stdout",
     "output_type": "stream",
     "text": [
      "================\n",
      "8\n",
      "**************\n",
      "enter anumber9\n",
      "hi\n",
      "name 'num111' is not defined\n",
      "hello\n",
      "1\n",
      "2\n"
     ]
    }
   ],
   "source": [
    "print(\"================\")\n",
    "print(3+5)\n",
    "print(\"**************\")\n",
    "try:\n",
    "    num=eval(input(\"enter anumber\"))\n",
    "    square=num*num111\n",
    "    print(\"the square of {} is {}\".format(num,square))\n",
    "except Exception as one:\n",
    "    print(\"hi\")\n",
    "    print(one) \n",
    "    print(\"hello\")\n",
    "    \n",
    "    \n",
    "print(\"1\")\n",
    "print(\"2\")"
   ]
  },
  {
   "cell_type": "code",
   "execution_count": 21,
   "id": "bc453d5c",
   "metadata": {},
   "outputs": [
    {
     "ename": "SyntaxError",
     "evalue": "expected 'except' or 'finally' block (3733494172.py, line 9)",
     "output_type": "error",
     "traceback": [
      "\u001b[1;36m  Cell \u001b[1;32mIn[21], line 9\u001b[1;36m\u001b[0m\n\u001b[1;33m    print(\"out\")\u001b[0m\n\u001b[1;37m    ^\u001b[0m\n\u001b[1;31mSyntaxError\u001b[0m\u001b[1;31m:\u001b[0m expected 'except' or 'finally' block\n"
     ]
    }
   ],
   "source": [
    "print(\"================\")\n",
    "print(3+5)\n",
    "print(\"**************\")\n",
    "try:\n",
    "    num=eval(input(\"enter anumber\"))\n",
    "    square=num*num\n",
    "    print(\"the square of {} is {}\".format(num,square))\n",
    "    \n",
    "print(\"out\")\n",
    "    \n",
    "except Exception as one:\n",
    "    print(\"hi\")\n",
    "    print(one) \n",
    "    print(\"hello\")\n",
    "    \n",
    "    \n",
    "print(\"1\")\n",
    "print(\"2\")"
   ]
  },
  {
   "cell_type": "code",
   "execution_count": null,
   "id": "6eb6f141",
   "metadata": {},
   "outputs": [],
   "source": [
    "print(\"================\")\n",
    "print(3+5)\n",
    "print(\"**************\")\n",
    "try:\n",
    "    num=eval(input(\"enter anumber\"))\n",
    "    square=num*num111\n",
    "    print(\"the square of {} is {}\".format(num,square))\n",
    "    \n",
    "except Exception as one:\n",
    "    print(\"hi\")\n",
    "    print(one) \n",
    "    print(\"hello\")\n",
    "    \n",
    "    \n",
    "print(\"1\")\n",
    "print(\"2\")"
   ]
  }
 ],
 "metadata": {
  "kernelspec": {
   "display_name": "Python 3 (ipykernel)",
   "language": "python",
   "name": "python3"
  },
  "language_info": {
   "codemirror_mode": {
    "name": "ipython",
    "version": 3
   },
   "file_extension": ".py",
   "mimetype": "text/x-python",
   "name": "python",
   "nbconvert_exporter": "python",
   "pygments_lexer": "ipython3",
   "version": "3.11.5"
  }
 },
 "nbformat": 4,
 "nbformat_minor": 5
}
