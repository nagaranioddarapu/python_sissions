{
 "cells": [
  {
   "cell_type": "code",
   "execution_count": 4,
   "id": "e957fe91",
   "metadata": {},
   "outputs": [
    {
     "name": "stdout",
     "output_type": "stream",
     "text": [
      "1\n",
      "3\n",
      "6\n",
      "10\n",
      "15\n",
      "21\n",
      "28\n",
      "36\n",
      "45\n",
      "55\n",
      "sum of 10 natural numbers is 55 \n"
     ]
    }
   ],
   "source": [
    "# the sum of 10 natural numbers\n",
    "summ=0\n",
    "for i in range(1,11):\n",
    "    summ=summ+i\n",
    "    print(summ)\n",
    "    \n",
    "\n",
    "print(\"sum of 10 natural numbers is {} \".format(summ))"
   ]
  },
  {
   "cell_type": "code",
   "execution_count": 12,
   "id": "569ea6a3",
   "metadata": {},
   "outputs": [
    {
     "name": "stdout",
     "output_type": "stream",
     "text": [
      "it is odd 19\n",
      "it is even 14\n",
      "it is odd 11\n",
      "it is even 16\n",
      "it is even 10\n"
     ]
    }
   ],
   "source": [
    "# count number of even and odd\n",
    "import random\n",
    "even_count=0\n",
    "odd_count=0\n",
    "for i in range(5):\n",
    "    num=random.randint(10,30)\n",
    "    if num%2==0:\n",
    "        even_count=even_count+1\n",
    "        print(\"it is even\",num)\n",
    "        \n",
    "    else:\n",
    "        odd_count=odd_count+1        \n",
    "        print(\"it is odd\",num)"
   ]
  },
  {
   "cell_type": "code",
   "execution_count": 8,
   "id": "a6c38ba7",
   "metadata": {},
   "outputs": [
    {
     "name": "stdout",
     "output_type": "stream",
     "text": [
      "95\n",
      "82\n",
      "83\n",
      "82\n",
      "16\n",
      "71\n",
      "71\n",
      "12\n",
      "86\n",
      "63\n",
      "the number of values more than 50 8\n"
     ]
    }
   ],
   "source": [
    "import random\n",
    "count=0\n",
    "for i in range(10):\n",
    "    ran=random.randint(1,99)\n",
    "    print(ran)\n",
    "    if ran>=50:\n",
    "        count=count+1\n",
    "    \n",
    "print(\"the number of values more than 50\",count)"
   ]
  },
  {
   "cell_type": "code",
   "execution_count": 11,
   "id": "a37deebf",
   "metadata": {},
   "outputs": [
    {
     "name": "stdout",
     "output_type": "stream",
     "text": [
      "enter number10\n",
      "1\n",
      "2\n",
      "3\n",
      "4\n",
      "5\n",
      "6\n",
      "7\n",
      "8\n",
      "9\n",
      "10\n",
      "the number of divisiors are 4\n",
      "the number of non divers count is 6\n"
     ]
    }
   ],
   "source": [
    "#number of divisiors program\n",
    "#10 is divisible bywhat numbers\n",
    "count=0\n",
    "ndcount=0\n",
    "num=eval(input(\"enter number\"))\n",
    "for i in range(1,num+1):\n",
    "    print(i)\n",
    "    if num%i==0:\n",
    "        count=count+1\n",
    "        \n",
    "    else:\n",
    "        ndcount=ndcount+1\n",
    "        \n",
    "print(\"the number of divisiors are {}\".format(count))\n",
    "print(\"the number of non divers count is\",ndcount)"
   ]
  },
  {
   "cell_type": "code",
   "execution_count": 23,
   "id": "f9528772",
   "metadata": {},
   "outputs": [
    {
     "name": "stdout",
     "output_type": "stream",
     "text": [
      "enter number10\n",
      "1\n",
      "2\n",
      "3\n",
      "4\n",
      "5\n",
      "6\n",
      "7\n",
      "8\n",
      "9\n",
      "10\n",
      "4 6\n"
     ]
    }
   ],
   "source": [
    "def div(count,ndcount):\n",
    "    num=eval(input(\"enter number\"))\n",
    "    for i in range(1,num+1):\n",
    "        print(i)\n",
    "    \n",
    "        if num%i==0:\n",
    "            count=count+1\n",
    "        \n",
    "        else:\n",
    "            ndcount=ndcount+1\n",
    "            \n",
    "    return(count,ndcount)\n",
    "        \n",
    "\n",
    "val1,val2=div(0,0)\n",
    "print(val1,val2)"
   ]
  },
  {
   "cell_type": "code",
   "execution_count": null,
   "id": "0fb839be",
   "metadata": {},
   "outputs": [],
   "source": []
  }
 ],
 "metadata": {
  "kernelspec": {
   "display_name": "Python 3 (ipykernel)",
   "language": "python",
   "name": "python3"
  },
  "language_info": {
   "codemirror_mode": {
    "name": "ipython",
    "version": 3
   },
   "file_extension": ".py",
   "mimetype": "text/x-python",
   "name": "python",
   "nbconvert_exporter": "python",
   "pygments_lexer": "ipython3",
   "version": "3.11.5"
  }
 },
 "nbformat": 4,
 "nbformat_minor": 5
}
