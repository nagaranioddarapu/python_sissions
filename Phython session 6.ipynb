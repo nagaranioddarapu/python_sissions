{
 "cells": [
  {
   "cell_type": "code",
   "execution_count": 2,
   "id": "b7792442",
   "metadata": {},
   "outputs": [
    {
     "name": "stdout",
     "output_type": "stream",
     "text": [
      "enter basic salary30000\n",
      "enter da amount50000\n",
      "enter hra amount10000\n",
      "total payment 90000\n"
     ]
    }
   ],
   "source": [
    "basic_sal=eval(input(\"enter basic salary\"))\n",
    "da_amount=eval(input(\"enter da amount\"))\n",
    "hra_amn=eval(input(\"enter hra amount\"))\n",
    "total_pay=basic_sal+da_amount+hra_amn\n",
    "print(\"total payment\",total_pay)"
   ]
  },
  {
   "cell_type": "code",
   "execution_count": 3,
   "id": "bfa99e68",
   "metadata": {},
   "outputs": [
    {
     "name": "stdout",
     "output_type": "stream",
     "text": [
      "enter salary20000\n",
      "enter per10\n",
      "tax user need to pay 2000.0\n"
     ]
    }
   ],
   "source": [
    "# 2nd program\n",
    "sal=eval(input(\"enter salary\"))\n",
    "percentage=eval(input(\"enter per\"))\n",
    "tax=(sal*percentage)/100\n",
    "print(\"tax user need to pay\",tax)"
   ]
  },
  {
   "cell_type": "code",
   "execution_count": 6,
   "id": "2fa2beb4",
   "metadata": {},
   "outputs": [
    {
     "name": "stdout",
     "output_type": "stream",
     "text": [
      "square of 65 is 4225\n"
     ]
    }
   ],
   "source": [
    "#random number\n",
    "import random\n",
    "num=random.randint(1,100)\n",
    "square=num*num\n",
    "print(\"square of {} is {}\".format(num,square))"
   ]
  },
  {
   "cell_type": "code",
   "execution_count": 5,
   "id": "f562ea68",
   "metadata": {},
   "outputs": [
    {
     "data": {
      "text/plain": [
       "85"
      ]
     },
     "execution_count": 5,
     "metadata": {},
     "output_type": "execute_result"
    }
   ],
   "source": [
    "random.randint(1,100)"
   ]
  },
  {
   "cell_type": "code",
   "execution_count": 7,
   "id": "2f1b5245",
   "metadata": {},
   "outputs": [
    {
     "name": "stdout",
     "output_type": "stream",
     "text": [
      "enter distance20\n",
      "enter rate per distance5\n",
      "the total ncharge is 100\n"
     ]
    }
   ],
   "source": [
    "dis=eval(input(\"enter distance\"))\n",
    "rate=eval(input(\"enter rate per distance\"))\n",
    "toatal_charge=dis*rate\n",
    "print(\"the total ncharge is\",toatal_charge)"
   ]
  },
  {
   "cell_type": "code",
   "execution_count": 10,
   "id": "46eba9f1",
   "metadata": {},
   "outputs": [
    {
     "name": "stdout",
     "output_type": "stream",
     "text": [
      "enter toatal bill in dollers200\n",
      "manager:the dollers are not accepted\n",
      "user:what will accepted\n",
      "manager:only in indian rupees\n",
      "one doller equal to80\n",
      "the totalbill 16000 is\n",
      "manager:thank you\n"
     ]
    }
   ],
   "source": [
    "import time\n",
    "bill=eval(input(\"enter toatal bill in dollers\"))\n",
    "time.sleep(2)\n",
    "print(\"manager:the dollers are not accepted\")\n",
    "time.sleep(2)\n",
    "print(\"user:what will accepted\")\n",
    "time.sleep(2)\n",
    "print(\"manager:only in indian rupees\")\n",
    "time.sleep(2)\n",
    "doll=eval(input(\"one doller equal to\"))\n",
    "time.sleep(2)\n",
    "totalbill=bill*doll\n",
    "time.sleep(2)\n",
    "print(\"the totalbill {} is\".format(totalbill))\n",
    "time.sleep(2)\n",
    "print(\"manager:thank you\")"
   ]
  },
  {
   "cell_type": "code",
   "execution_count": 11,
   "id": "db0b6274",
   "metadata": {},
   "outputs": [
    {
     "name": "stdout",
     "output_type": "stream",
     "text": [
      "enter toatal bill in dollers100\n",
      "manager responsedollers not accepted\n",
      "user responsewhat will accepted\n",
      "manager responseindian rupees\n",
      "one doller equal to 80\n",
      "the totalbill 8000 is\n"
     ]
    }
   ],
   "source": [
    "bill=eval(input(\"enter toatal bill in dollers\"))\n",
    "input(\"manager response\")\n",
    "input(\"user response\")\n",
    "input(\"manager response\")\n",
    "doll=eval(input(\"one doller equal to \"))\n",
    "totalbill=bill*doll\n",
    "print(\"the totalbill {} is\".format(totalbill))\n",
    "\n"
   ]
  },
  {
   "cell_type": "code",
   "execution_count": 12,
   "id": "8e4ea8e6",
   "metadata": {},
   "outputs": [
    {
     "name": "stdout",
     "output_type": "stream",
     "text": [
      "fatherwhich course you want to do\n",
      "daughteri want to pursue ds course\n",
      "fatheroh! that is very nice\n",
      "fathermay i know your jee rank\n",
      "jee rank200000\n",
      "fatherthen how can u pursue\n",
      "daughterpayment seat\n",
      "fatherwhich college is offer\n",
      "college namenaresh it\n",
      "fatherhow much is the fee\n",
      "fee is20000\n",
      "fatherhow many sem\n",
      "sems are4\n",
      "fatherhow much total\n",
      "total amont is80000 \n"
     ]
    }
   ],
   "source": [
    "input(\"father\")\n",
    "input(\"daughter\")\n",
    "input(\"father\")\n",
    "input(\"father\")\n",
    "rank=eval(input(\"jee rank\"))\n",
    "input(\"father:\")\n",
    "input(\"daughter:\")\n",
    "input(\"father\")\n",
    "college=str(input(\"college name\"))\n",
    "input(\"father:\")\n",
    "fee=eval(input(\"fee is\"))\n",
    "input(\"father:\")\n",
    "sem=eval(input(\"sems are\"))\n",
    "input(\"father:\")\n",
    "totalamont=fee*sem\n",
    "print(\"total amont is{}: \".format(totalamont))\n"
   ]
  },
  {
   "cell_type": "code",
   "execution_count": null,
   "id": "6b6cdf77",
   "metadata": {},
   "outputs": [],
   "source": []
  }
 ],
 "metadata": {
  "kernelspec": {
   "display_name": "Python 3 (ipykernel)",
   "language": "python",
   "name": "python3"
  },
  "language_info": {
   "codemirror_mode": {
    "name": "ipython",
    "version": 3
   },
   "file_extension": ".py",
   "mimetype": "text/x-python",
   "name": "python",
   "nbconvert_exporter": "python",
   "pygments_lexer": "ipython3",
   "version": "3.11.5"
  }
 },
 "nbformat": 4,
 "nbformat_minor": 5
}
