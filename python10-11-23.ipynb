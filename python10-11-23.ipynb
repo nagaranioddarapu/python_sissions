{
 "cells": [
  {
   "cell_type": "code",
   "execution_count": 3,
   "id": "108b9559",
   "metadata": {},
   "outputs": [
    {
     "name": "stdout",
     "output_type": "stream",
     "text": [
      "the index of p is 0\n",
      "the index of y is 1\n",
      "the index of t is 2\n",
      "the index of h is 3\n",
      "the index of o is 4\n",
      "the index of n is 5\n"
     ]
    }
   ],
   "source": [
    "string1='python'\n",
    "for i in range(len(string1)):\n",
    "    print(\"the index of {} is {}\".format(string1[i],i))"
   ]
  },
  {
   "cell_type": "code",
   "execution_count": 5,
   "id": "727faf2b",
   "metadata": {},
   "outputs": [
    {
     "name": "stdout",
     "output_type": "stream",
     "text": [
      "-6\n",
      "-5\n",
      "-4\n",
      "-3\n",
      "-2\n",
      "-1\n"
     ]
    }
   ],
   "source": [
    "for i in range(-6,0):\n",
    "    print(i)"
   ]
  },
  {
   "cell_type": "code",
   "execution_count": 6,
   "id": "4a6cb1fc",
   "metadata": {},
   "outputs": [
    {
     "name": "stdout",
     "output_type": "stream",
     "text": [
      "p\n",
      "y\n",
      "t\n",
      "h\n",
      "o\n",
      "n\n"
     ]
    }
   ],
   "source": [
    "for i in range(-6,0):\n",
    "    print(string1[i])"
   ]
  },
  {
   "cell_type": "code",
   "execution_count": 10,
   "id": "5ad0c617",
   "metadata": {},
   "outputs": [
    {
     "ename": "SyntaxError",
     "evalue": "'(' was never closed (717663494.py, line 1)",
     "output_type": "error",
     "traceback": [
      "\u001b[1;36m  Cell \u001b[1;32mIn[10], line 1\u001b[1;36m\u001b[0m\n\u001b[1;33m    for i in range(-len(string1,0\u001b[0m\n\u001b[1;37m                       ^\u001b[0m\n\u001b[1;31mSyntaxError\u001b[0m\u001b[1;31m:\u001b[0m '(' was never closed\n"
     ]
    }
   ],
   "source": [
    "for i in range(-len(string1,0\n",
    "    print( string1[i])"
   ]
  },
  {
   "cell_type": "code",
   "execution_count": 17,
   "id": "bbb8209a",
   "metadata": {},
   "outputs": [],
   "source": [
    "for i in range(len(string1),0):\n",
    "    print(\"the positive index is{} and negative index is {} for {}\".format(i,string1[i],i-6))"
   ]
  },
  {
   "cell_type": "code",
   "execution_count": 19,
   "id": "cf8401d5",
   "metadata": {},
   "outputs": [
    {
     "name": "stdout",
     "output_type": "stream",
     "text": [
      "the positive index is {} p 0\n",
      "the positive index is {} y 1\n",
      "the positive index is {} t 2\n",
      "the positive index is {} h 3\n",
      "the positive index is {} o 4\n",
      "the positive index is {} n 5\n"
     ]
    }
   ],
   "source": [
    "for i in range(-len(string1),0):\n",
    "    print('the positive index is {}',string1[i],i+6)"
   ]
  },
  {
   "cell_type": "code",
   "execution_count": null,
   "id": "32c271b6",
   "metadata": {},
   "outputs": [],
   "source": [
    "i=0\n",
    "string1='python'\n",
    "while i<len(string1):\n",
    "    print(\"the positive index is\",i)\n",
    "    i=i+1"
   ]
  },
  {
   "cell_type": "code",
   "execution_count": null,
   "id": "4091f2f3",
   "metadata": {},
   "outputs": [],
   "source": [
    "string1='hai how are you'\n",
    "count=1\n",
    "for i in range(len(string1)):\n",
    "    if i=='a':\n",
    "        count+=1\n",
    "print(count)"
   ]
  },
  {
   "cell_type": "code",
   "execution_count": null,
   "id": "06267059",
   "metadata": {},
   "outputs": [],
   "source": []
  }
 ],
 "metadata": {
  "kernelspec": {
   "display_name": "Python 3 (ipykernel)",
   "language": "python",
   "name": "python3"
  },
  "language_info": {
   "codemirror_mode": {
    "name": "ipython",
    "version": 3
   },
   "file_extension": ".py",
   "mimetype": "text/x-python",
   "name": "python",
   "nbconvert_exporter": "python",
   "pygments_lexer": "ipython3",
   "version": "3.11.5"
  }
 },
 "nbformat": 4,
 "nbformat_minor": 5
}
