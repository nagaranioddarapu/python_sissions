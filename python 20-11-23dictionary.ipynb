{
 "cells": [
  {
   "cell_type": "code",
   "execution_count": 1,
   "id": "6fe5f26b",
   "metadata": {},
   "outputs": [
    {
     "data": {
      "text/plain": [
       "{'ram': 25, 'study': 30, 'place': 35}"
      ]
     },
     "execution_count": 1,
     "metadata": {},
     "output_type": "execute_result"
    }
   ],
   "source": [
    "### Dictionary ####\n",
    "d1={'ram':25,\n",
    "    'study':30,     #key is string type ,value is integer type\n",
    "    'place':35}\n",
    "d1"
   ]
  },
  {
   "cell_type": "code",
   "execution_count": 2,
   "id": "a3fc2481",
   "metadata": {},
   "outputs": [
    {
     "data": {
      "text/plain": [
       "{25: 'ram', 30: 'raheem', 35: 'robert'}"
      ]
     },
     "execution_count": 2,
     "metadata": {},
     "output_type": "execute_result"
    }
   ],
   "source": [
    "d1={25:'ram',     # keys are integer type and values are string type \n",
    "    30:'raheem',\n",
    "    35:'robert',}\n",
    "d1"
   ]
  },
  {
   "cell_type": "code",
   "execution_count": 3,
   "id": "3c1d41ed",
   "metadata": {},
   "outputs": [
    {
     "data": {
      "text/plain": [
       "{'even': [6, 2, 4], 'odd': [1, 3, 5]}"
      ]
     },
     "execution_count": 3,
     "metadata": {},
     "output_type": "execute_result"
    }
   ],
   "source": [
    "d3={'even':[6,2,4],'odd':[1,3,5]}  #keys are string data type and values are list\n",
    "d3"
   ]
  },
  {
   "cell_type": "code",
   "execution_count": 4,
   "id": "8fefa9e1",
   "metadata": {},
   "outputs": [
    {
     "ename": "TypeError",
     "evalue": "unhashable type: 'list'",
     "output_type": "error",
     "traceback": [
      "\u001b[1;31m---------------------------------------------------------------------------\u001b[0m",
      "\u001b[1;31mTypeError\u001b[0m                                 Traceback (most recent call last)",
      "Cell \u001b[1;32mIn[4], line 1\u001b[0m\n\u001b[1;32m----> 1\u001b[0m d4\u001b[38;5;241m=\u001b[39m{[\u001b[38;5;241m2\u001b[39m,\u001b[38;5;241m4\u001b[39m,\u001b[38;5;241m6\u001b[39m]:\u001b[38;5;124m'\u001b[39m\u001b[38;5;124meven\u001b[39m\u001b[38;5;124m'\u001b[39m,[\u001b[38;5;241m1\u001b[39m,\u001b[38;5;241m3\u001b[39m,\u001b[38;5;241m5\u001b[39m]:\u001b[38;5;124m'\u001b[39m\u001b[38;5;124modd\u001b[39m\u001b[38;5;124m'\u001b[39m} \n\u001b[0;32m      2\u001b[0m d4\n",
      "\u001b[1;31mTypeError\u001b[0m: unhashable type: 'list'"
     ]
    }
   ],
   "source": [
    "d4={[2,4,6]:'even',[1,3,5]:'odd'} \n",
    "d4    # keys are list type and values are string type\n",
    "       # keys are not accepting list type"
   ]
  },
  {
   "cell_type": "code",
   "execution_count": 5,
   "id": "59ef3291",
   "metadata": {},
   "outputs": [
    {
     "data": {
      "text/plain": [
       "{(2, 4, 6): 'even', (1, 3, 5): 'odd'}"
      ]
     },
     "execution_count": 5,
     "metadata": {},
     "output_type": "execute_result"
    }
   ],
   "source": [
    "d4={(2,4,6):'even',(1,3,5):'odd'} \n",
    "d4    # keys are tuple  type and values are string type\n",
    "       # keys not accept list but accept tuple type"
   ]
  },
  {
   "cell_type": "code",
   "execution_count": 7,
   "id": "b3a61d2f",
   "metadata": {},
   "outputs": [
    {
     "data": {
      "text/plain": [
       "{'item_list': {'fruit': 'apple'}}"
      ]
     },
     "execution_count": 7,
     "metadata": {},
     "output_type": "execute_result"
    }
   ],
   "source": [
    "d5={'item_list':{'fruit':'apple'}} #key is string ,value is dictionary\n",
    "d5"
   ]
  },
  {
   "cell_type": "code",
   "execution_count": 8,
   "id": "a4c3d0f2",
   "metadata": {},
   "outputs": [
    {
     "ename": "TypeError",
     "evalue": "unhashable type: 'dict'",
     "output_type": "error",
     "traceback": [
      "\u001b[1;31m---------------------------------------------------------------------------\u001b[0m",
      "\u001b[1;31mTypeError\u001b[0m                                 Traceback (most recent call last)",
      "Cell \u001b[1;32mIn[8], line 1\u001b[0m\n\u001b[1;32m----> 1\u001b[0m d6\u001b[38;5;241m=\u001b[39m{{\u001b[38;5;124m'\u001b[39m\u001b[38;5;124mfruit\u001b[39m\u001b[38;5;124m'\u001b[39m:\u001b[38;5;124m'\u001b[39m\u001b[38;5;124mapple\u001b[39m\u001b[38;5;124m'\u001b[39m}:\u001b[38;5;124m'\u001b[39m\u001b[38;5;124mitem_list\u001b[39m\u001b[38;5;124m'\u001b[39m}\n",
      "\u001b[1;31mTypeError\u001b[0m: unhashable type: 'dict'"
     ]
    }
   ],
   "source": [
    "d6={{'fruit':'apple'}:'item_list'}\n",
    "d6    # keys are not accepting dictionary"
   ]
  },
  {
   "cell_type": "code",
   "execution_count": 10,
   "id": "72c1e930",
   "metadata": {},
   "outputs": [
    {
     "data": {
      "text/plain": [
       "[1, 2]"
      ]
     },
     "execution_count": 10,
     "metadata": {},
     "output_type": "execute_result"
    }
   ],
   "source": [
    "a=[1,2]   #list  assigned in varable 'a'\n",
    "a         #output is [1,2]"
   ]
  },
  {
   "cell_type": "code",
   "execution_count": 12,
   "id": "fab29b16",
   "metadata": {},
   "outputs": [
    {
     "data": {
      "text/plain": [
       "(1, 2)"
      ]
     },
     "execution_count": 12,
     "metadata": {},
     "output_type": "execute_result"
    }
   ],
   "source": [
    "a=(1,2)     # tuple assigned in variable in 'a'\n",
    "a           #output is (1,2)"
   ]
  },
  {
   "cell_type": "code",
   "execution_count": 15,
   "id": "fde66e2e",
   "metadata": {},
   "outputs": [
    {
     "data": {
      "text/plain": [
       "2"
      ]
     },
     "execution_count": 15,
     "metadata": {},
     "output_type": "execute_result"
    }
   ],
   "source": [
    "a,b=[1,2]    #1 is stored in 'a',2 is stored in 'b'\n",
    "a\n",
    "b"
   ]
  },
  {
   "cell_type": "code",
   "execution_count": 20,
   "id": "275f2f97",
   "metadata": {},
   "outputs": [
    {
     "data": {
      "text/plain": [
       "2"
      ]
     },
     "execution_count": 20,
     "metadata": {},
     "output_type": "execute_result"
    }
   ],
   "source": [
    "a,b=(1,2)   \n",
    "a       # a =1,b=2\n",
    "b\n"
   ]
  },
  {
   "cell_type": "code",
   "execution_count": 21,
   "id": "9a308d59",
   "metadata": {},
   "outputs": [
    {
     "data": {
      "text/plain": [
       "(1, 2)"
      ]
     },
     "execution_count": 21,
     "metadata": {},
     "output_type": "execute_result"
    }
   ],
   "source": [
    "a=1,2\n",
    "a        #a=(1,2)"
   ]
  },
  {
   "cell_type": "code",
   "execution_count": 24,
   "id": "34b2eab0",
   "metadata": {},
   "outputs": [
    {
     "data": {
      "text/plain": [
       "{'A': 1, 'B': 2}"
      ]
     },
     "execution_count": 24,
     "metadata": {},
     "output_type": "execute_result"
    }
   ],
   "source": [
    "d1={'A':1,'B':2,'A':1}\n",
    "d1     # DUPLICATES WILL NOT WORK"
   ]
  },
  {
   "cell_type": "code",
   "execution_count": 25,
   "id": "c9eb7562",
   "metadata": {},
   "outputs": [
    {
     "data": {
      "text/plain": [
       "{'A': 3, 'B': 2}"
      ]
     },
     "execution_count": 25,
     "metadata": {},
     "output_type": "execute_result"
    }
   ],
   "source": [
    "d1={'A':1,'B':2,'A':3}\n",
    "d1     # 'A' stored with latest value\n"
   ]
  },
  {
   "cell_type": "markdown",
   "id": "fb28819d",
   "metadata": {},
   "source": [
    "# type()"
   ]
  },
  {
   "cell_type": "code",
   "execution_count": 27,
   "id": "5ace75d2",
   "metadata": {},
   "outputs": [
    {
     "data": {
      "text/plain": [
       "dict"
      ]
     },
     "execution_count": 27,
     "metadata": {},
     "output_type": "execute_result"
    }
   ],
   "source": [
    "type(d1)"
   ]
  },
  {
   "cell_type": "code",
   "execution_count": null,
   "id": "18482c82",
   "metadata": {},
   "outputs": [],
   "source": []
  },
  {
   "cell_type": "code",
   "execution_count": null,
   "id": "a34b159e",
   "metadata": {},
   "outputs": [],
   "source": []
  },
  {
   "cell_type": "code",
   "execution_count": 12,
   "id": "6e868525",
   "metadata": {},
   "outputs": [
    {
     "data": {
      "text/plain": [
       "{'even': [6, 4], 'odd': [7, 3, 1]}"
      ]
     },
     "execution_count": 12,
     "metadata": {},
     "output_type": "execute_result"
    }
   ],
   "source": [
    "dic1={}\n",
    "l1=[]\n",
    "l2=[]\n",
    "import random\n",
    "for i in range(5):\n",
    "    num=random.randint(1,10)\n",
    "    if num%2==0:\n",
    "        l1.append(num)\n",
    "        \n",
    "    else:\n",
    "         l2.append(num)\n",
    "            \n",
    "dic1['even']=l1\n",
    "        \n",
    "dic1['odd']=l2\n",
    "        \n",
    "dic1  \n",
    "    \n",
    "        "
   ]
  },
  {
   "cell_type": "code",
   "execution_count": 31,
   "id": "7742624f",
   "metadata": {},
   "outputs": [
    {
     "ename": "TypeError",
     "evalue": "unsupported operand type(s) for +: 'int' and 'str'",
     "output_type": "error",
     "traceback": [
      "\u001b[1;31m---------------------------------------------------------------------------\u001b[0m",
      "\u001b[1;31mTypeError\u001b[0m                                 Traceback (most recent call last)",
      "Cell \u001b[1;32mIn[31], line 8\u001b[0m\n\u001b[0;32m      6\u001b[0m \u001b[38;5;28mmin\u001b[39m(d1)   \u001b[38;5;66;03m#min is 'place'\u001b[39;00m\n\u001b[0;32m      7\u001b[0m \u001b[38;5;28mlen\u001b[39m(d1)    \u001b[38;5;66;03m# length is '3', it has '3'-key pairs\u001b[39;00m\n\u001b[1;32m----> 8\u001b[0m \u001b[38;5;28msum\u001b[39m(d1)\n",
      "\u001b[1;31mTypeError\u001b[0m: unsupported operand type(s) for +: 'int' and 'str'"
     ]
    }
   ],
   "source": [
    "### Dictionary ####\n",
    "d1={'ram':25,\n",
    "    'study':30,     # 's is max'-------ascivalue is high\n",
    "    'place':35}\n",
    "max(d1)   #max is 'study'\n",
    "min(d1)   #min is 'place'\n",
    "len(d1)    # length is '3', it has '3'-key pairs\n",
    "sum(d1)     #typeError--- data type error"
   ]
  },
  {
   "cell_type": "code",
   "execution_count": 36,
   "id": "7a6ede35",
   "metadata": {},
   "outputs": [
    {
     "data": {
      "text/plain": [
       "4"
      ]
     },
     "execution_count": 36,
     "metadata": {},
     "output_type": "execute_result"
    }
   ],
   "source": [
    "d2={1:2,3:4}\n",
    "d2        #output is {1:2,3:4}\n",
    "max(d2)   # max is '3'--based on key value\n",
    "min(d2)   # min is '1'\n",
    "len(d2)   # d2 len is '2'bcz 2 pairs are there\n",
    "sum(d2)   # addition of keys 1+3=4"
   ]
  },
  {
   "cell_type": "code",
   "execution_count": 37,
   "id": "23fce10a",
   "metadata": {},
   "outputs": [
    {
     "data": {
      "text/plain": [
       "300"
      ]
     },
     "execution_count": 37,
     "metadata": {},
     "output_type": "execute_result"
    }
   ],
   "source": [
    "d2={100:2,200:3}\n",
    "sum(d2)    #100+200"
   ]
  },
  {
   "cell_type": "code",
   "execution_count": 38,
   "id": "a54bde18",
   "metadata": {},
   "outputs": [
    {
     "ename": "TypeError",
     "evalue": "unsupported operand type(s) for -: 'str' and 'str'",
     "output_type": "error",
     "traceback": [
      "\u001b[1;31m---------------------------------------------------------------------------\u001b[0m",
      "\u001b[1;31mTypeError\u001b[0m                                 Traceback (most recent call last)",
      "Cell \u001b[1;32mIn[38], line 1\u001b[0m\n\u001b[1;32m----> 1\u001b[0m \u001b[38;5;124m'\u001b[39m\u001b[38;5;124ma\u001b[39m\u001b[38;5;124m'\u001b[39m\u001b[38;5;241m-\u001b[39m\u001b[38;5;124m'\u001b[39m\u001b[38;5;124mb\u001b[39m\u001b[38;5;124m'\u001b[39m\n",
      "\u001b[1;31mTypeError\u001b[0m: unsupported operand type(s) for -: 'str' and 'str'"
     ]
    }
   ],
   "source": [
    "'a'-'b'"
   ]
  },
  {
   "cell_type": "code",
   "execution_count": 39,
   "id": "750e6e35",
   "metadata": {},
   "outputs": [
    {
     "ename": "TypeError",
     "evalue": "unsupported operand type(s) for /: 'str' and 'str'",
     "output_type": "error",
     "traceback": [
      "\u001b[1;31m---------------------------------------------------------------------------\u001b[0m",
      "\u001b[1;31mTypeError\u001b[0m                                 Traceback (most recent call last)",
      "Cell \u001b[1;32mIn[39], line 1\u001b[0m\n\u001b[1;32m----> 1\u001b[0m \u001b[38;5;124m'\u001b[39m\u001b[38;5;124ma\u001b[39m\u001b[38;5;124m'\u001b[39m\u001b[38;5;241m/\u001b[39m\u001b[38;5;124m'\u001b[39m\u001b[38;5;124mb\u001b[39m\u001b[38;5;124m'\u001b[39m\n",
      "\u001b[1;31mTypeError\u001b[0m: unsupported operand type(s) for /: 'str' and 'str'"
     ]
    }
   ],
   "source": [
    "'a'/'b'"
   ]
  },
  {
   "cell_type": "code",
   "execution_count": 40,
   "id": "b708cbef",
   "metadata": {},
   "outputs": [
    {
     "ename": "TypeError",
     "evalue": "can't multiply sequence by non-int of type 'str'",
     "output_type": "error",
     "traceback": [
      "\u001b[1;31m---------------------------------------------------------------------------\u001b[0m",
      "\u001b[1;31mTypeError\u001b[0m                                 Traceback (most recent call last)",
      "Cell \u001b[1;32mIn[40], line 1\u001b[0m\n\u001b[1;32m----> 1\u001b[0m \u001b[38;5;124m'\u001b[39m\u001b[38;5;124ma\u001b[39m\u001b[38;5;124m'\u001b[39m\u001b[38;5;241m*\u001b[39m\u001b[38;5;124m'\u001b[39m\u001b[38;5;124mb\u001b[39m\u001b[38;5;124m'\u001b[39m\n",
      "\u001b[1;31mTypeError\u001b[0m: can't multiply sequence by non-int of type 'str'"
     ]
    }
   ],
   "source": [
    "'a'*'b'"
   ]
  },
  {
   "cell_type": "markdown",
   "id": "43c9d5e5",
   "metadata": {},
   "source": [
    "# in operator"
   ]
  },
  {
   "cell_type": "code",
   "execution_count": 41,
   "id": "d56c71f2",
   "metadata": {},
   "outputs": [
    {
     "ename": "SyntaxError",
     "evalue": "illegal target for annotation (3348683657.py, line 5)",
     "output_type": "error",
     "traceback": [
      "\u001b[1;36m  Cell \u001b[1;32mIn[41], line 5\u001b[1;36m\u001b[0m\n\u001b[1;33m    'ram':25 in d1\u001b[0m\n\u001b[1;37m    ^\u001b[0m\n\u001b[1;31mSyntaxError\u001b[0m\u001b[1;31m:\u001b[0m illegal target for annotation\n"
     ]
    }
   ],
   "source": [
    "### Dictionary ####\n",
    "d1={'ram':25,\n",
    "    'study':30,     # key is imp\n",
    "    'place':35}\n",
    "'ram':25 in d1"
   ]
  },
  {
   "cell_type": "code",
   "execution_count": 42,
   "id": "f1c4ea87",
   "metadata": {},
   "outputs": [
    {
     "data": {
      "text/plain": [
       "True"
      ]
     },
     "execution_count": 42,
     "metadata": {},
     "output_type": "execute_result"
    }
   ],
   "source": [
    "'ram' in d1  # 'ram' is key ,based on key predict output"
   ]
  },
  {
   "cell_type": "code",
   "execution_count": 43,
   "id": "ee18091c",
   "metadata": {},
   "outputs": [
    {
     "ename": "SyntaxError",
     "evalue": "invalid syntax (1954532391.py, line 1)",
     "output_type": "error",
     "traceback": [
      "\u001b[1;36m  Cell \u001b[1;32mIn[43], line 1\u001b[1;36m\u001b[0m\n\u001b[1;33m    25 ind1    #false ,it is not key\u001b[0m\n\u001b[1;37m       ^\u001b[0m\n\u001b[1;31mSyntaxError\u001b[0m\u001b[1;31m:\u001b[0m invalid syntax\n"
     ]
    }
   ],
   "source": [
    "25 ind1    #false ,it is not key"
   ]
  },
  {
   "cell_type": "code",
   "execution_count": 46,
   "id": "d7deba13",
   "metadata": {},
   "outputs": [
    {
     "name": "stdout",
     "output_type": "stream",
     "text": [
      "ram\n",
      "study\n",
      "place\n"
     ]
    }
   ],
   "source": [
    "### Dictionary ####\n",
    "d1={'ram':25,\n",
    "    'study':30,     # key is imp\n",
    "    'place':35}\n",
    "\n",
    "for i in d1:   # using for loop print all keys\n",
    "    print(i)"
   ]
  },
  {
   "cell_type": "markdown",
   "id": "30ef9bf4",
   "metadata": {},
   "source": [
    "# index\n"
   ]
  },
  {
   "cell_type": "code",
   "execution_count": 1,
   "id": "51e31563",
   "metadata": {},
   "outputs": [
    {
     "data": {
      "text/plain": [
       "25"
      ]
     },
     "execution_count": 1,
     "metadata": {},
     "output_type": "execute_result"
    }
   ],
   "source": [
    "### Dictionary ####\n",
    "d1={'ram':25,\n",
    "    'study':30,     # key is imp\n",
    "    'place':35}\n",
    "d1['ram']"
   ]
  },
  {
   "cell_type": "code",
   "execution_count": 2,
   "id": "255d28f1",
   "metadata": {},
   "outputs": [
    {
     "name": "stdout",
     "output_type": "stream",
     "text": [
      "ram 25\n",
      "study 30\n",
      "place 35\n"
     ]
    }
   ],
   "source": [
    "### Dictionary ####\n",
    "d1={'ram':25,\n",
    "    'study':30,     # key is imp\n",
    "    'place':35}\n",
    "for i in d1:\n",
    "    print(i,d1[i])"
   ]
  },
  {
   "cell_type": "code",
   "execution_count": 3,
   "id": "93813c76",
   "metadata": {},
   "outputs": [
    {
     "ename": "KeyError",
     "evalue": "0",
     "output_type": "error",
     "traceback": [
      "\u001b[1;31m---------------------------------------------------------------------------\u001b[0m",
      "\u001b[1;31mKeyError\u001b[0m                                  Traceback (most recent call last)",
      "Cell \u001b[1;32mIn[3], line 2\u001b[0m\n\u001b[0;32m      1\u001b[0m \u001b[38;5;28;01mfor\u001b[39;00m i \u001b[38;5;129;01min\u001b[39;00m \u001b[38;5;28mrange\u001b[39m(\u001b[38;5;28mlen\u001b[39m(d1)):\n\u001b[1;32m----> 2\u001b[0m     \u001b[38;5;28mprint\u001b[39m(i,d1[i])\n",
      "\u001b[1;31mKeyError\u001b[0m: 0"
     ]
    }
   ],
   "source": [
    "for i in range(len(d1)):\n",
    "    print(i,d1[i])"
   ]
  },
  {
   "cell_type": "markdown",
   "id": "8ca4d14f",
   "metadata": {},
   "source": [
    "#  creating a empty dictionary and update"
   ]
  },
  {
   "cell_type": "code",
   "execution_count": 6,
   "id": "a4016da5",
   "metadata": {},
   "outputs": [
    {
     "data": {
      "text/plain": [
       "'nagarani'"
      ]
     },
     "execution_count": 6,
     "metadata": {},
     "output_type": "execute_result"
    }
   ],
   "source": [
    "#string\n",
    "s1=''\n",
    "str1='nagarani'\n",
    "for i in str1:\n",
    "     s1=s1+i\n",
    "s1"
   ]
  },
  {
   "cell_type": "code",
   "execution_count": 8,
   "id": "da8ab16f",
   "metadata": {},
   "outputs": [
    {
     "data": {
      "text/plain": [
       "[0, 1, 2, 3, 4, 5, 6, 7, 8, 9]"
      ]
     },
     "execution_count": 8,
     "metadata": {},
     "output_type": "execute_result"
    }
   ],
   "source": [
    "#list\n",
    "#list comprehension\n",
    "l=[i for i in range(10)]\n",
    "l"
   ]
  },
  {
   "cell_type": "code",
   "execution_count": 9,
   "id": "ea5657ac",
   "metadata": {},
   "outputs": [
    {
     "data": {
      "text/plain": [
       "[0, 1, 2, 3, 4, 5, 6, 7, 8]"
      ]
     },
     "execution_count": 9,
     "metadata": {},
     "output_type": "execute_result"
    }
   ],
   "source": [
    "l=[]\n",
    "for i in range(9):\n",
    "    l.append(i)\n",
    "l"
   ]
  },
  {
   "cell_type": "code",
   "execution_count": 11,
   "id": "5588ed45",
   "metadata": {},
   "outputs": [
    {
     "data": {
      "text/plain": [
       "{'fruit': 'apple'}"
      ]
     },
     "execution_count": 11,
     "metadata": {},
     "output_type": "execute_result"
    }
   ],
   "source": [
    "d1={}\n",
    "d1['fruit']='apple'  #updating dictionary\n",
    "d1"
   ]
  },
  {
   "cell_type": "code",
   "execution_count": 12,
   "id": "e558873f",
   "metadata": {},
   "outputs": [
    {
     "data": {
      "text/plain": [
       "{'Name': 'Rani', 'study': 'b.tech', 'place': 'hyderabad', 'age': '33'}"
      ]
     },
     "execution_count": 12,
     "metadata": {},
     "output_type": "execute_result"
    }
   ],
   "source": [
    "# wap create a database name,study,place,age\n",
    "d1={}\n",
    "d1['Name']='Rani'\n",
    "d1['study']='b.tech'\n",
    "d1['place']='hyderabad'\n",
    "d1['age']='33'\n",
    "d1"
   ]
  },
  {
   "cell_type": "code",
   "execution_count": 15,
   "id": "0451204f",
   "metadata": {},
   "outputs": [
    {
     "data": {
      "text/plain": [
       "{'Ram': 23, 'Raheem': 34, 'Robert': 45}"
      ]
     },
     "execution_count": 15,
     "metadata": {},
     "output_type": "execute_result"
    }
   ],
   "source": [
    "d1={}\n",
    "names=['Ram','Raheem','Robert']\n",
    "ages=[23,34,45]\n",
    "for i in range(len(names)):\n",
    "    d1[names[i]]=ages[i]\n",
    "    \n",
    "d1"
   ]
  },
  {
   "cell_type": "code",
   "execution_count": 18,
   "id": "34bc795e",
   "metadata": {},
   "outputs": [
    {
     "data": {
      "text/plain": [
       "{'Ram': 23, 'Raheem': 34, 'Robert': 45}"
      ]
     },
     "execution_count": 18,
     "metadata": {},
     "output_type": "execute_result"
    }
   ],
   "source": [
    "#dictionary  comprehension\n",
    "d1={names[i]:ages[i] for i in range(len(names))}\n",
    "d1"
   ]
  },
  {
   "cell_type": "code",
   "execution_count": 21,
   "id": "91676f0e",
   "metadata": {},
   "outputs": [
    {
     "data": {
      "text/plain": [
       "{'Ram': 23, 'Raheem': 34, 'Robert': 45}"
      ]
     },
     "execution_count": 21,
     "metadata": {},
     "output_type": "execute_result"
    }
   ],
   "source": [
    "#using zip\n",
    "d1={name:age for name,age in zip(names,ages)}\n",
    "d1"
   ]
  },
  {
   "cell_type": "code",
   "execution_count": 22,
   "id": "26fc049d",
   "metadata": {},
   "outputs": [
    {
     "data": {
      "text/plain": [
       "{'Ram': 23, 'Raheem': 34, 'Robert': 45}"
      ]
     },
     "execution_count": 22,
     "metadata": {},
     "output_type": "execute_result"
    }
   ],
   "source": [
    "d1={}\n",
    "names=['Ram','Raheem','Robert']\n",
    "ages=[23,34,45]\n",
    "for i,j in zip(names,ages):\n",
    "    d1[i]=j\n",
    "    \n",
    "d1"
   ]
  },
  {
   "cell_type": "code",
   "execution_count": 24,
   "id": "37ea3695",
   "metadata": {},
   "outputs": [
    {
     "data": {
      "text/plain": [
       "{'even': [2, 10, 4, 4], 'odd': [1]}"
      ]
     },
     "execution_count": 24,
     "metadata": {},
     "output_type": "execute_result"
    }
   ],
   "source": [
    "#wap take 5 random numbers\n",
    "#create a d1={} with even and odd\n",
    "#output:{'even':[2,4],'odd':[1,3,5]}\n",
    "import random\n",
    "d1={}\n",
    "even=[]\n",
    "odd=[]\n",
    "for i in range(5):\n",
    "    num=random.randint(1,10)\n",
    "    if num%2==0:\n",
    "        even.append(num)\n",
    "    else:\n",
    "        odd.append(num)\n",
    "        \n",
    "d1['even']=even\n",
    "d1['odd']=odd\n",
    "d1"
   ]
  },
  {
   "cell_type": "code",
   "execution_count": null,
   "id": "4dec1c8f",
   "metadata": {},
   "outputs": [],
   "source": []
  }
 ],
 "metadata": {
  "kernelspec": {
   "display_name": "Python 3 (ipykernel)",
   "language": "python",
   "name": "python3"
  },
  "language_info": {
   "codemirror_mode": {
    "name": "ipython",
    "version": 3
   },
   "file_extension": ".py",
   "mimetype": "text/x-python",
   "name": "python",
   "nbconvert_exporter": "python",
   "pygments_lexer": "ipython3",
   "version": "3.11.5"
  }
 },
 "nbformat": 4,
 "nbformat_minor": 5
}
