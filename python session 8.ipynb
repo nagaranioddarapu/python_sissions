{
 "cells": [
  {
   "cell_type": "code",
   "execution_count": 1,
   "id": "56e116bf",
   "metadata": {},
   "outputs": [
    {
     "name": "stdout",
     "output_type": "stream",
     "text": [
      "enter distance in km6\n",
      "charge is 40rs\n"
     ]
    }
   ],
   "source": [
    "try:\n",
    "    dis=eval(input(\"enter distance in km\"))\n",
    "    if dis>=10:\n",
    "        print(\"charge is 100rs\")\n",
    "    elif dis>=7:\n",
    "        print(\"charge is 70rs\")\n",
    "    elif dis>=4:\n",
    "        print(\"charge is 40rs\")\n",
    "    else:\n",
    "        print(\"charge is 30rs\")\n",
    "except Exception as e:\n",
    "    print(e)\n"
   ]
  },
  {
   "cell_type": "markdown",
   "id": "ea550114",
   "metadata": {},
   "source": [
    "# wap for incomtax"
   ]
  },
  {
   "cell_type": "code",
   "execution_count": 6,
   "id": "42d24afd",
   "metadata": {},
   "outputs": [
    {
     "name": "stdout",
     "output_type": "stream",
     "text": [
      "enter salary500000\n",
      "enter tax percentage2\n",
      "the amount of tax paid is 10000.0\n"
     ]
    }
   ],
   "source": [
    "try:\n",
    "    sal=eval(input(\"enter salary\"))\n",
    "    if sal>=1000000:\n",
    "        tax_per=eval(input(\"enter tax percentage\"))\n",
    "        amount=(sal*tax_per)/100\n",
    "        print(\"the amount of tax paid is {}\".format(amount))\n",
    "    elif sal>=700000:\n",
    "        tax_per=eval(input(\"enter tax percentage\"))\n",
    "        amount=(sal*tax_per)/100\n",
    "        print(\"the amount of tax paid is {}\".format(amount))\n",
    "    elif sal>=400000:\n",
    "        tax_per=eval(input(\"enter tax percentage\"))\n",
    "        amount=(sal*tax_per)/100\n",
    "        print(\"the amount of tax paid is {}\".format(amount))\n",
    "    else:\n",
    "        print(\"no tax required\")\n",
    "except Exception as e:\n",
    "    print(e)\n",
    "        "
   ]
  },
  {
   "cell_type": "code",
   "execution_count": 35,
   "id": "b7ef26d6",
   "metadata": {},
   "outputs": [
    {
     "name": "stdout",
     "output_type": "stream",
     "text": [
      "enter operation/\n",
      "enter a number14\n",
      "enter a number25\n",
      "we are doing division operation\n",
      "the division of 4 and 5 is 0.8 \n"
     ]
    }
   ],
   "source": [
    "try:\n",
    "    operation=input(\"enter operation\")\n",
    "    num1=eval(input(\"enter a number1\"))\n",
    "    num2=eval(input(\"enter a number2\"))\n",
    "    if operation=='+':\n",
    "        print(\"we are doiopng addition operation\")\n",
    "        print(\"the addition of {} and {} is {} \".format(num1,num2,num1+num2))\n",
    "    elif operation=='*':\n",
    "        print(\"we are doing multiplication operation\")\n",
    "        print(\"the multiplication of {} and {} is {} \".format(num1,num2,num1*num2))\n",
    "    elif operation=='-':\n",
    "        print(\"we are doing sub operation\")\n",
    "        print(\"the subtraction of {} and {} is {} \".format(num1,num2,num1-num2))\n",
    "          \n",
    "    elif operation=='/':\n",
    "        print(\"we are doing division operation\")\n",
    "        print(\"the division of {} and {} is {} \".format(num1,num2,num1/num2))\n",
    "          \n",
    "    else:\n",
    "          print(\"provide suitable operation\")\n",
    "                \n",
    "                \n",
    "except Exception as e:\n",
    "                print(e)\n",
    "\n",
    "\n"
   ]
  },
  {
   "cell_type": "markdown",
   "id": "310215f3",
   "metadata": {},
   "source": [
    "# nested if else"
   ]
  },
  {
   "cell_type": "code",
   "execution_count": 19,
   "id": "f529f392",
   "metadata": {
    "scrolled": true
   },
   "outputs": [
    {
     "name": "stdout",
     "output_type": "stream",
     "text": [
      "enter a number0\n",
      "it is azero number\n"
     ]
    }
   ],
   "source": [
    "num=eval(input(\"enter a number\"))\n",
    "if num>=0:\n",
    "    if num==0:\n",
    "        print(\"it is azero number\")\n",
    "    else:\n",
    "        print(\"it is postive number\")\n",
    "else:\n",
    "    print(\"it is a negative number\")"
   ]
  },
  {
   "cell_type": "code",
   "execution_count": 22,
   "id": "0fc50610",
   "metadata": {},
   "outputs": [
    {
     "name": "stdout",
     "output_type": "stream",
     "text": [
      "enter genderfemale\n",
      "enter age21\n",
      "young girl\n"
     ]
    }
   ],
   "source": [
    "gen=input(\"enter gender\")\n",
    "if gen=='male':\n",
    "    age=eval(input(\"enter age\"))\n",
    "    if age>=60:\n",
    "        print(\"senior citizen\")\n",
    "    elif age>=30:\n",
    "        print(\"middle age\")\n",
    "    elif age>=20:\n",
    "        print(\"young boy\")\n",
    "    elif age>=13:\n",
    "\n",
    "        print(\"teenage\")\n",
    "    else:\n",
    "        print(\"boy\")\n",
    "else:\n",
    "    age=eval(input(\"enter age\"))\n",
    "    if age>=60:\n",
    "        print(\"senior citizen\")\n",
    "    elif age>=30:\n",
    "        print(\"middle age\")\n",
    "    elif age>=20:\n",
    "        print(\"young girl\")\n",
    "    elif age>=13:\n",
    "\n",
    "        print(\"teenage\")\n",
    "    else:\n",
    "        print(\"girl\")\n",
    "    "
   ]
  },
  {
   "cell_type": "markdown",
   "id": "c070bcf2",
   "metadata": {},
   "source": [
    "# wap to find biggest number"
   ]
  },
  {
   "cell_type": "code",
   "execution_count": 47,
   "id": "ae530435",
   "metadata": {},
   "outputs": [
    {
     "name": "stdout",
     "output_type": "stream",
     "text": [
      "enter a number1 :3\n",
      "enter number 2 :4\n",
      "enter number3 :5\n",
      "num2 4 is big \n"
     ]
    }
   ],
   "source": [
    "try:\n",
    "    num1=eval(input(\"enter a number1 :\"))\n",
    "    num2=eval(input(\"enter number 2 :\"))\n",
    "    num3=eval(input(\"enter number3 :\"))\n",
    "    if num1>num2:\n",
    "        print(\"num1 {} is biggest number\".format(num1))\n",
    "        if num2>num3:\n",
    "            print(\"num2 {} is big\".format(num2))\n",
    "        elif num3>num1:\n",
    "            print(\"num3 {} is big\".format(num3))\n",
    "        elif num3>num1:\n",
    "             print(\"num1 {} is big\".format(num1))\n",
    "    else:\n",
    "        print(\"num2 {} is big \".format(num2))\n",
    "        \n",
    "except Exception as e:\n",
    "    print(e)\n"
   ]
  },
  {
   "cell_type": "code",
   "execution_count": null,
   "id": "b6eae923",
   "metadata": {},
   "outputs": [],
   "source": []
  }
 ],
 "metadata": {
  "kernelspec": {
   "display_name": "Python 3 (ipykernel)",
   "language": "python",
   "name": "python3"
  },
  "language_info": {
   "codemirror_mode": {
    "name": "ipython",
    "version": 3
   },
   "file_extension": ".py",
   "mimetype": "text/x-python",
   "name": "python",
   "nbconvert_exporter": "python",
   "pygments_lexer": "ipython3",
   "version": "3.11.5"
  }
 },
 "nbformat": 4,
 "nbformat_minor": 5
}
