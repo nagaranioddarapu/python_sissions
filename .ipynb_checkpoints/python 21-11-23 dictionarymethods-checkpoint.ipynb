{
 "cells": [
  {
   "cell_type": "code",
   "execution_count": null,
   "id": "eebc2ccd",
   "metadata": {},
   "outputs": [],
   "source": [
    "# iam modifying dictionary file"
   ]
  },
  {
   "cell_type": "code",
   "execution_count": 1,
   "id": "4463124b",
   "metadata": {},
   "outputs": [
    {
     "data": {
      "text/plain": [
       "{'ram': 25, 'raheem': 34, 'robert': 45}"
      ]
     },
     "execution_count": 1,
     "metadata": {},
     "output_type": "execute_result"
    }
   ],
   "source": [
    "keys=['ram','raheem','robert']\n",
    "values=[25,34,45]\n",
    "d1={}\n",
    "for i in range(len(keys)):\n",
    "    d1[keys[i]]=values[i]\n",
    "    \n",
    "d1"
   ]
  },
  {
   "cell_type": "code",
   "execution_count": 55,
   "id": "462e635e",
   "metadata": {},
   "outputs": [
    {
     "name": "stdout",
     "output_type": "stream",
     "text": [
      "virat.kohli@blr.com\n",
      "virat\n",
      "kohli\n",
      "blr\n",
      "Rohit.sharma@mumbai.com\n",
      "Rohit\n",
      "sharma\n",
      "mumbai\n",
      "kl.rahul@lucknow.com\n",
      "kl\n",
      "rahul\n",
      "lucknow\n"
     ]
    },
    {
     "data": {
      "text/plain": [
       "['virat.kohli@blr.com', 'Rohit.sharma@mumbai.com', 'kl.rahul@lucknow.com']"
      ]
     },
     "execution_count": 55,
     "metadata": {},
     "output_type": "execute_result"
    }
   ],
   "source": [
    "s1='virat.kohli@blr.com,Rohit.sharma@mumbai.com,kl.rahul@lucknow.com'\n",
    "d1={}\n",
    "first_name=[]\n",
    "second_name=[]\n",
    "company=[]\n",
    "s1=s1.split(',')\n",
    "for i in s1:\n",
    "    print(i)\n",
    "    print((i[0:i.find('.')]))\n",
    "    print(i[i.find('.')+1:i.find('@')])\n",
    "    print(i[i.find('@')+1:i.find('.',i.find('.')+1)])\n",
    "        \n",
    "s1"
   ]
  },
  {
   "cell_type": "code",
   "execution_count": 66,
   "id": "8f7fd6f9",
   "metadata": {},
   "outputs": [
    {
     "name": "stdout",
     "output_type": "stream",
     "text": [
      "virat.kohli@blr.com\n",
      "Rohit.sharma@mumbai.com\n",
      "kl.rahul@lucknow.com\n"
     ]
    },
    {
     "data": {
      "text/plain": [
       "{'first_name': ['virat', 'Rohit', 'kl'],\n",
       " 'second_name': ['kohli', 'sharma', 'rahul'],\n",
       " 'company': ['blr', 'mumbai', 'lucknow']}"
      ]
     },
     "execution_count": 66,
     "metadata": {},
     "output_type": "execute_result"
    }
   ],
   "source": [
    "s1='virat.kohli@blr.com,Rohit.sharma@mumbai.com,kl.rahul@lucknow.com'\n",
    "d1={}\n",
    "first_name=[]\n",
    "second_name=[]\n",
    "company=[]\n",
    "s1=s1.split(',')\n",
    "for i in s1:\n",
    "    print(i)\n",
    "    first_name.append(i[0:i.find('.')])\n",
    "    second_name.append(i[i.find('.')+1:i.find('@')])\n",
    "    company.append(i[i.find('@')+1:i.find('.',i.find('.')+1)])\n",
    "    \n",
    "    \n",
    "d1['first_name']=first_name\n",
    "d1['second_name']=second_name\n",
    "d1['company']=company\n",
    "d1\n"
   ]
  },
  {
   "cell_type": "code",
   "execution_count": 57,
   "id": "400d7af6",
   "metadata": {},
   "outputs": [
    {
     "data": {
      "text/plain": [
       "['python', 'anaconda', 'nareshit']"
      ]
     },
     "execution_count": 57,
     "metadata": {},
     "output_type": "execute_result"
    }
   ],
   "source": [
    "str1='python.anaconda@nareshit.com'\n",
    "d1=[]\n",
    "d1.append(str1[0:str1.find('.')])\n",
    "d1.append(str1[str1.find('.')+1:str1.find('@')])\n",
    "d1.append(str1[str1.find('@')+1:str1.find('.',str1.find('.')+1)])\n",
    "d1"
   ]
  },
  {
   "cell_type": "code",
   "execution_count": 17,
   "id": "6fbd1bb2",
   "metadata": {},
   "outputs": [
    {
     "data": {
      "text/plain": [
       "{'a': 70, 'b': 130, 'c': 240}"
      ]
     },
     "execution_count": 17,
     "metadata": {},
     "output_type": "execute_result"
    }
   ],
   "source": [
    "d1={'a':20,'b':30,'c':40}\n",
    "d2={'a':50,'b':100,'c':200}\n",
    "d3={}\n",
    "for i in d1:\n",
    "    d3[i]=d1[i]+d2[i]\n",
    "d3"
   ]
  },
  {
   "cell_type": "code",
   "execution_count": 97,
   "id": "1bbd4e71",
   "metadata": {},
   "outputs": [
    {
     "data": {
      "text/plain": [
       "{'a': 70, 'b': 130, 'c': 240, 'd': 300}"
      ]
     },
     "execution_count": 97,
     "metadata": {},
     "output_type": "execute_result"
    }
   ],
   "source": [
    "d1={'a':20,'b':30,'c':40,'d':300}\n",
    "d2={'a':50,'b':100,'c':200}\n",
    "for i in d2:\n",
    "    d1[i]=d1[i]+d2[i]\n",
    "d1"
   ]
  },
  {
   "cell_type": "code",
   "execution_count": 95,
   "id": "6afaaa0d",
   "metadata": {},
   "outputs": [
    {
     "data": {
      "text/plain": [
       "{'a': 70, 'b': 130, 'c': 240, 'd': 300}"
      ]
     },
     "execution_count": 95,
     "metadata": {},
     "output_type": "execute_result"
    }
   ],
   "source": [
    "d1={'a':20,'b':30,'c':40}\n",
    "d2={'a':50,'b':100,'c':200,'d':300}\n",
    "for i in d1:\n",
    "    d2[i]=d1[i]+d2[i]\n",
    "d2"
   ]
  },
  {
   "cell_type": "code",
   "execution_count": null,
   "id": "02819dfc",
   "metadata": {},
   "outputs": [],
   "source": [
    "d1={'a':20,'b':30,'c':40}\n",
    "d2={'a':50,'b':100,'c':200,'d':300}\n",
    "for i in d1:\n",
    "    d2[i]=d1[i]+d2[i]\n",
    "d2"
   ]
  },
  {
   "cell_type": "code",
   "execution_count": null,
   "id": "4b13b695",
   "metadata": {},
   "outputs": [],
   "source": []
  },
  {
   "cell_type": "code",
   "execution_count": 2,
   "id": "10a7b420",
   "metadata": {},
   "outputs": [
    {
     "data": {
      "text/plain": [
       "'C:\\\\Users\\\\Dayakar\\\\Desktop\\\\Data Science Dump'"
      ]
     },
     "execution_count": 2,
     "metadata": {},
     "output_type": "execute_result"
    }
   ],
   "source": [
    "import os\n",
    "os.getcwd()"
   ]
  },
  {
   "cell_type": "markdown",
   "id": "4e0f56b1",
   "metadata": {},
   "source": [
    " # Dictionary methods"
   ]
  },
  {
   "cell_type": "code",
   "execution_count": 3,
   "id": "a8ed731b",
   "metadata": {},
   "outputs": [
    {
     "data": {
      "text/plain": [
       "['__class__',\n",
       " '__class_getitem__',\n",
       " '__contains__',\n",
       " '__delattr__',\n",
       " '__delitem__',\n",
       " '__dir__',\n",
       " '__doc__',\n",
       " '__eq__',\n",
       " '__format__',\n",
       " '__ge__',\n",
       " '__getattribute__',\n",
       " '__getitem__',\n",
       " '__getstate__',\n",
       " '__gt__',\n",
       " '__hash__',\n",
       " '__init__',\n",
       " '__init_subclass__',\n",
       " '__ior__',\n",
       " '__iter__',\n",
       " '__le__',\n",
       " '__len__',\n",
       " '__lt__',\n",
       " '__ne__',\n",
       " '__new__',\n",
       " '__or__',\n",
       " '__reduce__',\n",
       " '__reduce_ex__',\n",
       " '__repr__',\n",
       " '__reversed__',\n",
       " '__ror__',\n",
       " '__setattr__',\n",
       " '__setitem__',\n",
       " '__sizeof__',\n",
       " '__str__',\n",
       " '__subclasshook__',\n",
       " 'clear',\n",
       " 'copy',\n",
       " 'fromkeys',\n",
       " 'get',\n",
       " 'items',\n",
       " 'keys',\n",
       " 'pop',\n",
       " 'popitem',\n",
       " 'setdefault',\n",
       " 'update',\n",
       " 'values']"
      ]
     },
     "execution_count": 3,
     "metadata": {},
     "output_type": "execute_result"
    }
   ],
   "source": [
    "dir({})"
   ]
  },
  {
   "cell_type": "markdown",
   "id": "6cf239c7",
   "metadata": {},
   "source": [
    "# items-keys-values"
   ]
  },
  {
   "cell_type": "code",
   "execution_count": 4,
   "id": "35eca882",
   "metadata": {},
   "outputs": [
    {
     "data": {
      "text/plain": [
       "{'ram': 25, 'raheem': 30, 'robert': 35}"
      ]
     },
     "execution_count": 4,
     "metadata": {},
     "output_type": "execute_result"
    }
   ],
   "source": [
    "d1={'ram':25,\n",
    "   'raheem':30,\n",
    "   'robert':35}\n",
    "d1"
   ]
  },
  {
   "cell_type": "code",
   "execution_count": 5,
   "id": "ca6d01c1",
   "metadata": {},
   "outputs": [
    {
     "data": {
      "text/plain": [
       "dict_items([('ram', 25), ('raheem', 30), ('robert', 35)])"
      ]
     },
     "execution_count": 5,
     "metadata": {},
     "output_type": "execute_result"
    }
   ],
   "source": [
    "#items\n",
    "d1.items()"
   ]
  },
  {
   "cell_type": "code",
   "execution_count": 10,
   "id": "986a12fc",
   "metadata": {},
   "outputs": [
    {
     "data": {
      "text/plain": [
       "dict_items([('ram', 25), ('raheem', 30), ('robert', 35)])"
      ]
     },
     "execution_count": 10,
     "metadata": {},
     "output_type": "execute_result"
    }
   ],
   "source": [
    "items=d1.items()\n",
    "items"
   ]
  },
  {
   "cell_type": "code",
   "execution_count": 11,
   "id": "c7d764a9",
   "metadata": {},
   "outputs": [
    {
     "data": {
      "text/plain": [
       "dict_items"
      ]
     },
     "execution_count": 11,
     "metadata": {},
     "output_type": "execute_result"
    }
   ],
   "source": [
    "type(items)"
   ]
  },
  {
   "cell_type": "code",
   "execution_count": 6,
   "id": "619902a7",
   "metadata": {},
   "outputs": [
    {
     "data": {
      "text/plain": [
       "dict_keys(['ram', 'raheem', 'robert'])"
      ]
     },
     "execution_count": 6,
     "metadata": {},
     "output_type": "execute_result"
    }
   ],
   "source": [
    "#keys\n",
    "d1.keys()"
   ]
  },
  {
   "cell_type": "code",
   "execution_count": 23,
   "id": "6b498a5b",
   "metadata": {},
   "outputs": [
    {
     "data": {
      "text/plain": [
       "dict_keys(['ram', 'raheem', 'robert'])"
      ]
     },
     "execution_count": 23,
     "metadata": {},
     "output_type": "execute_result"
    }
   ],
   "source": [
    "keys"
   ]
  },
  {
   "cell_type": "code",
   "execution_count": 12,
   "id": "f520d130",
   "metadata": {},
   "outputs": [
    {
     "data": {
      "text/plain": [
       "dict_keys(['ram', 'raheem', 'robert'])"
      ]
     },
     "execution_count": 12,
     "metadata": {},
     "output_type": "execute_result"
    }
   ],
   "source": [
    "keys=d1.keys()\n",
    "keys"
   ]
  },
  {
   "cell_type": "code",
   "execution_count": 7,
   "id": "2f6e607e",
   "metadata": {},
   "outputs": [
    {
     "data": {
      "text/plain": [
       "dict_values([25, 30, 35])"
      ]
     },
     "execution_count": 7,
     "metadata": {},
     "output_type": "execute_result"
    }
   ],
   "source": [
    "#values\n",
    "d1.values()"
   ]
  },
  {
   "cell_type": "code",
   "execution_count": 24,
   "id": "26e658bc",
   "metadata": {},
   "outputs": [
    {
     "data": {
      "text/plain": [
       "dict_values([25, 30, 35])"
      ]
     },
     "execution_count": 24,
     "metadata": {},
     "output_type": "execute_result"
    }
   ],
   "source": [
    "values"
   ]
  },
  {
   "cell_type": "code",
   "execution_count": 25,
   "id": "7642bcf0",
   "metadata": {},
   "outputs": [
    {
     "data": {
      "text/plain": [
       "dict_items([('ram', 25), ('raheem', 30), ('robert', 35)])"
      ]
     },
     "execution_count": 25,
     "metadata": {},
     "output_type": "execute_result"
    }
   ],
   "source": [
    "items"
   ]
  },
  {
   "cell_type": "code",
   "execution_count": 13,
   "id": "884b1672",
   "metadata": {},
   "outputs": [
    {
     "data": {
      "text/plain": [
       "dict_values([25, 30, 35])"
      ]
     },
     "execution_count": 13,
     "metadata": {},
     "output_type": "execute_result"
    }
   ],
   "source": [
    "values=d1.values()\n",
    "values"
   ]
  },
  {
   "cell_type": "code",
   "execution_count": 14,
   "id": "b1115a4e",
   "metadata": {},
   "outputs": [
    {
     "data": {
      "text/plain": [
       "dict_values"
      ]
     },
     "execution_count": 14,
     "metadata": {},
     "output_type": "execute_result"
    }
   ],
   "source": [
    "type(values)"
   ]
  },
  {
   "cell_type": "code",
   "execution_count": 9,
   "id": "c14ab272",
   "metadata": {},
   "outputs": [
    {
     "data": {
      "text/plain": [
       "dict_items"
      ]
     },
     "execution_count": 9,
     "metadata": {},
     "output_type": "execute_result"
    }
   ],
   "source": [
    "type(d1.items())"
   ]
  },
  {
   "cell_type": "code",
   "execution_count": 16,
   "id": "eabb6b10",
   "metadata": {},
   "outputs": [
    {
     "data": {
      "text/plain": [
       "[20, 35, 30, 40]"
      ]
     },
     "execution_count": 16,
     "metadata": {},
     "output_type": "execute_result"
    }
   ],
   "source": [
    "l1=[20,35,30]\n",
    "l1.append(40)\n",
    "l1"
   ]
  },
  {
   "cell_type": "code",
   "execution_count": 19,
   "id": "7eeeaae9",
   "metadata": {},
   "outputs": [
    {
     "data": {
      "text/plain": [
       "[25, 30, 35, 200]"
      ]
     },
     "execution_count": 19,
     "metadata": {},
     "output_type": "execute_result"
    }
   ],
   "source": [
    "values\n",
    "values_list=list(values)\n",
    "values_list  #[25,30,35]- i\n",
    "values_list.append(200)\n",
    "values_list"
   ]
  },
  {
   "cell_type": "code",
   "execution_count": 18,
   "id": "13ad7683",
   "metadata": {},
   "outputs": [
    {
     "data": {
      "text/plain": [
       "list"
      ]
     },
     "execution_count": 18,
     "metadata": {},
     "output_type": "execute_result"
    }
   ],
   "source": [
    "type(values_list)"
   ]
  },
  {
   "cell_type": "code",
   "execution_count": 21,
   "id": "7f8563ae",
   "metadata": {},
   "outputs": [
    {
     "data": {
      "text/plain": [
       "['ram', 'raheem', 'robert']"
      ]
     },
     "execution_count": 21,
     "metadata": {},
     "output_type": "execute_result"
    }
   ],
   "source": [
    "key_list=list(keys)\n",
    "key_list"
   ]
  },
  {
   "cell_type": "code",
   "execution_count": 22,
   "id": "27536421",
   "metadata": {},
   "outputs": [
    {
     "data": {
      "text/plain": [
       "list"
      ]
     },
     "execution_count": 22,
     "metadata": {},
     "output_type": "execute_result"
    }
   ],
   "source": [
    "type(key_list)"
   ]
  },
  {
   "cell_type": "code",
   "execution_count": 26,
   "id": "9757c772",
   "metadata": {},
   "outputs": [
    {
     "data": {
      "text/plain": [
       "['ram', 'raheem', 'robert']"
      ]
     },
     "execution_count": 26,
     "metadata": {},
     "output_type": "execute_result"
    }
   ],
   "source": [
    "#dictionary given ,extract keys and values i lists\n",
    "d1={'ram':25,\n",
    "     'raheem':30,\n",
    "      'robert':35}\n",
    "key_list=list(d1.keys())\n",
    "value_list=list(d1.values())\n",
    "key_list"
   ]
  },
  {
   "cell_type": "code",
   "execution_count": 27,
   "id": "78e1810c",
   "metadata": {},
   "outputs": [
    {
     "data": {
      "text/plain": [
       "[25, 30, 35]"
      ]
     },
     "execution_count": 27,
     "metadata": {},
     "output_type": "execute_result"
    }
   ],
   "source": [
    "value_list"
   ]
  },
  {
   "cell_type": "code",
   "execution_count": 28,
   "id": "96b71415",
   "metadata": {},
   "outputs": [
    {
     "data": {
      "text/plain": [
       "(['ram', 'raheem', 'robert'], [25, 30, 35])"
      ]
     },
     "execution_count": 28,
     "metadata": {},
     "output_type": "execute_result"
    }
   ],
   "source": [
    "key_list,value_list"
   ]
  },
  {
   "cell_type": "code",
   "execution_count": 30,
   "id": "85d0b3ac",
   "metadata": {},
   "outputs": [
    {
     "data": {
      "text/plain": [
       "{'ram': 25, 'raheem': 30, 'robert': 35}"
      ]
     },
     "execution_count": 30,
     "metadata": {},
     "output_type": "execute_result"
    }
   ],
   "source": [
    "#  two list given ,creating dictionary\n",
    "d1={}\n",
    "for i in range(len(key_list)):\n",
    "    d1[key_list[i]]=value_list[i]\n",
    "    \n",
    "d1"
   ]
  },
  {
   "cell_type": "code",
   "execution_count": 34,
   "id": "e9c66196",
   "metadata": {},
   "outputs": [
    {
     "data": {
      "text/plain": [
       "{'ram': 25, 'raheem': 30, 'robert': 35}"
      ]
     },
     "execution_count": 34,
     "metadata": {},
     "output_type": "execute_result"
    }
   ],
   "source": [
    "d1={}\n",
    "#for i,j in zip(key_list,value_list):\n",
    "   # d1[i]=j\n",
    "    #or\n",
    "\n",
    "d1={i:j for i,j in zip(key_list,value_list)}"
   ]
  },
  {
   "cell_type": "markdown",
   "id": "dd1372d6",
   "metadata": {},
   "source": [
    "# words-frequency"
   ]
  },
  {
   "cell_type": "code",
   "execution_count": 64,
   "id": "b877e5fe",
   "metadata": {},
   "outputs": [
    {
     "data": {
      "text/plain": [
       "{'can': 4, 'you': 2, 'canner': 2, 'able': 1, 'to': 1}"
      ]
     },
     "execution_count": 64,
     "metadata": {},
     "output_type": "execute_result"
    }
   ],
   "source": [
    "str1='can can you canner can you able to can canner'\n",
    "s1=str1.split(' ')\n",
    "d1={}\n",
    "for i in s1:\n",
    "   # print(i)\n",
    "   d1[i]=s1.count(i)\n",
    "    \n",
    "d1"
   ]
  },
  {
   "cell_type": "code",
   "execution_count": 65,
   "id": "d96e4142",
   "metadata": {},
   "outputs": [
    {
     "data": {
      "text/plain": [
       "4"
      ]
     },
     "execution_count": 65,
     "metadata": {},
     "output_type": "execute_result"
    }
   ],
   "source": [
    "s1.count('can')"
   ]
  },
  {
   "cell_type": "code",
   "execution_count": 68,
   "id": "a375bc56",
   "metadata": {},
   "outputs": [
    {
     "data": {
      "text/plain": [
       "['can', 'you', 'canner', 'able', 'to']"
      ]
     },
     "execution_count": 68,
     "metadata": {},
     "output_type": "execute_result"
    }
   ],
   "source": [
    "key1=list(d1.keys())\n",
    "key1"
   ]
  },
  {
   "cell_type": "code",
   "execution_count": 69,
   "id": "78d8fa46",
   "metadata": {},
   "outputs": [
    {
     "data": {
      "text/plain": [
       "[4, 2, 2, 1, 1]"
      ]
     },
     "execution_count": 69,
     "metadata": {},
     "output_type": "execute_result"
    }
   ],
   "source": [
    "val1=list(d1.values())\n",
    "val1"
   ]
  },
  {
   "cell_type": "code",
   "execution_count": 70,
   "id": "edab4dfc",
   "metadata": {},
   "outputs": [
    {
     "data": {
      "text/plain": [
       "(['can', 'you', 'canner', 'able', 'to'], [4, 2, 2, 1, 1])"
      ]
     },
     "execution_count": 70,
     "metadata": {},
     "output_type": "execute_result"
    }
   ],
   "source": [
    "key1,val1"
   ]
  },
  {
   "cell_type": "code",
   "execution_count": 71,
   "id": "2e0b4a8f",
   "metadata": {},
   "outputs": [
    {
     "data": {
      "text/plain": [
       "1"
      ]
     },
     "execution_count": 71,
     "metadata": {},
     "output_type": "execute_result"
    }
   ],
   "source": [
    "a=min(val1)"
   ]
  },
  {
   "cell_type": "code",
   "execution_count": 74,
   "id": "b8b01376",
   "metadata": {},
   "outputs": [
    {
     "data": {
      "text/plain": [
       "3"
      ]
     },
     "execution_count": 74,
     "metadata": {},
     "output_type": "execute_result"
    }
   ],
   "source": [
    "val1.index(min(val1))"
   ]
  },
  {
   "cell_type": "code",
   "execution_count": 77,
   "id": "c2ddf4b0",
   "metadata": {},
   "outputs": [
    {
     "data": {
      "text/plain": [
       "'able'"
      ]
     },
     "execution_count": 77,
     "metadata": {},
     "output_type": "execute_result"
    }
   ],
   "source": [
    "key1[val1.index(min(val1))]"
   ]
  },
  {
   "cell_type": "code",
   "execution_count": null,
   "id": "796c8437",
   "metadata": {},
   "outputs": [],
   "source": []
  }
 ],
 "metadata": {
  "kernelspec": {
   "display_name": "Python 3 (ipykernel)",
   "language": "python",
   "name": "python3"
  },
  "language_info": {
   "codemirror_mode": {
    "name": "ipython",
    "version": 3
   },
   "file_extension": ".py",
   "mimetype": "text/x-python",
   "name": "python",
   "nbconvert_exporter": "python",
   "pygments_lexer": "ipython3",
   "version": "3.11.5"
  }
 },
 "nbformat": 4,
 "nbformat_minor": 5
}
