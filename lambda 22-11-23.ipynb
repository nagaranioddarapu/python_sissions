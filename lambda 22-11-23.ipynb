{
 "cells": [
  {
   "cell_type": "code",
   "execution_count": 1,
   "id": "d97593a4",
   "metadata": {},
   "outputs": [
    {
     "data": {
      "text/plain": [
       "30"
      ]
     },
     "execution_count": 1,
     "metadata": {},
     "output_type": "execute_result"
    }
   ],
   "source": [
    "# lamda\n",
    "def add1(a):\n",
    "    return(a+10)\n",
    "    \n",
    "add1(20)"
   ]
  },
  {
   "cell_type": "code",
   "execution_count": 1,
   "id": "4a0726fa",
   "metadata": {},
   "outputs": [
    {
     "data": {
      "text/plain": [
       "11"
      ]
     },
     "execution_count": 1,
     "metadata": {},
     "output_type": "execute_result"
    }
   ],
   "source": [
    "def area(b):\n",
    "    return(1+b)\n",
    "area(10)"
   ]
  },
  {
   "cell_type": "code",
   "execution_count": 3,
   "id": "fdb6c7a7",
   "metadata": {},
   "outputs": [
    {
     "data": {
      "text/plain": [
       "30"
      ]
     },
     "execution_count": 3,
     "metadata": {},
     "output_type": "execute_result"
    }
   ],
   "source": [
    "add1=lambda a:a+10\n",
    "add1(20)"
   ]
  },
  {
   "cell_type": "code",
   "execution_count": 4,
   "id": "a28db2f2",
   "metadata": {},
   "outputs": [
    {
     "data": {
      "text/plain": [
       "25"
      ]
     },
     "execution_count": 4,
     "metadata": {},
     "output_type": "execute_result"
    }
   ],
   "source": [
    "square=lambda a:a*a\n",
    "square(5)"
   ]
  },
  {
   "cell_type": "code",
   "execution_count": 5,
   "id": "45a55694",
   "metadata": {},
   "outputs": [
    {
     "data": {
      "text/plain": [
       "512"
      ]
     },
     "execution_count": 5,
     "metadata": {},
     "output_type": "execute_result"
    }
   ],
   "source": [
    "cube=lambda a:a*a*a\n",
    "cube(8)"
   ]
  },
  {
   "cell_type": "code",
   "execution_count": 6,
   "id": "c42e36a0",
   "metadata": {},
   "outputs": [
    {
     "data": {
      "text/plain": [
       "50"
      ]
     },
     "execution_count": 6,
     "metadata": {},
     "output_type": "execute_result"
    }
   ],
   "source": [
    "#two arguments\n",
    "add=lambda a,b:a+b\n",
    "add(20,30)"
   ]
  },
  {
   "cell_type": "code",
   "execution_count": 7,
   "id": "1375887e",
   "metadata": {},
   "outputs": [
    {
     "data": {
      "text/plain": [
       "4.0"
      ]
     },
     "execution_count": 7,
     "metadata": {},
     "output_type": "execute_result"
    }
   ],
   "source": [
    "#three arguments\n",
    "avg=lambda a,b,c:(a+b+c)/3\n",
    "avg(3,4,5)"
   ]
  },
  {
   "cell_type": "code",
   "execution_count": 9,
   "id": "c82c336c",
   "metadata": {},
   "outputs": [
    {
     "data": {
      "text/plain": [
       "4.0"
      ]
     },
     "execution_count": 9,
     "metadata": {},
     "output_type": "execute_result"
    }
   ],
   "source": [
    "# three arguments with defalt parameter\n",
    "avg=lambda a,b,c=5:(a+b+c)/3\n",
    "avg(3,4)"
   ]
  },
  {
   "cell_type": "code",
   "execution_count": 10,
   "id": "e56e6f83",
   "metadata": {},
   "outputs": [
    {
     "data": {
      "text/plain": [
       "8"
      ]
     },
     "execution_count": 10,
     "metadata": {},
     "output_type": "execute_result"
    }
   ],
   "source": [
    "def great(a,b):\n",
    "    if a>b:\n",
    "        return (a)\n",
    "    else:\n",
    "        return (b)\n",
    "    \n",
    "great(5,8)"
   ]
  },
  {
   "cell_type": "code",
   "execution_count": 12,
   "id": "ef989d4e",
   "metadata": {},
   "outputs": [
    {
     "data": {
      "text/plain": [
       "[8]"
      ]
     },
     "execution_count": 12,
     "metadata": {},
     "output_type": "execute_result"
    }
   ],
   "source": [
    "l1=[]\n",
    "def great(a,b):\n",
    "    if a>b:\n",
    "        l1.append(a)\n",
    "    else:\n",
    "        l1.append(b)\n",
    "    \n",
    "great(5,8)\n",
    "l1"
   ]
  },
  {
   "cell_type": "code",
   "execution_count": 15,
   "id": "be6186af",
   "metadata": {},
   "outputs": [
    {
     "data": {
      "text/plain": [
       "7"
      ]
     },
     "execution_count": 15,
     "metadata": {},
     "output_type": "execute_result"
    }
   ],
   "source": [
    "great=lambda a,b:(a if a>b else b)\n",
    "great(6,7)"
   ]
  },
  {
   "cell_type": "code",
   "execution_count": null,
   "id": "1921d156",
   "metadata": {},
   "outputs": [],
   "source": []
  }
 ],
 "metadata": {
  "kernelspec": {
   "display_name": "Python 3 (ipykernel)",
   "language": "python",
   "name": "python3"
  },
  "language_info": {
   "codemirror_mode": {
    "name": "ipython",
    "version": 3
   },
   "file_extension": ".py",
   "mimetype": "text/x-python",
   "name": "python",
   "nbconvert_exporter": "python",
   "pygments_lexer": "ipython3",
   "version": "3.11.5"
  }
 },
 "nbformat": 4,
 "nbformat_minor": 5
}
