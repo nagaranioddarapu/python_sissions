{
 "cells": [
  {
   "cell_type": "markdown",
   "id": "d8405b7c",
   "metadata": {},
   "source": [
    "# write a program to calculate ramesh gross salary"
   ]
  },
  {
   "cell_type": "code",
   "execution_count": 2,
   "id": "dddd1556",
   "metadata": {},
   "outputs": [
    {
     "name": "stdout",
     "output_type": "stream",
     "text": [
      "Ramesh basic salary is20000\n",
      "DA is 8000.0 \n",
      "rent_allowance is 4000.0 \n",
      "Ramesh gross_salary is 32000.0 \n"
     ]
    }
   ],
   "source": [
    "try:\n",
    "    basic_salary=eval(input(\"Ramesh basic salary is\"))\n",
    "    DA=(40/100)*basic_salary\n",
    "    print(\"DA is {} \".format(DA))\n",
    "    rent_allowance=(20/100)*basic_salary\n",
    "    print(\"rent_allowance is {} \".format(rent_allowance))\n",
    "    gross_salary=basic_salary+DA+rent_allowance\n",
    "    print(\"Ramesh gross_salary is {} \".format(gross_salary))\n",
    "    \n",
    "except Exception as salary:\n",
    "    print(salary)"
   ]
  },
  {
   "cell_type": "markdown",
   "id": "160bed1c",
   "metadata": {},
   "source": [
    "# write a program to convert km to meters,feet,inches,centimeters"
   ]
  },
  {
   "cell_type": "code",
   "execution_count": 4,
   "id": "7c22fd7d",
   "metadata": {},
   "outputs": [
    {
     "name": "stdout",
     "output_type": "stream",
     "text": [
      "The distance between two cities in km is5\n",
      "the conversion of 5 km to meters is : 5000\n",
      "the conversion of 5 km to centimeters is: 500000\n",
      "the conversion of 5 km to feet is :16400\n",
      "the conversion of 5 km to inches is :196850\n"
     ]
    }
   ],
   "source": [
    "try:\n",
    "    distance=eval(input(\"The distance between two cities in km is\"))\n",
    "    print(\"the conversion of {} km to meters is : {}\".format(distance,distance*1000))\n",
    "    print(\"the conversion of {} km to centimeters is: {}\".format(distance,distance*100000))\n",
    "    print(\"the conversion of {} km to feet is :{}\".format(distance,distance*3280))\n",
    "    print(\"the conversion of {} km to inches is :{}\".format(distance,distance*39370))\n",
    "    \n",
    "except Exception as km:\n",
    "    print(km)"
   ]
  },
  {
   "cell_type": "markdown",
   "id": "567887c6",
   "metadata": {},
   "source": [
    "# write a program to find out aggregate marks and percentage marks obtained by  a student in 5 different subjects"
   ]
  },
  {
   "cell_type": "code",
   "execution_count": 6,
   "id": "cc25cfca",
   "metadata": {},
   "outputs": [
    {
     "name": "stdout",
     "output_type": "stream",
     "text": [
      "enter subject1 marks:91\n",
      "enter subject2 marks:88\n",
      "enter subject3 marks:94\n",
      "enter subject4 marks:96\n",
      "enter subject5 marks:90\n",
      "the aggregate marks obtained by student in 5 subjects is: 459 \n",
      "the percentage marks  obtained by student in 5 subjects is: 91.8 \n"
     ]
    }
   ],
   "source": [
    "try:\n",
    "    subject1=eval(input(\"enter subject1 marks:\"))\n",
    "    subject2=eval(input(\"enter subject2 marks:\"))\n",
    "    subject3=eval(input(\"enter subject3 marks:\"))\n",
    "    subject4=eval(input(\"enter subject4 marks:\"))\n",
    "    subject5=eval(input(\"enter subject5 marks:\"))\n",
    "    aggregate=subject1+subject2+subject3+subject4+subject5\n",
    "    print(\"the aggregate marks obtained by student in 5 subjects is: {} \".format(aggregate))\n",
    "    percentage=(aggregate/500)*100\n",
    "    print(\"the percentage marks  obtained by student in 5 subjects is: {} \".format(percentage))\n",
    "    \n",
    "except Exception as marks:\n",
    "    print(marks)"
   ]
  },
  {
   "cell_type": "markdown",
   "id": "fcb16595",
   "metadata": {},
   "source": [
    "# write a program to convert temperature fahernheit into centigrade degrees"
   ]
  },
  {
   "cell_type": "code",
   "execution_count": 8,
   "id": "05906f23",
   "metadata": {},
   "outputs": [
    {
     "name": "stdout",
     "output_type": "stream",
     "text": [
      "temperature of a city in fahrenheit is :78\n",
      "the city temperature in centigrade degrees is : 25.555555555555557\n"
     ]
    }
   ],
   "source": [
    "try:\n",
    "    temperature=eval(input(\"temperature of a city in fahrenheit is :\"))\n",
    "    centigrade_degree=((temperature-32)*5)/9\n",
    "    print(\"the city temperature in centigrade degrees is : {}\".format(centigrade_degree))\n",
    "    \n",
    "except Exception as degree:\n",
    "    print(degree)\n",
    "    "
   ]
  },
  {
   "cell_type": "markdown",
   "id": "e0de6b11",
   "metadata": {},
   "source": [
    "# write a program to calculate the area&perimeter of rectangle,and the area and circumference of the circle"
   ]
  },
  {
   "cell_type": "code",
   "execution_count": 4,
   "id": "c857d8df",
   "metadata": {},
   "outputs": [
    {
     "name": "stdout",
     "output_type": "stream",
     "text": [
      "enter the length of rectangle4\n",
      "enter the breadth of the rectangle2\n",
      "enter the radius of the circle3\n",
      "the area of a rectangle is : 8 \n",
      "the perimeter of a rectangle is : 12  \n",
      "the area of the circle is : 28.285714285714285 \n",
      "the circumference of the circle is : 18.857142857142858 \n"
     ]
    }
   ],
   "source": [
    "try:\n",
    "    length1=eval(input(\"enter the length of rectangle\"))\n",
    "    breadth1=eval(input(\"enter the breadth of the rectangle\"))\n",
    "    radius1=eval(input(\"enter the radius of the circle\"))\n",
    "    area_rectangle1=length1*breadth1\n",
    "    print(\"the area of a rectangle is : {} \".format(area_rectangle1))\n",
    "    perimeter1=2*(length1+breadth1)\n",
    "    print(\"the perimeter of a rectangle is : {}  \".format(perimeter1))\n",
    "    area_circle1=(22/7)*(radius1*radius1)\n",
    "    print(\"the area of the circle is : {} \".format(area_circle1))\n",
    "    circumference1=2*(22/7)*radius1\n",
    "    print(\"the circumference of the circle is : {} \".format(circumference1))\n",
    "    \n",
    "except Exception as rect:\n",
    "    print(rect)"
   ]
  },
  {
   "cell_type": "markdown",
   "id": "887198c3",
   "metadata": {},
   "source": [
    "# write a program to interchange the content of theC and D"
   ]
  },
  {
   "cell_type": "code",
   "execution_count": 6,
   "id": "77dbc385",
   "metadata": {},
   "outputs": [
    {
     "name": "stdout",
     "output_type": "stream",
     "text": [
      "enter content1:rani\n",
      "enter content 2:daya\n",
      "the content of C is rani and D is daya \n",
      "the content after interchange\n",
      "content of C is daya \n",
      "content of D is rani \n"
     ]
    }
   ],
   "source": [
    "try:\n",
    "    C=input(\"enter content1:\")\n",
    "    D=input(\"enter content 2:\")\n",
    "    print(\"the content of C is {} and D is {} \".format(C,D))\n",
    "    E=C\n",
    "    C=D\n",
    "    D=E\n",
    "    print(\"the content after interchange\")\n",
    "    print(\"content of C is {} \".format(C))\n",
    "    print(\"content of D is {} \".format(D))\n",
    "    \n",
    "except Exception as content:\n",
    "    print(content)\n",
    "    \n",
    "    \n",
    "    "
   ]
  },
  {
   "cell_type": "markdown",
   "id": "e22d923b",
   "metadata": {},
   "source": [
    "# write a program to reverse the number"
   ]
  },
  {
   "cell_type": "code",
   "execution_count": 7,
   "id": "cf40aa90",
   "metadata": {},
   "outputs": [
    {
     "name": "stdout",
     "output_type": "stream",
     "text": [
      "enter a 5 digit number12345\n",
      "5 digit number is 12345 \n",
      "number is5\n",
      "number is 1234\n",
      "number is 4\n",
      "number is 123 \n",
      "number is 3 \n",
      "number is 12 \n",
      "number is 2 \n",
      "number is \n",
      "reverse of number is\n",
      "54321\n"
     ]
    }
   ],
   "source": [
    "try:\n",
    "    num=eval(input(\"enter a 5 digit number\"))\n",
    "    print(\"5 digit number is {} \".format(num))\n",
    "    num1=num%10\n",
    "    print(\"number is{}\".format(num1))\n",
    "    num2=num//10\n",
    "    print(\"number is {}\".format(num2))\n",
    "    num3=num2%10\n",
    "    print(\"number is {}\".format(num3))\n",
    "    num4=num2//10\n",
    "    print(\"number is {} \".format(num4))\n",
    "    num5=num4%10\n",
    "    print(\"number is {} \".format(num5))\n",
    "    num6=num4//10\n",
    "    print(\"number is {} \".format(num6))\n",
    "    num7=num6%10\n",
    "    print(\"number is {} \".format(num7))\n",
    "    num8=num6//10\n",
    "    print(\"number is \".format(num8))\n",
    "    print(\"reverse of number is\")\n",
    "    print(num1,end='')\n",
    "    print(num3,end='')\n",
    "    print(num5,end='')\n",
    "    print(num7,end='')\n",
    "    print(num8)\n",
    "except Exception as rev:\n",
    "    print(rev)\n",
    "    "
   ]
  },
  {
   "cell_type": "markdown",
   "id": "b2ed3632",
   "metadata": {},
   "source": [
    "# write a program obtain the sum of the first and last digit  of given number"
   ]
  },
  {
   "cell_type": "code",
   "execution_count": 8,
   "id": "2deae261",
   "metadata": {},
   "outputs": [
    {
     "name": "stdout",
     "output_type": "stream",
     "text": [
      "enter 4 digit number1234\n",
      "4 digit number is 1234 \n",
      "the sume of the first digit and last digit of given number is 5 \n"
     ]
    }
   ],
   "source": [
    "try:\n",
    "    num=eval(input(\"enter 4 digit number\"))\n",
    "    print(\"4 digit number is {} \".format(num))\n",
    "    num1=num%10\n",
    "num2=num//10\n",
    "num3=num2%10\n",
    "num4=num2//10\n",
    "num5=num4%10\n",
    "num6=num4//10\n",
    "add=num1+num6\n",
    "print(\"the sume of the first digit and last digit of given number is {} \".format(add))\n"
   ]
  },
  {
   "cell_type": "markdown",
   "id": "e657464a",
   "metadata": {},
   "source": [
    "# write a program to find the total number of illiterate men and women "
   ]
  },
  {
   "cell_type": "code",
   "execution_count": 5,
   "id": "eecc26d1",
   "metadata": {},
   "outputs": [
    {
     "name": "stdout",
     "output_type": "stream",
     "text": [
      "total literracy is : 38400.0\n",
      "total illiteracy is 41600.0 \n",
      "men literacy is : 13440.0\n",
      "total illiteracy of men and women is 41600.0\n"
     ]
    }
   ],
   "source": [
    "try:\n",
    "    total_population=80000\n",
    "    men_population=(52/100)*total_population\n",
    "    women_population=((100-52)/100)*total_population\n",
    "    total_literacy=(48/100)*total_population\n",
    "    print(\"total literracy is :\",total_literacy)\n",
    "    total_illiteracy=((100-48)/100)*total_population\n",
    "    print(\"total illiteracy is {} \".format(total_illiteracy))\n",
    "    men_literacy=(35/100)*total_literacy\n",
    "    print(\"men literacy is :\",men_literacy)\n",
    "    men_illiteracy=men_population-men_literacy\n",
    "    women_litercy=total_literacy-men_literacy\n",
    "    women_illiteracy=total_illiteracy-men_illiteracy\n",
    "    total_illiteracy1=men_illiteracy+women_illiteracy\n",
    "    print(\"total illiteracy of men and women is {}\".format(total_illiteracy1))\n",
    "    \n",
    "except Exception as total:\n",
    "    print(total)\n",
    "    "
   ]
  },
  {
   "cell_type": "markdown",
   "id": "f38ab3f1",
   "metadata": {},
   "source": [
    "# write a program to find the total denomination the cashier will have to give to the withdrawer"
   ]
  },
  {
   "cell_type": "code",
   "execution_count": 1,
   "id": "3fd39d8a",
   "metadata": {},
   "outputs": [
    {
     "name": "stdout",
     "output_type": "stream",
     "text": [
      "enter the amount in hundreds889\n",
      "number of 100rs notes to be withdrawn  is 8 \n",
      "number of 50rs notes to be withdrawn  is 1 \n",
      "number of 10rs notes to be withdrawn  is 3 \n",
      "left amount  is 9 \n"
     ]
    }
   ],
   "source": [
    " try:\n",
    "        amt=eval(input(\"enter the amount in hundreds\"))\n",
    "        demon100=amt//100    #number of 100rs notes\n",
    "        demon50=(amt%100)//50    #number of 50rs notes\n",
    "        demon10=((amt%100)%50)//10  #number of 10rs notes\n",
    "        left_amt=((amt%100)%50)%10  # remainder\n",
    "        print(\"number of 100rs notes to be withdrawn  is {} \".format(demon100))\n",
    "        print(\"number of 50rs notes to be withdrawn  is {} \".format(demon50))\n",
    "        print(\"number of 10rs notes to be withdrawn  is {} \".format(demon10))\n",
    "        print(\"left amount  is {} \".format(left_amt))\n",
    "        \n",
    "        \n",
    "except Exception as denomination:\n",
    "    print(denomination)\n"
   ]
  },
  {
   "cell_type": "code",
   "execution_count": null,
   "id": "402c0316",
   "metadata": {},
   "outputs": [],
   "source": []
  }
 ],
 "metadata": {
  "kernelspec": {
   "display_name": "Python 3 (ipykernel)",
   "language": "python",
   "name": "python3"
  },
  "language_info": {
   "codemirror_mode": {
    "name": "ipython",
    "version": 3
   },
   "file_extension": ".py",
   "mimetype": "text/x-python",
   "name": "python",
   "nbconvert_exporter": "python",
   "pygments_lexer": "ipython3",
   "version": "3.11.5"
  }
 },
 "nbformat": 4,
 "nbformat_minor": 5
}
