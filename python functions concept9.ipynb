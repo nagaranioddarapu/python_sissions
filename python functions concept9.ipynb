{
 "cells": [
  {
   "cell_type": "code",
   "execution_count": 2,
   "id": "469ed650",
   "metadata": {},
   "outputs": [
    {
     "name": "stdout",
     "output_type": "stream",
     "text": [
      "hello\n",
      "the addition of 10 and 20 is 30 \n"
     ]
    }
   ],
   "source": [
    "def addition1():\n",
    "    print(\"hello\")\n",
    "    n1=10\n",
    "    n2=20\n",
    "    add=n1+n2\n",
    "    print(\"the addition of {} and {} is {} \".format(n1,n2,add))\n",
    "\n",
    "addition1()\n"
   ]
  },
  {
   "cell_type": "code",
   "execution_count": 4,
   "id": "b3cfe7c0",
   "metadata": {},
   "outputs": [
    {
     "name": "stdout",
     "output_type": "stream",
     "text": [
      "calling function starts\n",
      "hello\n",
      "the addition of 10 and 20 is 30 \n",
      "done\n"
     ]
    }
   ],
   "source": [
    "def addition1():\n",
    "    print(\"hello\")\n",
    "    n1=10\n",
    "    n2=20\n",
    "    add=n1+n2\n",
    "    print(\"the addition of {} and {} is {} \".format(n1,n2,add))\n",
    "    \n",
    "print(\"calling function starts\")\n",
    "addition1()\n",
    "print(\"done\")"
   ]
  },
  {
   "cell_type": "code",
   "execution_count": 5,
   "id": "15427381",
   "metadata": {},
   "outputs": [
    {
     "name": "stdout",
     "output_type": "stream",
     "text": [
      "hello\n",
      "the addition of 10 and 20 is 30 \n"
     ]
    }
   ],
   "source": [
    "addition1()"
   ]
  },
  {
   "cell_type": "code",
   "execution_count": null,
   "id": "540dd8f3",
   "metadata": {},
   "outputs": [],
   "source": []
  },
  {
   "cell_type": "code",
   "execution_count": 6,
   "id": "ba045055",
   "metadata": {},
   "outputs": [
    {
     "name": "stdout",
     "output_type": "stream",
     "text": [
      "5\n",
      "56\n",
      "7\n",
      "avg is :22.666666666666668 \n"
     ]
    }
   ],
   "source": [
    "n1=eval(input())\n",
    "n2=eval(input())\n",
    "n3=eval(input())\n",
    "avg=(n1+n2+n3)/3\n",
    "print(\"avg is :{} \".format(avg))"
   ]
  },
  {
   "cell_type": "code",
   "execution_count": 5,
   "id": "69d0d549",
   "metadata": {},
   "outputs": [
    {
     "name": "stdout",
     "output_type": "stream",
     "text": [
      "5\n",
      "56\n",
      "7\n",
      "avg 22.666666666666668 \n"
     ]
    }
   ],
   "source": [
    "def avg():\n",
    "    n1=eval(input())\n",
    "    n2=eval(input())\n",
    "    n3=eval(input())\n",
    "    avg=(n1+n2+n3)/3\n",
    "    print(\"avg {} \".format(avg))\n",
    "    \n",
    "avg()"
   ]
  },
  {
   "cell_type": "code",
   "execution_count": 14,
   "id": "d1892951",
   "metadata": {},
   "outputs": [
    {
     "name": "stdout",
     "output_type": "stream",
     "text": [
      "12\n",
      "13\n",
      "14\n",
      "avg 13.0 \n"
     ]
    }
   ],
   "source": [
    " def avg():\n",
    "        try:\n",
    "            n1=eval(input())\n",
    "            n2=eval(input())\n",
    "            n3=eval(input())\n",
    "            avg=(n1+n2+n3)/3\n",
    "            print(\"avg {} \".format(avg))\n",
    "    \n",
    "        \n",
    "\n",
    "        except Exception as e:\n",
    "            print(e)\n",
    "avg()\n"
   ]
  },
  {
   "cell_type": "code",
   "execution_count": null,
   "id": "ec68bd24",
   "metadata": {},
   "outputs": [],
   "source": []
  },
  {
   "cell_type": "code",
   "execution_count": 15,
   "id": "002e420d",
   "metadata": {},
   "outputs": [
    {
     "name": "stdout",
     "output_type": "stream",
     "text": [
      "called function starts\n",
      "calling function starts\n",
      "2\n",
      "3\n",
      "4\n",
      "avg is: 3.0 \n",
      "program done\n"
     ]
    }
   ],
   "source": [
    "print(\"called function starts\")\n",
    "def avg():\n",
    "    try:\n",
    "        n2=eval(input())\n",
    "        n3=eval(input())\n",
    "        n1=eval(input())\n",
    "        avg=(n1+n2+n3)/3\n",
    "        print(\"avg is: {} \".format(avg))\n",
    "        \n",
    "    except Exception as avg:\n",
    "        print(avg)\n",
    "        \n",
    "print(\"calling function starts\")\n",
    "avg()\n",
    "print(\"program done\")"
   ]
  },
  {
   "cell_type": "code",
   "execution_count": 6,
   "id": "c04bbd14",
   "metadata": {},
   "outputs": [
    {
     "name": "stdout",
     "output_type": "stream",
     "text": [
      "enter bill amount400\n",
      "enter tip amount20\n",
      "the total bill is 420\n"
     ]
    }
   ],
   "source": [
    "bill=eval(input(\"enter bill amount\"))\n",
    "tip=eval(input(\"enter tip amount\"))\n",
    "total=bill+tip\n",
    "print(\"the total bill is {}\".format(total))"
   ]
  },
  {
   "cell_type": "code",
   "execution_count": 16,
   "id": "342934ba",
   "metadata": {},
   "outputs": [
    {
     "name": "stdout",
     "output_type": "stream",
     "text": [
      "enter bill amount1000\n",
      "enter tip amount20\n",
      "the total bill is 1020\n"
     ]
    }
   ],
   "source": [
    "try:\n",
    "    bill=eval(input(\"enter bill amount\"))\n",
    "    tip=eval(input(\"enter tip amount\"))\n",
    "    total=bill+tip\n",
    "    print(\"the total bill is {}\".format(total))\n",
    "    \n",
    "except Exception as bill:\n",
    "    print(bill)"
   ]
  },
  {
   "cell_type": "code",
   "execution_count": 7,
   "id": "1495f87b",
   "metadata": {},
   "outputs": [
    {
     "name": "stdout",
     "output_type": "stream",
     "text": [
      "enter bill amount300\n",
      "enter tip amount40\n",
      "the total bill is 340\n"
     ]
    }
   ],
   "source": [
    "def amount():\n",
    "    try:\n",
    "        bill=eval(input(\"enter bill amount\"))\n",
    "        tip=eval(input(\"enter tip amount\"))\n",
    "        total=bill+tip\n",
    "        print(\"the total bill is {}\".format(total))\n",
    "    except Exception as e:\n",
    "        print(e)\n",
    "        \n",
    "amount()"
   ]
  },
  {
   "cell_type": "code",
   "execution_count": 17,
   "id": "f575fb40",
   "metadata": {},
   "outputs": [
    {
     "name": "stdout",
     "output_type": "stream",
     "text": [
      " random number is 87 \n",
      "87 is odd\n"
     ]
    }
   ],
   "source": [
    "import random\n",
    "ran=random.randint(1,100)\n",
    "print(\" random number is {} \".format(ran))\n",
    "if ran%2==0:\n",
    "    print(\"{} is even\".format(ran))\n",
    "else:\n",
    "    print(\"{} is odd\".format(ran))"
   ]
  },
  {
   "cell_type": "code",
   "execution_count": 18,
   "id": "39944128",
   "metadata": {},
   "outputs": [
    {
     "name": "stdout",
     "output_type": "stream",
     "text": [
      "random number is 40 \n",
      "it is even\n"
     ]
    }
   ],
   "source": [
    "import random\n",
    "def random1():\n",
    "    try:\n",
    "        ran=random.randint(1,100)\n",
    "        print(\"random number is {} \".format(ran))\n",
    "        if ran%2==0:\n",
    "            print(\"it is even\")\n",
    "        else:\n",
    "            print(\"odd\")\n",
    "    except Exception as e:\n",
    "        print(e)\n",
    "random1()"
   ]
  },
  {
   "cell_type": "code",
   "execution_count": 12,
   "id": "4d574293",
   "metadata": {},
   "outputs": [
    {
     "name": "stdout",
     "output_type": "stream",
     "text": [
      "hiiiii\n",
      "helllllllllll\n",
      "45\n",
      "odd\n",
      "done\n"
     ]
    }
   ],
   "source": [
    "import random\n",
    "print(\"hiiiii\")\n",
    "def random1():\n",
    "    try:\n",
    "        ran=random.randint(1,100)\n",
    "        print(ran)\n",
    "        if ran%2==0:\n",
    "            print(\"it is even\")\n",
    "        else:\n",
    "            print(\"odd\")\n",
    "    except Exception as e:\n",
    "        print(e)\n",
    "print(\"helllllllllll\")\n",
    "random1()\n",
    "print(\"done\")"
   ]
  },
  {
   "cell_type": "code",
   "execution_count": 19,
   "id": "5c24057f",
   "metadata": {},
   "outputs": [
    {
     "name": "stdout",
     "output_type": "stream",
     "text": [
      "mul starts\n",
      "sub starts\n",
      "division starts\n",
      "mul is 20\n",
      "sub is -1 \n",
      "division is 0.8 \n",
      "5\n"
     ]
    }
   ],
   "source": [
    "def add1():\n",
    "    n1=2\n",
    "    n2=3\n",
    "    print(n1+n2)\n",
    "\n",
    "print(\"mul starts\")\n",
    "def mul():\n",
    "    n1=4\n",
    "    n2=5\n",
    "    print(\"mul is {}\".format(n1*n2))\n",
    "    \n",
    "print(\"sub starts\")\n",
    "def sub():\n",
    "    n1=4\n",
    "    n2=5\n",
    "    print(\"sub is {} \".format(n1-n2))\n",
    "    \n",
    "print(\"division starts\")\n",
    "def div():\n",
    "    n1=4\n",
    "    n2=5\n",
    "    print(\"division is {} \".format(n1/n2))\n",
    "    \n",
    "mul()\n",
    "sub()\n",
    "div()\n",
    "add1()\n",
    "    "
   ]
  },
  {
   "cell_type": "code",
   "execution_count": null,
   "id": "942cd25b",
   "metadata": {},
   "outputs": [],
   "source": [
    "def add1():\n",
    "    n1=2\n",
    "    n2=3\n",
    "    print(n1+n2)\n",
    "\n",
    "print(\"mul starts\")\n",
    "def mul():\n",
    "    n1=4\n",
    "    n2=5\n",
    "    print(\"mul is {}\".format(n1*n2))\n",
    "    \n",
    "print(\"sub starts\")\n",
    "def sub():\n",
    "    n1=4\n",
    "    n2=5\n",
    "    print(\"sub is {} \".format(n1-n2))\n",
    "    \n",
    "print(\"division starts\")\n",
    "def div():\n",
    "    n1=4\n",
    "    n2=5\n",
    "    print(\"division is {} \".format(n1/n2))\n",
    "    \n",
    "mul()\n",
    "sub()\n",
    "div()\n",
    "add1()\n",
    "    "
   ]
  },
  {
   "cell_type": "code",
   "execution_count": 20,
   "id": "8668f0bf",
   "metadata": {},
   "outputs": [
    {
     "name": "stdout",
     "output_type": "stream",
     "text": [
      "50\n"
     ]
    }
   ],
   "source": [
    "#with arguments\n",
    "\n",
    "def add1(n1,n2):\n",
    "    add=n1+n2\n",
    "    print(n1+n2)\n",
    "    \n",
    "add1(20,30)\n",
    "    "
   ]
  },
  {
   "cell_type": "code",
   "execution_count": 23,
   "id": "f4a051c5",
   "metadata": {},
   "outputs": [
    {
     "name": "stdout",
     "output_type": "stream",
     "text": [
      "50\n"
     ]
    }
   ],
   "source": [
    "#with arguments\n",
    "\n",
    "def add1(n1,n2):\n",
    "    try:\n",
    "        add=n1+n2\n",
    "        print(n1+n2)\n",
    "        \n",
    "    except Exception as add:\n",
    "        print(add)\n",
    "    \n",
    "add1(20,30)\n",
    "    "
   ]
  },
  {
   "cell_type": "code",
   "execution_count": 15,
   "id": "269755ce",
   "metadata": {},
   "outputs": [
    {
     "name": "stdout",
     "output_type": "stream",
     "text": [
      "avg is 40.0\n"
     ]
    }
   ],
   "source": [
    "def avg(n1,n2,n3):\n",
    "    avg=(n1+n2+n3)/3\n",
    "    print(\"avg is {}\".format(avg))\n",
    "    \n",
    "avg(30,40,50)\n",
    "\n"
   ]
  },
  {
   "cell_type": "code",
   "execution_count": 24,
   "id": "66558a64",
   "metadata": {},
   "outputs": [
    {
     "name": "stdout",
     "output_type": "stream",
     "text": [
      "program starts\n",
      "avg is 40.0\n"
     ]
    }
   ],
   "source": [
    "print(\"program starts\") \n",
    "def avg(n1,n2,n3):\n",
    "    try:\n",
    "        avg=(n1+n2+n3)/3\n",
    "        print(\"avg is {}\".format(avg))\n",
    "    except Exception as e:\n",
    "        print(e)\n",
    "        \n",
    "avg(30,40,50)\n",
    "\n"
   ]
  },
  {
   "cell_type": "code",
   "execution_count": null,
   "id": "ded5d984",
   "metadata": {},
   "outputs": [],
   "source": []
  }
 ],
 "metadata": {
  "kernelspec": {
   "display_name": "Python 3 (ipykernel)",
   "language": "python",
   "name": "python3"
  },
  "language_info": {
   "codemirror_mode": {
    "name": "ipython",
    "version": 3
   },
   "file_extension": ".py",
   "mimetype": "text/x-python",
   "name": "python",
   "nbconvert_exporter": "python",
   "pygments_lexer": "ipython3",
   "version": "3.11.5"
  }
 },
 "nbformat": 4,
 "nbformat_minor": 5
}
