{
 "cells": [
  {
   "cell_type": "markdown",
   "id": "9dbb609e",
   "metadata": {},
   "source": [
    "# while loop"
   ]
  },
  {
   "cell_type": "code",
   "execution_count": null,
   "id": "dc53c4e5",
   "metadata": {},
   "outputs": [],
   "source": [
    "i=0\n",
    "while<condition>:\n",
    "    i=i+1"
   ]
  },
  {
   "cell_type": "code",
   "execution_count": 1,
   "id": "41fc481d",
   "metadata": {},
   "outputs": [
    {
     "name": "stdout",
     "output_type": "stream",
     "text": [
      "10111213141516171819"
     ]
    }
   ],
   "source": [
    "i=10\n",
    "while i<20:\n",
    "    print(i,end='')\n",
    "    i=i+1"
   ]
  },
  {
   "cell_type": "code",
   "execution_count": null,
   "id": "32dc440f",
   "metadata": {},
   "outputs": [],
   "source": [
    "for i in range(5):\n",
    "\"))\n",
    "    print(\"square of {} is {} \".format(number,number*number))\n",
    "    number=eval(input(\"enter number"
   ]
  },
  {
   "cell_type": "code",
   "execution_count": null,
   "id": "5ba078eb",
   "metadata": {},
   "outputs": [],
   "source": [
    "i=0\n",
    "while True:\n",
    "    number=eval(input(\"enter number\")\n",
    "    print(\"square of {} is {} \".format(number,number*number))\n",
    "    i=i+1"
   ]
  },
  {
   "cell_type": "code",
   "execution_count": null,
   "id": "54a5bda6",
   "metadata": {},
   "outputs": [],
   "source": [
    "import random\n",
    "for i in range(5):\n",
    "    ran=random.iandint(10,20)\n",
    "    print(\"square of ran\",ran)"
   ]
  },
  {
   "cell_type": "code",
   "execution_count": null,
   "id": "22c25730",
   "metadata": {},
   "outputs": [],
   "source": [
    "import random\n",
    "i=0\n",
    "while i<=4:\n",
    "    ran=random.iandint(10,20)\n",
    "    print(\"square of ran\",ran)\n",
    "    i=i+1"
   ]
  }
 ],
 "metadata": {
  "kernelspec": {
   "display_name": "Python 3 (ipykernel)",
   "language": "python",
   "name": "python3"
  },
  "language_info": {
   "codemirror_mode": {
    "name": "ipython",
    "version": 3
   },
   "file_extension": ".py",
   "mimetype": "text/x-python",
   "name": "python",
   "nbconvert_exporter": "python",
   "pygments_lexer": "ipython3",
   "version": "3.11.5"
  }
 },
 "nbformat": 4,
 "nbformat_minor": 5
}
