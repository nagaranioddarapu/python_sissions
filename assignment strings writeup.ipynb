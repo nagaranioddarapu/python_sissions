{
 "cells": [
  {
   "cell_type": "markdown",
   "id": "d8efad0f",
   "metadata": {},
   "source": [
    "# Strings"
   ]
  },
  {
   "cell_type": "markdown",
   "id": "48629d2c",
   "metadata": {},
   "source": [
    "# 1.how to read strings"
   ]
  },
  {
   "cell_type": "markdown",
   "id": "07f50baf",
   "metadata": {},
   "source": [
    "# by using single quotes"
   ]
  },
  {
   "cell_type": "code",
   "execution_count": 3,
   "id": "0a0303a9",
   "metadata": {},
   "outputs": [
    {
     "data": {
      "text/plain": [
       "'python'"
      ]
     },
     "execution_count": 3,
     "metadata": {},
     "output_type": "execute_result"
    }
   ],
   "source": [
    "string1='python'   #'python'- is a string data type \n",
    "                    #we assigned in string1 by using single quotes\n",
    "string1"
   ]
  },
  {
   "cell_type": "markdown",
   "id": "06b94b8d",
   "metadata": {},
   "source": [
    "# by using double quotes"
   ]
  },
  {
   "cell_type": "code",
   "execution_count": 4,
   "id": "eeaf781f",
   "metadata": {},
   "outputs": [
    {
     "data": {
      "text/plain": [
       "'python'"
      ]
     },
     "execution_count": 4,
     "metadata": {},
     "output_type": "execute_result"
    }
   ],
   "source": [
    "string2=\"python \"  #we assigned string by using doble quotes\n",
    "string2"
   ]
  },
  {
   "cell_type": "markdown",
   "id": "2f067899",
   "metadata": {},
   "source": [
    "# by using triple quotes -doc string"
   ]
  },
  {
   "cell_type": "code",
   "execution_count": 8,
   "id": "327ad023",
   "metadata": {},
   "outputs": [
    {
     "data": {
      "text/plain": [
       "'python'"
      ]
     },
     "execution_count": 8,
     "metadata": {},
     "output_type": "execute_result"
    }
   ],
   "source": [
    "string3=\"\"\"python\"\"\"     # we assigned string by using triple quotes\n",
    "string3"
   ]
  },
  {
   "cell_type": "code",
   "execution_count": 7,
   "id": "ae155243",
   "metadata": {},
   "outputs": [
    {
     "data": {
      "text/plain": [
       "'python\\n           is a \\n           programming\\n           language'"
      ]
     },
     "execution_count": 7,
     "metadata": {},
     "output_type": "execute_result"
    }
   ],
   "source": [
    "string3=\"\"\"python\n",
    "           is a \n",
    "           programming\n",
    "           language\"\"\"     # we assigned multiple lines of string  by using triple quotes that is called doc string \n",
    "                         #doc string  gives information about written code\n",
    "string3"
   ]
  },
  {
   "cell_type": "markdown",
   "id": "e38063e0",
   "metadata": {},
   "source": [
    "# 2.Type"
   ]
  },
  {
   "cell_type": "code",
   "execution_count": 9,
   "id": "643b2e9f",
   "metadata": {},
   "outputs": [
    {
     "data": {
      "text/plain": [
       "str"
      ]
     },
     "execution_count": 9,
     "metadata": {},
     "output_type": "execute_result"
    }
   ],
   "source": [
    "string1='python'      #we assigned string data type 'python' in string1 \n",
    "type(string1)          # here we are finding data  type of given string that is ,is that str,int etc"
   ]
  },
  {
   "cell_type": "code",
   "execution_count": 10,
   "id": "f75290e0",
   "metadata": {},
   "outputs": [
    {
     "data": {
      "text/plain": [
       "int"
      ]
     },
     "execution_count": 10,
     "metadata": {},
     "output_type": "execute_result"
    }
   ],
   "source": [
    "string1=10          #we assigned integer \n",
    "type(string1)       #  here we get int type "
   ]
  },
  {
   "cell_type": "markdown",
   "id": "5684b881",
   "metadata": {},
   "source": [
    "# 3.Max"
   ]
  },
  {
   "cell_type": "code",
   "execution_count": 11,
   "id": "891e11de",
   "metadata": {},
   "outputs": [
    {
     "data": {
      "text/plain": [
       "'y'"
      ]
     },
     "execution_count": 11,
     "metadata": {},
     "output_type": "execute_result"
    }
   ],
   "source": [
    "string1='python'   \n",
    "max(string1)       #we are finding maximum of string1 ,so we get 'y', y is maximum according to asscii value"
   ]
  },
  {
   "cell_type": "markdown",
   "id": "1c1b1d55",
   "metadata": {},
   "source": [
    "# 4.Min"
   ]
  },
  {
   "cell_type": "code",
   "execution_count": 12,
   "id": "067f94a4",
   "metadata": {},
   "outputs": [
    {
     "data": {
      "text/plain": [
       "'h'"
      ]
     },
     "execution_count": 12,
     "metadata": {},
     "output_type": "execute_result"
    }
   ],
   "source": [
    "string1='python'\n",
    "min(string1)     # min() gives the letter ,which letter have loewst ascii value"
   ]
  },
  {
   "cell_type": "code",
   "execution_count": 2,
   "id": "825fab2e",
   "metadata": {},
   "outputs": [
    {
     "data": {
      "text/plain": [
       "'P'"
      ]
     },
     "execution_count": 2,
     "metadata": {},
     "output_type": "execute_result"
    }
   ],
   "source": [
    "str1='pP'        #we assigned both upper case and lower case letters\n",
    "max(str1)        # 'p' is maximum according ascii value\n",
    "min(str1)         # 'P'is minimum according ascii value"
   ]
  },
  {
   "cell_type": "markdown",
   "id": "27f0f303",
   "metadata": {},
   "source": [
    "# 5.len"
   ]
  },
  {
   "cell_type": "code",
   "execution_count": 3,
   "id": "27353a46",
   "metadata": {},
   "outputs": [
    {
     "data": {
      "text/plain": [
       "6"
      ]
     },
     "execution_count": 3,
     "metadata": {},
     "output_type": "execute_result"
    }
   ],
   "source": [
    "string1='python'\n",
    "len(string1)      # len() gives the length of string1\n",
    "                   #that is 6(p-1,y-2,t-3,h-4,o-5,n-6)"
   ]
  },
  {
   "cell_type": "markdown",
   "id": "477ac42e",
   "metadata": {},
   "source": [
    "# 6. concatination(addition of two strings)"
   ]
  },
  {
   "cell_type": "code",
   "execution_count": 5,
   "id": "4fb00c4a",
   "metadata": {},
   "outputs": [
    {
     "data": {
      "text/plain": [
       "'pythonlanguage'"
      ]
     },
     "execution_count": 5,
     "metadata": {},
     "output_type": "execute_result"
    }
   ],
   "source": [
    "string1='python'\n",
    "\n",
    "string2='language'     #we assigned two strings \n",
    "                        #string1 with 'python' and string2 with 'language'\n",
    "string1+string2         #here we did addition of two strings \n",
    "                         #then we got answer as 'pythonlanguage'"
   ]
  },
  {
   "cell_type": "markdown",
   "id": "72e6134a",
   "metadata": {},
   "source": [
    "# 7. Multiplication"
   ]
  },
  {
   "cell_type": "code",
   "execution_count": 6,
   "id": "a581dfaf",
   "metadata": {},
   "outputs": [
    {
     "ename": "TypeError",
     "evalue": "can't multiply sequence by non-int of type 'str'",
     "output_type": "error",
     "traceback": [
      "\u001b[1;31m---------------------------------------------------------------------------\u001b[0m",
      "\u001b[1;31mTypeError\u001b[0m                                 Traceback (most recent call last)",
      "Cell \u001b[1;32mIn[6], line 3\u001b[0m\n\u001b[0;32m      1\u001b[0m string1\u001b[38;5;241m=\u001b[39m\u001b[38;5;124m'\u001b[39m\u001b[38;5;124mabc\u001b[39m\u001b[38;5;124m'\u001b[39m\n\u001b[0;32m      2\u001b[0m string2\u001b[38;5;241m=\u001b[39m\u001b[38;5;124m'\u001b[39m\u001b[38;5;124mefg\u001b[39m\u001b[38;5;124m'\u001b[39m       \u001b[38;5;66;03m#we assigned two strings with 'abc' and 'efg'\u001b[39;00m\n\u001b[1;32m----> 3\u001b[0m string1\u001b[38;5;241m*\u001b[39mstring2\n",
      "\u001b[1;31mTypeError\u001b[0m: can't multiply sequence by non-int of type 'str'"
     ]
    }
   ],
   "source": [
    "string1='abc'\n",
    "string2='efg'     #we assigned two strings with 'abc' and 'efg'\n",
    "string1*string2   # we have done the multiplication of string1 and string2  \n",
    "                # we got the TypeError, means we can not multiply non-int type \n",
    "                  #so we can't multiply strings\n"
   ]
  },
  {
   "cell_type": "code",
   "execution_count": 7,
   "id": "cdad81d2",
   "metadata": {},
   "outputs": [
    {
     "data": {
      "text/plain": [
       "'abcabcabc'"
      ]
     },
     "execution_count": 7,
     "metadata": {},
     "output_type": "execute_result"
    }
   ],
   "source": [
    "string1='abc'     # we assigned string 'abc' n string1\n",
    "string2=3         #we assigned  value 3 in string2 \n",
    "string1*string2   #here we multiplied string with integer type \n",
    "                    #the answer is 'abc abc abc'\n",
    "                   # string1 is repeated  by 3 times\n",
    "                   # In  this case multiplication is possible"
   ]
  },
  {
   "cell_type": "markdown",
   "id": "a2ac5e61",
   "metadata": {},
   "source": [
    "# 8.subtraction"
   ]
  },
  {
   "cell_type": "code",
   "execution_count": 1,
   "id": "e583d233",
   "metadata": {},
   "outputs": [
    {
     "ename": "TypeError",
     "evalue": "unsupported operand type(s) for -: 'str' and 'str'",
     "output_type": "error",
     "traceback": [
      "\u001b[1;31m---------------------------------------------------------------------------\u001b[0m",
      "\u001b[1;31mTypeError\u001b[0m                                 Traceback (most recent call last)",
      "Cell \u001b[1;32mIn[1], line 3\u001b[0m\n\u001b[0;32m      1\u001b[0m str1\u001b[38;5;241m=\u001b[39m\u001b[38;5;124m'\u001b[39m\u001b[38;5;124mpython\u001b[39m\u001b[38;5;124m'\u001b[39m      \u001b[38;5;66;03m#we assigned str1 with python\u001b[39;00m\n\u001b[0;32m      2\u001b[0m str2\u001b[38;5;241m=\u001b[39m\u001b[38;5;124m'\u001b[39m\u001b[38;5;124mlanguage\u001b[39m\u001b[38;5;124m'\u001b[39m     \u001b[38;5;66;03m#weassigned str2 with language\u001b[39;00m\n\u001b[1;32m----> 3\u001b[0m str1\u001b[38;5;241m-\u001b[39mstr2\n",
      "\u001b[1;31mTypeError\u001b[0m: unsupported operand type(s) for -: 'str' and 'str'"
     ]
    }
   ],
   "source": [
    "str1='python'      #we assigned str1 with python\n",
    "str2='language'     #weassigned str2 with language\n",
    "str1-str2            #addition of str1 and str2\n",
    "                     #got TypeError\n",
    "                      #we can't subtract string data type"
   ]
  },
  {
   "cell_type": "markdown",
   "id": "438dd10c",
   "metadata": {},
   "source": [
    "# 9.division"
   ]
  },
  {
   "cell_type": "code",
   "execution_count": 2,
   "id": "5f98aab4",
   "metadata": {},
   "outputs": [
    {
     "ename": "TypeError",
     "evalue": "unsupported operand type(s) for /: 'str' and 'str'",
     "output_type": "error",
     "traceback": [
      "\u001b[1;31m---------------------------------------------------------------------------\u001b[0m",
      "\u001b[1;31mTypeError\u001b[0m                                 Traceback (most recent call last)",
      "Cell \u001b[1;32mIn[2], line 3\u001b[0m\n\u001b[0;32m      1\u001b[0m str1\u001b[38;5;241m=\u001b[39m\u001b[38;5;124m'\u001b[39m\u001b[38;5;124m123\u001b[39m\u001b[38;5;124m'\u001b[39m         \n\u001b[0;32m      2\u001b[0m str2\u001b[38;5;241m=\u001b[39m\u001b[38;5;124m'\u001b[39m\u001b[38;5;124m456\u001b[39m\u001b[38;5;124m'\u001b[39m\n\u001b[1;32m----> 3\u001b[0m str1\u001b[38;5;241m/\u001b[39mstr2\n",
      "\u001b[1;31mTypeError\u001b[0m: unsupported operand type(s) for /: 'str' and 'str'"
     ]
    }
   ],
   "source": [
    "str1='123'         \n",
    "str2='456'\n",
    "str1/str2      #division of str1 and str2\n",
    "               #we got TypeError -unsupported operand type for '/'"
   ]
  },
  {
   "cell_type": "markdown",
   "id": "70584b99",
   "metadata": {},
   "source": [
    "# 10.in operator(for loop)"
   ]
  },
  {
   "cell_type": "code",
   "execution_count": 4,
   "id": "fe8dc603",
   "metadata": {},
   "outputs": [
    {
     "name": "stdout",
     "output_type": "stream",
     "text": [
      "p\n",
      "y\n",
      "t\n",
      "h\n",
      "o\n",
      "n\n"
     ]
    }
   ],
   "source": [
    "string1='python'  #we assigned 'python ' in string1\n",
    "'p' in string1    # here 'in' oerator is used \n",
    "                  # if 'p' in string1 it gives True otherwise it gives false\n",
    "'y' in string1    #True\n",
    "'t' in string1    #True\n",
    "'h' in string1     #True\n",
    "'n' in string1      #True\n",
    "                    #letter by letter checking is not possible in all cases\n",
    "                    # so we have to use generalised expression.\n",
    "        \n",
    "for i in string1:   # 'in' operator used for only strings\n",
    "    print(i)        #to print letters we use 'in' operator"
   ]
  },
  {
   "cell_type": "markdown",
   "id": "32048840",
   "metadata": {},
   "source": [
    "# 11.index"
   ]
  },
  {
   "cell_type": "code",
   "execution_count": 9,
   "id": "cd3e5edb",
   "metadata": {},
   "outputs": [
    {
     "name": "stdout",
     "output_type": "stream",
     "text": [
      "0 p\n",
      "1 y\n",
      "2 t\n",
      "3 h\n",
      "4 o\n",
      "5 n\n"
     ]
    }
   ],
   "source": [
    "string1='python'      # p y t h o n\n",
    "                       # 0 1 2 3 4 5 ---these are index of 'python'\n",
    "string1[0] #--'p'       #in 0 index we have 'p'\n",
    "string1[1] #--'y'\n",
    "string1[2] #--'t'\n",
    "string1[3] #--'h'\n",
    "string1[4] #---'o'\n",
    "string1[5] #--'n'    \n",
    "                      #the generalised expression  is used to overcom this \n",
    "\n",
    "for i in range(6):     #we used \"range\"operator ,it takes numeric only\n",
    "    print(i,string1[i])\n",
    "                       #range used to print letters and index of given string   "
   ]
  },
  {
   "cell_type": "code",
   "execution_count": 10,
   "id": "f9a96a50",
   "metadata": {},
   "outputs": [
    {
     "name": "stdout",
     "output_type": "stream",
     "text": [
      "0 p\n",
      "1 y\n",
      "2 t\n",
      "3 h\n",
      "4 o\n",
      "5 n\n"
     ]
    }
   ],
   "source": [
    "for i in range(len(string1)): # len(string1) returns length of string \n",
    "    print(i,string1[i])"
   ]
  },
  {
   "cell_type": "markdown",
   "id": "e0a92ff3",
   "metadata": {},
   "source": [
    "#--'in' operator used to print letters\n",
    "#--'in' ----takes only string\n",
    "#--'range' operator used to print letters and index\n",
    "#--'range' takes numeric \n",
    "#--python takes initial value 0"
   ]
  },
  {
   "cell_type": "markdown",
   "id": "c94c7bc6",
   "metadata": {},
   "source": [
    "# mutable condition"
   ]
  },
  {
   "cell_type": "code",
   "execution_count": 1,
   "id": "c6e65bd2",
   "metadata": {},
   "outputs": [
    {
     "data": {
      "text/plain": [
       "'python'"
      ]
     },
     "execution_count": 1,
     "metadata": {},
     "output_type": "execute_result"
    }
   ],
   "source": [
    "string1='python'    #we assigned string1 with python\n",
    "string1             #print the string1"
   ]
  },
  {
   "cell_type": "code",
   "execution_count": 2,
   "id": "30acc259",
   "metadata": {},
   "outputs": [
    {
     "ename": "TypeError",
     "evalue": "'str' object does not support item assignment",
     "output_type": "error",
     "traceback": [
      "\u001b[1;31m---------------------------------------------------------------------------\u001b[0m",
      "\u001b[1;31mTypeError\u001b[0m                                 Traceback (most recent call last)",
      "Cell \u001b[1;32mIn[2], line 1\u001b[0m\n\u001b[1;32m----> 1\u001b[0m string1[\u001b[38;5;241m0\u001b[39m]\u001b[38;5;241m=\u001b[39m\u001b[38;5;124m'\u001b[39m\u001b[38;5;124mP\u001b[39m\u001b[38;5;124m'\u001b[39m    \u001b[38;5;66;03m#changing 'p' value with 'P' in 0 index of string1\u001b[39;00m\n\u001b[0;32m      2\u001b[0m string1\n",
      "\u001b[1;31mTypeError\u001b[0m: 'str' object does not support item assignment"
     ]
    }
   ],
   "source": [
    "string1[0]='P'    #changing 'p' value with 'P' in 0 index of string1\n",
    "string1           # we got Type Error \n",
    "                   # we can not change the value of string1\n",
    "                   #so strings are immutable"
   ]
  },
  {
   "cell_type": "markdown",
   "id": "93309dd2",
   "metadata": {},
   "source": [
    "# slice"
   ]
  },
  {
   "cell_type": "code",
   "execution_count": null,
   "id": "4de0e48a",
   "metadata": {},
   "outputs": [],
   "source": [
    "string1=\"string is a data type\"    #assigned string\n",
    "string1[start:stop:direction]      #syntax of slice\n",
    "string1[: :]            #nothing mention means it takes start and last letter\n",
    "                         #  and 1 step forward and positive direction\n",
    "    "
   ]
  },
  {
   "cell_type": "code",
   "execution_count": 7,
   "id": "87d22bfd",
   "metadata": {},
   "outputs": [
    {
     "data": {
      "text/plain": [
       "'ioa'"
      ]
     },
     "execution_count": 7,
     "metadata": {},
     "output_type": "execute_result"
    }
   ],
   "source": [
    "string1='hai how are you'\n",
    "string1[2:10:3]    #start value-2\n",
    "                   #stop value 10-1\n",
    "                    #positive direction and 3 steps"
   ]
  },
  {
   "cell_type": "code",
   "execution_count": 8,
   "id": "d4568c0b",
   "metadata": {},
   "outputs": [
    {
     "data": {
      "text/plain": [
       "''"
      ]
     },
     "execution_count": 8,
     "metadata": {},
     "output_type": "execute_result"
    }
   ],
   "source": [
    "string1='hai how are you'\n",
    "string1[2:10:-3]  #start value-2\n",
    "                   #stop value 10+1\n",
    "                    #negative direction and 3 steps\n",
    "                   # it is not possible "
   ]
  },
  {
   "cell_type": "code",
   "execution_count": 9,
   "id": "c63b8246",
   "metadata": {},
   "outputs": [
    {
     "data": {
      "text/plain": [
       "'i'"
      ]
     },
     "execution_count": 9,
     "metadata": {},
     "output_type": "execute_result"
    }
   ],
   "source": [
    "string1='hai how are you'\n",
    "string1[2:-10:3]  #start value-2\n",
    "                   #stop value -10-1\n",
    "                    #positive direction and 3 steps\n",
    "            "
   ]
  },
  {
   "cell_type": "code",
   "execution_count": 10,
   "id": "681af4e2",
   "metadata": {},
   "outputs": [
    {
     "data": {
      "text/plain": [
       "''"
      ]
     },
     "execution_count": 10,
     "metadata": {},
     "output_type": "execute_result"
    }
   ],
   "source": [
    "string1='hai how are you'\n",
    "string1[2:-10:-3]\n",
    "               #start value-2\n",
    "                #stop value -10+1\n",
    "                 #negative direction and 3 steps\n",
    "               # not possible"
   ]
  },
  {
   "cell_type": "code",
   "execution_count": 11,
   "id": "7f711276",
   "metadata": {},
   "outputs": [
    {
     "data": {
      "text/plain": [
       "'oe '"
      ]
     },
     "execution_count": 11,
     "metadata": {},
     "output_type": "execute_result"
    }
   ],
   "source": [
    "string1='hai how are you'\n",
    "string1[-2:-10:-3] \n",
    "                    #start value is -2\n",
    "                    #stop value is -10+1\n",
    "                    #negative direction and 3 steps\n",
    "            "
   ]
  },
  {
   "cell_type": "code",
   "execution_count": 12,
   "id": "f2c55129",
   "metadata": {},
   "outputs": [
    {
     "data": {
      "text/plain": [
       "''"
      ]
     },
     "execution_count": 12,
     "metadata": {},
     "output_type": "execute_result"
    }
   ],
   "source": [
    "string1='hai how are you'\n",
    "string1[-2:10:3]       #start value is -2\n",
    "                        #stop value 10-1\n",
    "                        #positive direction and 3 steps\n",
    "                        # notpossible"
   ]
  },
  {
   "cell_type": "code",
   "execution_count": 13,
   "id": "06f88168",
   "metadata": {},
   "outputs": [
    {
     "data": {
      "text/plain": [
       "''"
      ]
     },
     "execution_count": 13,
     "metadata": {},
     "output_type": "execute_result"
    }
   ],
   "source": [
    "string1='hai how are you'\n",
    "string1[-2:-10:3]  #start value is -2\n",
    "                   #stop value -10-1\n",
    "                   #positive direction and 3 steps\n",
    "                    #not possible"
   ]
  },
  {
   "cell_type": "code",
   "execution_count": 14,
   "id": "724d32a7",
   "metadata": {},
   "outputs": [
    {
     "data": {
      "text/plain": [
       "'o'"
      ]
     },
     "execution_count": 14,
     "metadata": {},
     "output_type": "execute_result"
    }
   ],
   "source": [
    "string1='hai how are you'\n",
    "string1[-2:10:-3]  #start value is-2\n",
    "                    #stop value -10+1\n",
    "                    #positive direction and 3 steps\n",
    "            "
   ]
  },
  {
   "cell_type": "markdown",
   "id": "7ba0ece5",
   "metadata": {},
   "source": [
    "# string methods\n",
    "# capitalize"
   ]
  },
  {
   "cell_type": "code",
   "execution_count": 1,
   "id": "3dc0ba77",
   "metadata": {},
   "outputs": [
    {
     "data": {
      "text/plain": [
       "'Python'"
      ]
     },
     "execution_count": 1,
     "metadata": {},
     "output_type": "execute_result"
    }
   ],
   "source": [
    "str1='python'\n",
    "str1.capitalize() #here we capitalize the string1,\n",
    "                   #we get the output as 'Python' instead of 'python'\n",
    "                   #output started with capital letter"
   ]
  },
  {
   "cell_type": "markdown",
   "id": "6eddbf7e",
   "metadata": {},
   "source": [
    "# uppercase"
   ]
  },
  {
   "cell_type": "code",
   "execution_count": 2,
   "id": "2469dd59",
   "metadata": {},
   "outputs": [
    {
     "data": {
      "text/plain": [
       "'PYTHON'"
      ]
     },
     "execution_count": 2,
     "metadata": {},
     "output_type": "execute_result"
    }
   ],
   "source": [
    "str1='python'  #we assigned lowercase string.\n",
    "str1.upper()  # by using upper() ,we can convert string into uppercase \n",
    "              #i.e lower to uppercase "
   ]
  },
  {
   "cell_type": "markdown",
   "id": "6b785659",
   "metadata": {},
   "source": [
    "# lowercase"
   ]
  },
  {
   "cell_type": "code",
   "execution_count": 3,
   "id": "649fc962",
   "metadata": {},
   "outputs": [
    {
     "data": {
      "text/plain": [
       "'python'"
      ]
     },
     "execution_count": 3,
     "metadata": {},
     "output_type": "execute_result"
    }
   ],
   "source": [
    "str1='PYTHON'  # assigned strng in uppercase\n",
    "str1.lower()  # by using lower() ,we can convert string into lowercase \n",
    "              #i.e uppercase to  lower"
   ]
  },
  {
   "cell_type": "markdown",
   "id": "56e8031f",
   "metadata": {},
   "source": [
    "# casefold\n",
    "-  it converts every letter into lowercase"
   ]
  },
  {
   "cell_type": "code",
   "execution_count": 4,
   "id": "40582e6a",
   "metadata": {},
   "outputs": [
    {
     "data": {
      "text/plain": [
       "'lowercase'"
      ]
     },
     "execution_count": 4,
     "metadata": {},
     "output_type": "execute_result"
    }
   ],
   "source": [
    "str1='LowerCase'  #assigned 'L' and 'C' in capital remaining are lowercase\n",
    "str1.casefold()    #casefold converts all letters into lowercase"
   ]
  },
  {
   "cell_type": "markdown",
   "id": "7f8d4748",
   "metadata": {},
   "source": [
    "# Index\n",
    "-  Index method print the index of given letters in string\n",
    "-  if substring not found it gives error"
   ]
  },
  {
   "cell_type": "code",
   "execution_count": 5,
   "id": "9ef127b8",
   "metadata": {},
   "outputs": [
    {
     "data": {
      "text/plain": [
       "4"
      ]
     },
     "execution_count": 5,
     "metadata": {},
     "output_type": "execute_result"
    }
   ],
   "source": [
    "str1=\"welcome python\"  #assigned string with str1\n",
    "str1.index('o')        #by using index(),finding index of 'o'\n",
    "                        #it given only first index of 'o'."
   ]
  },
  {
   "cell_type": "code",
   "execution_count": 23,
   "id": "9b20f9cc",
   "metadata": {},
   "outputs": [
    {
     "data": {
      "text/plain": [
       "12"
      ]
     },
     "execution_count": 23,
     "metadata": {},
     "output_type": "execute_result"
    }
   ],
   "source": [
    "str1='welcome python'\n",
    "str1.index('o',str1.index('o')+1) #it give second repeated letter 'o ' index"
   ]
  },
  {
   "cell_type": "markdown",
   "id": "dc42fe18",
   "metadata": {},
   "source": [
    "# find()\n",
    "-  this method is used to find the index of given letter or string\n",
    "-  if substring not found it returns -1"
   ]
  },
  {
   "cell_type": "markdown",
   "id": "4b73bbfe",
   "metadata": {},
   "source": [
    "str1=\"welcome python\"\n",
    "str1.find('c')    #findout the index of 'c' that is '3'"
   ]
  },
  {
   "cell_type": "code",
   "execution_count": 13,
   "id": "32a61c4d",
   "metadata": {},
   "outputs": [
    {
     "data": {
      "text/plain": [
       "-1"
      ]
     },
     "execution_count": 13,
     "metadata": {},
     "output_type": "execute_result"
    }
   ],
   "source": [
    "str1.find('a')   # a is out of string ,so returns -1"
   ]
  },
  {
   "cell_type": "markdown",
   "id": "3d7f49a3",
   "metadata": {},
   "source": [
    "# count()"
   ]
  },
  {
   "cell_type": "code",
   "execution_count": 14,
   "id": "06455866",
   "metadata": {},
   "outputs": [
    {
     "data": {
      "text/plain": [
       "2"
      ]
     },
     "execution_count": 14,
     "metadata": {},
     "output_type": "execute_result"
    }
   ],
   "source": [
    "str1='hai how are you'    #assigned hai how are you with str1.\n",
    "str1.count('h')           # counting how many number of 'h' are there ---  #2"
   ]
  },
  {
   "cell_type": "code",
   "execution_count": 15,
   "id": "8bc4a62c",
   "metadata": {},
   "outputs": [
    {
     "data": {
      "text/plain": [
       "3"
      ]
     },
     "execution_count": 15,
     "metadata": {},
     "output_type": "execute_result"
    }
   ],
   "source": [
    "str1.count(' ')  #counting number of spaces ----#3"
   ]
  },
  {
   "cell_type": "markdown",
   "id": "571554df",
   "metadata": {},
   "source": [
    "# replace()\n",
    "-  replace() is used to replace the given letter."
   ]
  },
  {
   "cell_type": "code",
   "execution_count": 16,
   "id": "5a4b625d",
   "metadata": {},
   "outputs": [
    {
     "data": {
      "text/plain": [
       "'w#lcom#'"
      ]
     },
     "execution_count": 16,
     "metadata": {},
     "output_type": "execute_result"
    }
   ],
   "source": [
    "str1='welcome'\n",
    "str1.replace('e','#')  #replaced 'e with '#' output is -----w#lcom#"
   ]
  },
  {
   "cell_type": "code",
   "execution_count": 17,
   "id": "74401983",
   "metadata": {},
   "outputs": [
    {
     "data": {
      "text/plain": [
       "'w#lcome'"
      ]
     },
     "execution_count": 17,
     "metadata": {},
     "output_type": "execute_result"
    }
   ],
   "source": [
    "str1.replace('e','#',1)  # it replace only  first letter 'e'"
   ]
  },
  {
   "cell_type": "code",
   "execution_count": 18,
   "id": "2567a4a5",
   "metadata": {},
   "outputs": [
    {
     "data": {
      "text/plain": [
       "'w#lcom#'"
      ]
     },
     "execution_count": 18,
     "metadata": {},
     "output_type": "execute_result"
    }
   ],
   "source": [
    "str1.replace('e','#',-1)   # -1 means it replace all occurences of 'e' with '#'"
   ]
  },
  {
   "cell_type": "markdown",
   "id": "dd8d975e",
   "metadata": {},
   "source": [
    "# strip-lstrip-rstrip"
   ]
  },
  {
   "cell_type": "code",
   "execution_count": 25,
   "id": "855da548",
   "metadata": {},
   "outputs": [
    {
     "name": "stdout",
     "output_type": "stream",
     "text": [
      "hai how are you\n",
      "hai how are you\n",
      "hai how are you\n"
     ]
    }
   ],
   "source": [
    "str1=' hai how are you '   #given spaces before and end of string\n",
    "str2=' hai how are you'    #given space onlyin leftside\n",
    "str3='hai how are you '   # in this rightside space is there\n",
    "print(str1.strip())        # strip removes bothside spacesof string\n",
    "print(str2.lstrip())         #lstrip removes space on leftside of string\n",
    "print(str3.rstrip())       # rstrip removes space on rightside of given strinh"
   ]
  },
  {
   "cell_type": "markdown",
   "id": "5d9f2b1a",
   "metadata": {},
   "source": [
    "# startswith-endswith"
   ]
  },
  {
   "cell_type": "code",
   "execution_count": 29,
   "id": "c603120e",
   "metadata": {},
   "outputs": [
    {
     "data": {
      "text/plain": [
       "True"
      ]
     },
     "execution_count": 29,
     "metadata": {},
     "output_type": "execute_result"
    }
   ],
   "source": [
    "str1='hai how are you'\n",
    "str1.startswith('hai')  # string starts with 'hai'\n",
    "str1.startswith('h')     # string startswith 'h'"
   ]
  },
  {
   "cell_type": "code",
   "execution_count": 30,
   "id": "ee5f3ff6",
   "metadata": {},
   "outputs": [
    {
     "data": {
      "text/plain": [
       "True"
      ]
     },
     "execution_count": 30,
     "metadata": {},
     "output_type": "execute_result"
    }
   ],
   "source": [
    "str1.endswith('you')  # string endswith you"
   ]
  },
  {
   "cell_type": "markdown",
   "id": "091888ca",
   "metadata": {},
   "source": [
    "# isalpha-isnumeric-isalnum"
   ]
  },
  {
   "cell_type": "code",
   "execution_count": 33,
   "id": "bb3986b5",
   "metadata": {},
   "outputs": [
    {
     "data": {
      "text/plain": [
       "True"
      ]
     },
     "execution_count": 33,
     "metadata": {},
     "output_type": "execute_result"
    }
   ],
   "source": [
    "str1='123'     \n",
    "str1.isalpha()    #'123 is not alphabetic string ,so false'\n",
    "str1.isnumeric()   #'123' is numeric ----- True\n",
    "str1.isalnum()     #'123' is numeric----True"
   ]
  },
  {
   "cell_type": "code",
   "execution_count": 36,
   "id": "87fe37f4",
   "metadata": {},
   "outputs": [
    {
     "data": {
      "text/plain": [
       "True"
      ]
     },
     "execution_count": 36,
     "metadata": {},
     "output_type": "execute_result"
    }
   ],
   "source": [
    "str1='abcd'     \n",
    "str1.isalpha()    #abcd  is  alphabetic string ,so True'\n",
    "str1.isnumeric()   #'abcd' is not numeric so----False\n",
    "str1.isalnum()     #'abcd' is alphabet  so---True\n"
   ]
  },
  {
   "cell_type": "code",
   "execution_count": 40,
   "id": "57b5662a",
   "metadata": {},
   "outputs": [
    {
     "data": {
      "text/plain": [
       "True"
      ]
     },
     "execution_count": 40,
     "metadata": {},
     "output_type": "execute_result"
    }
   ],
   "source": [
    "str1='12ab'\n",
    "str1.isalpha()      #false\n",
    "str1.isnumeric()     #false\n",
    "str1.isalnum()        #True  -----string is alphabet and numeric"
   ]
  },
  {
   "cell_type": "markdown",
   "id": "cdae1863",
   "metadata": {},
   "source": [
    "# split"
   ]
  },
  {
   "cell_type": "code",
   "execution_count": 41,
   "id": "c120d648",
   "metadata": {},
   "outputs": [
    {
     "data": {
      "text/plain": [
       "['hai', 'how', 'are', 'you']"
      ]
     },
     "execution_count": 41,
     "metadata": {},
     "output_type": "execute_result"
    }
   ],
   "source": [
    "str1='hai how are you'\n",
    "str1.split()   #we are not providing anything inside bracket means :space"
   ]
  },
  {
   "cell_type": "code",
   "execution_count": 43,
   "id": "ba373a82",
   "metadata": {},
   "outputs": [
    {
     "data": {
      "text/plain": [
       "['hai hoe ', 'are you']"
      ]
     },
     "execution_count": 43,
     "metadata": {},
     "output_type": "execute_result"
    }
   ],
   "source": [
    "str1='hai hoe ,are you'\n",
    "str1.split(',')  #split string where ',' is there"
   ]
  },
  {
   "cell_type": "code",
   "execution_count": 44,
   "id": "5d047b33",
   "metadata": {},
   "outputs": [
    {
     "data": {
      "text/plain": [
       "['h', 'i how, ', 're you']"
      ]
     },
     "execution_count": 44,
     "metadata": {},
     "output_type": "execute_result"
    }
   ],
   "source": [
    "str1='hai how, are you'\n",
    "str1.split('a') split stirng where 'a' is there"
   ]
  },
  {
   "cell_type": "code",
   "execution_count": null,
   "id": "4aa23eec",
   "metadata": {},
   "outputs": [],
   "source": []
  }
 ],
 "metadata": {
  "kernelspec": {
   "display_name": "Python 3 (ipykernel)",
   "language": "python",
   "name": "python3"
  },
  "language_info": {
   "codemirror_mode": {
    "name": "ipython",
    "version": 3
   },
   "file_extension": ".py",
   "mimetype": "text/x-python",
   "name": "python",
   "nbconvert_exporter": "python",
   "pygments_lexer": "ipython3",
   "version": "3.11.5"
  }
 },
 "nbformat": 4,
 "nbformat_minor": 5
}
