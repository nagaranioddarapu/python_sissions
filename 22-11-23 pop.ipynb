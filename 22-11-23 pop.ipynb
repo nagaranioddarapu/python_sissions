{
 "cells": [
  {
   "cell_type": "code",
   "execution_count": 3,
   "id": "2260e080",
   "metadata": {},
   "outputs": [
    {
     "name": "stdout",
     "output_type": "stream",
     "text": [
      "{'a': 23, 'b': 45}\n",
      "{}\n"
     ]
    }
   ],
   "source": [
    "# clear - copy\n",
    "d1={'a':23,'b':45}\n",
    "d2={}\n",
    "d2=d1.copy()\n",
    "d1.clear()\n",
    "print(d2)\n",
    "print(d1)"
   ]
  },
  {
   "cell_type": "code",
   "execution_count": 20,
   "id": "1e5910ac",
   "metadata": {},
   "outputs": [
    {
     "data": {
      "text/plain": [
       "{'a': 23, 'b': 45}"
      ]
     },
     "execution_count": 20,
     "metadata": {},
     "output_type": "execute_result"
    }
   ],
   "source": [
    "#pop -popitem-del\n",
    "d1={'a':23,'b':45,'c':56}\n",
    "d1.pop('c')\n",
    "d1\n"
   ]
  },
  {
   "cell_type": "code",
   "execution_count": 21,
   "id": "ebfb2030",
   "metadata": {},
   "outputs": [
    {
     "data": {
      "text/plain": [
       "{'a': 23, 'b': 45}"
      ]
     },
     "execution_count": 21,
     "metadata": {},
     "output_type": "execute_result"
    }
   ],
   "source": [
    "#pop -item\n",
    "\n",
    "\n",
    "d1={'a':23,'b':45,'c':45}\n",
    "d1.popitem()\n",
    "d1\n"
   ]
  },
  {
   "cell_type": "code",
   "execution_count": 9,
   "id": "7a71a081",
   "metadata": {},
   "outputs": [
    {
     "data": {
      "text/plain": [
       "{'a': 23}"
      ]
     },
     "execution_count": 9,
     "metadata": {},
     "output_type": "execute_result"
    }
   ],
   "source": [
    "#del\n",
    "d1={'a':23,'b':45}\n",
    "del d1['b']\n",
    "d1\n"
   ]
  },
  {
   "cell_type": "code",
   "execution_count": 12,
   "id": "6cf27cca",
   "metadata": {},
   "outputs": [
    {
     "ename": "NameError",
     "evalue": "name 'd1' is not defined",
     "output_type": "error",
     "traceback": [
      "\u001b[1;31m---------------------------------------------------------------------------\u001b[0m",
      "\u001b[1;31mNameError\u001b[0m                                 Traceback (most recent call last)",
      "Cell \u001b[1;32mIn[12], line 1\u001b[0m\n\u001b[1;32m----> 1\u001b[0m \u001b[38;5;28;01mdel\u001b[39;00m(d1)\n\u001b[0;32m      2\u001b[0m d1\n",
      "\u001b[1;31mNameError\u001b[0m: name 'd1' is not defined"
     ]
    }
   ],
   "source": [
    "del(d1)\n",
    "d1"
   ]
  },
  {
   "cell_type": "code",
   "execution_count": 10,
   "id": "929c3619",
   "metadata": {},
   "outputs": [
    {
     "data": {
      "text/plain": [
       "[10, 30, 40]"
      ]
     },
     "execution_count": 10,
     "metadata": {},
     "output_type": "execute_result"
    }
   ],
   "source": [
    "l1=[10,20,30,40]\n",
    "del l1[1]\n",
    "l1"
   ]
  },
  {
   "cell_type": "code",
   "execution_count": 16,
   "id": "f0aa7bd4",
   "metadata": {},
   "outputs": [
    {
     "data": {
      "text/plain": [
       "3"
      ]
     },
     "execution_count": 16,
     "metadata": {},
     "output_type": "execute_result"
    }
   ],
   "source": [
    "# fromkeys -$keys\n",
    "d1={'a':2,'b':3,'c':4}\n",
    "d1.get('b')\n"
   ]
  },
  {
   "cell_type": "code",
   "execution_count": 18,
   "id": "33abb7cc",
   "metadata": {},
   "outputs": [
    {
     "data": {
      "text/plain": [
       "3"
      ]
     },
     "execution_count": 18,
     "metadata": {},
     "output_type": "execute_result"
    }
   ],
   "source": [
    "d1['b']"
   ]
  },
  {
   "cell_type": "code",
   "execution_count": 19,
   "id": "d464407d",
   "metadata": {},
   "outputs": [
    {
     "ename": "KeyError",
     "evalue": "'k'",
     "output_type": "error",
     "traceback": [
      "\u001b[1;31m---------------------------------------------------------------------------\u001b[0m",
      "\u001b[1;31mKeyError\u001b[0m                                  Traceback (most recent call last)",
      "Cell \u001b[1;32mIn[19], line 1\u001b[0m\n\u001b[1;32m----> 1\u001b[0m d1[\u001b[38;5;124m'\u001b[39m\u001b[38;5;124mk\u001b[39m\u001b[38;5;124m'\u001b[39m]\n",
      "\u001b[1;31mKeyError\u001b[0m: 'k'"
     ]
    }
   ],
   "source": [
    "d1['k']"
   ]
  },
  {
   "cell_type": "code",
   "execution_count": 3,
   "id": "3d2fb678",
   "metadata": {},
   "outputs": [
    {
     "data": {
      "text/plain": [
       "23"
      ]
     },
     "execution_count": 3,
     "metadata": {},
     "output_type": "execute_result"
    }
   ],
   "source": [
    "d1={'a':23,'b':45}\n",
    "d1.get('a')"
   ]
  },
  {
   "cell_type": "code",
   "execution_count": null,
   "id": "07a07025",
   "metadata": {},
   "outputs": [],
   "source": []
  },
  {
   "cell_type": "code",
   "execution_count": 17,
   "id": "acd6de49",
   "metadata": {},
   "outputs": [],
   "source": [
    "d1.get('z')\n",
    "d1.get('k')"
   ]
  },
  {
   "cell_type": "code",
   "execution_count": 6,
   "id": "144c0230",
   "metadata": {},
   "outputs": [
    {
     "ename": "KeyError",
     "evalue": "'z'",
     "output_type": "error",
     "traceback": [
      "\u001b[1;31m---------------------------------------------------------------------------\u001b[0m",
      "\u001b[1;31mKeyError\u001b[0m                                  Traceback (most recent call last)",
      "Cell \u001b[1;32mIn[6], line 1\u001b[0m\n\u001b[1;32m----> 1\u001b[0m d1[\u001b[38;5;124m'\u001b[39m\u001b[38;5;124mz\u001b[39m\u001b[38;5;124m'\u001b[39m]\n",
      "\u001b[1;31mKeyError\u001b[0m: 'z'"
     ]
    }
   ],
   "source": [
    "d1['z']"
   ]
  },
  {
   "cell_type": "code",
   "execution_count": 22,
   "id": "8b450764",
   "metadata": {},
   "outputs": [
    {
     "data": {
      "text/plain": [
       "{'a': None, 'b': None}"
      ]
     },
     "execution_count": 22,
     "metadata": {},
     "output_type": "execute_result"
    }
   ],
   "source": [
    "#fromkeys\n",
    "d1={'ab':2,'bn':3,'cn':4}\n",
    "d1.fromkeys('ab')"
   ]
  },
  {
   "cell_type": "code",
   "execution_count": 28,
   "id": "9518c085",
   "metadata": {},
   "outputs": [
    {
     "data": {
      "text/plain": [
       "{'a': 23, 'b': 23}"
      ]
     },
     "execution_count": 28,
     "metadata": {},
     "output_type": "execute_result"
    }
   ],
   "source": [
    "#fromkeys\n",
    "d1={'ab':2,'bn':3,'cn':4}\n",
    "d2=d1.fromkeys('ab',23)\n",
    "d2"
   ]
  },
  {
   "cell_type": "code",
   "execution_count": null,
   "id": "af3789c0",
   "metadata": {},
   "outputs": [],
   "source": []
  },
  {
   "cell_type": "code",
   "execution_count": 30,
   "id": "933a379b",
   "metadata": {},
   "outputs": [
    {
     "data": {
      "text/plain": [
       "{'b': None, 'n': None}"
      ]
     },
     "execution_count": 30,
     "metadata": {},
     "output_type": "execute_result"
    }
   ],
   "source": [
    "d3={}.fromkeys('bn')\n",
    "d3"
   ]
  },
  {
   "cell_type": "code",
   "execution_count": 31,
   "id": "f8241828",
   "metadata": {},
   "outputs": [
    {
     "data": {
      "text/plain": [
       "{'b': 45, 'n': 45}"
      ]
     },
     "execution_count": 31,
     "metadata": {},
     "output_type": "execute_result"
    }
   ],
   "source": [
    "d3={}.fromkeys('bn',45)\n",
    "d3"
   ]
  },
  {
   "cell_type": "code",
   "execution_count": 32,
   "id": "cbf14241",
   "metadata": {},
   "outputs": [
    {
     "data": {
      "text/plain": [
       "{1: 'odd', 3: 'odd', 5: 'odd'}"
      ]
     },
     "execution_count": 32,
     "metadata": {},
     "output_type": "execute_result"
    }
   ],
   "source": [
    "d3={}.fromkeys([1,3,5],'odd')\n",
    "d3"
   ]
  },
  {
   "cell_type": "code",
   "execution_count": 33,
   "id": "c3b2d080",
   "metadata": {},
   "outputs": [
    {
     "data": {
      "text/plain": [
       "{'abc': 'ef'}"
      ]
     },
     "execution_count": 33,
     "metadata": {},
     "output_type": "execute_result"
    }
   ],
   "source": [
    "# set as default\n",
    "d1={}\n",
    "d1.setdefault('abc','ef')\n",
    "d1"
   ]
  },
  {
   "cell_type": "code",
   "execution_count": 10,
   "id": "ae4c46e8",
   "metadata": {},
   "outputs": [],
   "source": [
    "d1.setdefault('z')"
   ]
  },
  {
   "cell_type": "code",
   "execution_count": 35,
   "id": "46b260aa",
   "metadata": {},
   "outputs": [
    {
     "data": {
      "text/plain": [
       "{'abc': 'ef', 'defg': None}"
      ]
     },
     "execution_count": 35,
     "metadata": {},
     "output_type": "execute_result"
    }
   ],
   "source": [
    "# set as default\n",
    "d1={}\n",
    "d1.setdefault('abc','ef')\n",
    "d1.setdefault('defg')\n",
    "d1"
   ]
  },
  {
   "cell_type": "code",
   "execution_count": 40,
   "id": "5ac618af",
   "metadata": {},
   "outputs": [
    {
     "data": {
      "text/plain": [
       "{'abc': 'ef', 'defg': None}"
      ]
     },
     "execution_count": 40,
     "metadata": {},
     "output_type": "execute_result"
    }
   ],
   "source": [
    "# set as default\n",
    "d1={}\n",
    "d1.setdefault('abc','ef')\n",
    "d1.setdefault('defg')\n",
    "d1.setdefault('abc','gh')  #values not updated bcz first set the default as 'ef' it cano tchange\n",
    "d1"
   ]
  },
  {
   "cell_type": "code",
   "execution_count": 13,
   "id": "49ba4542",
   "metadata": {},
   "outputs": [
    {
     "ename": "ValueError",
     "evalue": "dictionary update sequence element #0 has length 1; 2 is required",
     "output_type": "error",
     "traceback": [
      "\u001b[1;31m---------------------------------------------------------------------------\u001b[0m",
      "\u001b[1;31mValueError\u001b[0m                                Traceback (most recent call last)",
      "Cell \u001b[1;32mIn[13], line 1\u001b[0m\n\u001b[1;32m----> 1\u001b[0m d1\u001b[38;5;241m.\u001b[39mupdate(\u001b[38;5;124m'\u001b[39m\u001b[38;5;124mad\u001b[39m\u001b[38;5;124m'\u001b[39m)\n",
      "\u001b[1;31mValueError\u001b[0m: dictionary update sequence element #0 has length 1; 2 is required"
     ]
    }
   ],
   "source": [
    "d2=d1.update()"
   ]
  },
  {
   "cell_type": "code",
   "execution_count": 36,
   "id": "5a7e74e6",
   "metadata": {},
   "outputs": [
    {
     "data": {
      "text/plain": [
       "{'rani': 32}"
      ]
     },
     "execution_count": 36,
     "metadata": {},
     "output_type": "execute_result"
    }
   ],
   "source": [
    "d2={}\n",
    "d2['rani']=32\n",
    "d2"
   ]
  },
  {
   "cell_type": "code",
   "execution_count": 37,
   "id": "ced9e48f",
   "metadata": {},
   "outputs": [
    {
     "ename": "KeyError",
     "evalue": "'naga'",
     "output_type": "error",
     "traceback": [
      "\u001b[1;31m---------------------------------------------------------------------------\u001b[0m",
      "\u001b[1;31mKeyError\u001b[0m                                  Traceback (most recent call last)",
      "Cell \u001b[1;32mIn[37], line 3\u001b[0m\n\u001b[0;32m      1\u001b[0m d2\u001b[38;5;241m=\u001b[39m{}\n\u001b[0;32m      2\u001b[0m d2[\u001b[38;5;124m'\u001b[39m\u001b[38;5;124mrani\u001b[39m\u001b[38;5;124m'\u001b[39m]\u001b[38;5;241m=\u001b[39m\u001b[38;5;241m32\u001b[39m\n\u001b[1;32m----> 3\u001b[0m d2[\u001b[38;5;124m'\u001b[39m\u001b[38;5;124mnaga\u001b[39m\u001b[38;5;124m'\u001b[39m]\n\u001b[0;32m      4\u001b[0m d2\n",
      "\u001b[1;31mKeyError\u001b[0m: 'naga'"
     ]
    }
   ],
   "source": [
    "d2={}\n",
    "d2['rani']=32\n",
    "d2['naga']\n",
    "d2"
   ]
  },
  {
   "cell_type": "code",
   "execution_count": 38,
   "id": "9f1fc85b",
   "metadata": {},
   "outputs": [
    {
     "data": {
      "text/plain": [
       "{'naga': [32, 45, 67]}"
      ]
     },
     "execution_count": 38,
     "metadata": {},
     "output_type": "execute_result"
    }
   ],
   "source": [
    "d1={}\n",
    "d1['naga']=[32,45,67]\n",
    "d1"
   ]
  },
  {
   "cell_type": "code",
   "execution_count": 39,
   "id": "7858b8ec",
   "metadata": {},
   "outputs": [
    {
     "data": {
      "text/plain": [
       "{'rani': ['av', 'er', 'ty']}"
      ]
     },
     "execution_count": 39,
     "metadata": {},
     "output_type": "execute_result"
    }
   ],
   "source": [
    "d2={}\n",
    "d2['rani']=['av','er','ty']\n",
    "d2"
   ]
  },
  {
   "cell_type": "code",
   "execution_count": 41,
   "id": "7561c7be",
   "metadata": {},
   "outputs": [
    {
     "data": {
      "text/plain": [
       "{'a': 3, 'b': 4, 'c': 6, 'd': 7, 'e': 8}"
      ]
     },
     "execution_count": 41,
     "metadata": {},
     "output_type": "execute_result"
    }
   ],
   "source": [
    "d1={'a':3,'b':4,'c':6}\n",
    "d2={'d':7,'e':8}\n",
    "d1.update(d2)\n",
    "d1"
   ]
  },
  {
   "cell_type": "code",
   "execution_count": 42,
   "id": "84ff86a8",
   "metadata": {},
   "outputs": [
    {
     "data": {
      "text/plain": [
       "{'a': 3, 'b': 4, 'c': 8, 'd': 7}"
      ]
     },
     "execution_count": 42,
     "metadata": {},
     "output_type": "execute_result"
    }
   ],
   "source": [
    "d1={'a':3,'b':4,'c':6}\n",
    "d2={'d':7,'c':8} # c value updated with 8\n",
    "d1.update(d2)\n",
    "d1"
   ]
  },
  {
   "cell_type": "code",
   "execution_count": 43,
   "id": "494725a7",
   "metadata": {},
   "outputs": [
    {
     "data": {
      "text/plain": [
       "{'d': 7, 'e': 8, 'a': 3, 'b': 4, 'c': 6}"
      ]
     },
     "execution_count": 43,
     "metadata": {},
     "output_type": "execute_result"
    }
   ],
   "source": [
    "d1={'a':3,'b':4,'c':6}\n",
    "d2={'d':7,'e':8}\n",
    "d2.update(d1)\n",
    "d2"
   ]
  },
  {
   "cell_type": "code",
   "execution_count": 44,
   "id": "85d19230",
   "metadata": {},
   "outputs": [
    {
     "data": {
      "text/plain": [
       "{'d': 7, 'c': 6, 'a': 3, 'b': 4}"
      ]
     },
     "execution_count": 44,
     "metadata": {},
     "output_type": "execute_result"
    }
   ],
   "source": [
    "d1={'a':3,'b':4,'c':6}\n",
    "d2={'d':7,'c':8} # c value updated with 8\n",
    "d2.update(d1)\n",
    "d2"
   ]
  },
  {
   "cell_type": "code",
   "execution_count": null,
   "id": "6fb75231",
   "metadata": {},
   "outputs": [],
   "source": []
  }
 ],
 "metadata": {
  "kernelspec": {
   "display_name": "Python 3 (ipykernel)",
   "language": "python",
   "name": "python3"
  },
  "language_info": {
   "codemirror_mode": {
    "name": "ipython",
    "version": 3
   },
   "file_extension": ".py",
   "mimetype": "text/x-python",
   "name": "python",
   "nbconvert_exporter": "python",
   "pygments_lexer": "ipython3",
   "version": "3.11.5"
  }
 },
 "nbformat": 4,
 "nbformat_minor": 5
}
