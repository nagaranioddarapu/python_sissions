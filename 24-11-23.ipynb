{
 "cells": [
  {
   "cell_type": "code",
   "execution_count": 4,
   "id": "b75c1224",
   "metadata": {},
   "outputs": [
    {
     "data": {
      "text/plain": [
       "['Hyd', 'Mumbai', 'Chennai']"
      ]
     },
     "execution_count": 4,
     "metadata": {},
     "output_type": "execute_result"
    }
   ],
   "source": [
    "l1=['hyd','mumbai','chennai']\n",
    "\n",
    "list(map(lambda i:i.capitalize(),l1))\n"
   ]
  },
  {
   "cell_type": "code",
   "execution_count": 2,
   "id": "3953e364",
   "metadata": {},
   "outputs": [
    {
     "data": {
      "text/plain": [
       "['Hyd', 'Mumbai', 'Chennai']"
      ]
     },
     "execution_count": 2,
     "metadata": {},
     "output_type": "execute_result"
    }
   ],
   "source": [
    "l1=['hyd','mumbai','chennai']\n",
    "\n",
    "list(map(lambda i:i.capitalize(),l1))\n"
   ]
  },
  {
   "cell_type": "code",
   "execution_count": 9,
   "id": "587af211",
   "metadata": {},
   "outputs": [
    {
     "data": {
      "text/plain": [
       "[1, 4, 9, 16, 25]"
      ]
     },
     "execution_count": 9,
     "metadata": {},
     "output_type": "execute_result"
    }
   ],
   "source": [
    "l1=[1,2,3,4,5]\n",
    "list(map(lambda i:i*i,l1))"
   ]
  },
  {
   "cell_type": "code",
   "execution_count": 13,
   "id": "a8a2950d",
   "metadata": {},
   "outputs": [
    {
     "data": {
      "text/plain": [
       "[12, 14, 36]"
      ]
     },
     "execution_count": 13,
     "metadata": {},
     "output_type": "execute_result"
    }
   ],
   "source": [
    "list1=[1,2,3]\n",
    "list2=[11,12,33]\n",
    "list(map(lambda i,j:i+j,list1,list2))"
   ]
  },
  {
   "cell_type": "code",
   "execution_count": 2,
   "id": "788dcf14",
   "metadata": {},
   "outputs": [
    {
     "data": {
      "text/plain": [
       "'<map object at 0x0000025DA5A4D330>'"
      ]
     },
     "execution_count": 2,
     "metadata": {},
     "output_type": "execute_result"
    }
   ],
   "source": [
    "list1=[1,2,3]\n",
    "list2=[11,12,33]\n",
    "str(map(lambda i,j:i+j,list1,list2))"
   ]
  },
  {
   "cell_type": "code",
   "execution_count": 3,
   "id": "9beb7c51",
   "metadata": {},
   "outputs": [
    {
     "data": {
      "text/plain": [
       "(12, 14, 36)"
      ]
     },
     "execution_count": 3,
     "metadata": {},
     "output_type": "execute_result"
    }
   ],
   "source": [
    "list1=[1,2,3]\n",
    "list2=[11,12,33]\n",
    "tuple(map(lambda i,j:i+j,list1,list2))"
   ]
  },
  {
   "cell_type": "code",
   "execution_count": 5,
   "id": "5821f3b4",
   "metadata": {},
   "outputs": [
    {
     "ename": "TypeError",
     "evalue": "'dict' object is not callable",
     "output_type": "error",
     "traceback": [
      "\u001b[1;31m---------------------------------------------------------------------------\u001b[0m",
      "\u001b[1;31mTypeError\u001b[0m                                 Traceback (most recent call last)",
      "Cell \u001b[1;32mIn[5], line 4\u001b[0m\n\u001b[0;32m      2\u001b[0m list2\u001b[38;5;241m=\u001b[39m[\u001b[38;5;241m11\u001b[39m,\u001b[38;5;241m12\u001b[39m,\u001b[38;5;241m33\u001b[39m]\n\u001b[0;32m      3\u001b[0m d1\u001b[38;5;241m=\u001b[39m{}\n\u001b[1;32m----> 4\u001b[0m d1(\u001b[38;5;28mmap\u001b[39m(\u001b[38;5;28;01mlambda\u001b[39;00m i,j:i\u001b[38;5;241m+\u001b[39mj,list1,list2))\n",
      "\u001b[1;31mTypeError\u001b[0m: 'dict' object is not callable"
     ]
    }
   ],
   "source": [
    "list1=[1,2,3]\n",
    "list2=[11,12,33]\n",
    "d1={}\n",
    "d1(map(lambda i,j:i+j,list1,list2))"
   ]
  },
  {
   "cell_type": "code",
   "execution_count": 15,
   "id": "c724b42a",
   "metadata": {},
   "outputs": [
    {
     "data": {
      "text/plain": [
       "[True, True, False]"
      ]
     },
     "execution_count": 15,
     "metadata": {},
     "output_type": "execute_result"
    }
   ],
   "source": [
    "l1=['h#d','mum#bai','chennai']\n",
    "list(map(lambda i:'#' in i,l1))"
   ]
  },
  {
   "cell_type": "code",
   "execution_count": 1,
   "id": "5c8e65a4",
   "metadata": {},
   "outputs": [
    {
     "data": {
      "text/plain": [
       "['h#d', 'mum#bai']"
      ]
     },
     "execution_count": 1,
     "metadata": {},
     "output_type": "execute_result"
    }
   ],
   "source": [
    "l1=['h#d','mum#bai','chennai']\n",
    "list(filter(lambda i:'#' in i,l1))"
   ]
  },
  {
   "cell_type": "code",
   "execution_count": null,
   "id": "800c9398",
   "metadata": {},
   "outputs": [],
   "source": []
  }
 ],
 "metadata": {
  "kernelspec": {
   "display_name": "Python 3 (ipykernel)",
   "language": "python",
   "name": "python3"
  },
  "language_info": {
   "codemirror_mode": {
    "name": "ipython",
    "version": 3
   },
   "file_extension": ".py",
   "mimetype": "text/x-python",
   "name": "python",
   "nbconvert_exporter": "python",
   "pygments_lexer": "ipython3",
   "version": "3.11.5"
  }
 },
 "nbformat": 4,
 "nbformat_minor": 5
}
