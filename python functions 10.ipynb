{
 "cells": [
  {
   "cell_type": "code",
   "execution_count": null,
   "id": "1e8ed513",
   "metadata": {},
   "outputs": [],
   "source": [
    "def def bill(bill_)"
   ]
  },
  {
   "cell_type": "code",
   "execution_count": 1,
   "id": "24825733",
   "metadata": {},
   "outputs": [
    {
     "name": "stdout",
     "output_type": "stream",
     "text": [
      "enter anumber5\n",
      "the square of 5 is 25\n"
     ]
    }
   ],
   "source": [
    "num=eval(input(\"enter anumber\"))\n",
    "print(\"the square of {} is {}\".format(num,num*num))"
   ]
  },
  {
   "cell_type": "code",
   "execution_count": 2,
   "id": "de923c0f",
   "metadata": {},
   "outputs": [
    {
     "name": "stdout",
     "output_type": "stream",
     "text": [
      "enter anumber6\n",
      "the square of 6 is 36\n"
     ]
    }
   ],
   "source": [
    "def square1():\n",
    "    num=eval(input(\"enter anumber\"))\n",
    "    print(\"the square of {} is {}\".format(num,num*num))\n",
    "    \n",
    "square1()"
   ]
  },
  {
   "cell_type": "code",
   "execution_count": 3,
   "id": "261a185d",
   "metadata": {
    "scrolled": true
   },
   "outputs": [
    {
     "name": "stdout",
     "output_type": "stream",
     "text": [
      "the square of 7 is 49\n"
     ]
    }
   ],
   "source": [
    "def square1(num):\n",
    "\n",
    "    print(\"the square of {} is {}\".format(num,num*num))\n",
    "    \n",
    "square1(7)"
   ]
  },
  {
   "cell_type": "code",
   "execution_count": 5,
   "id": "a0595d4f",
   "metadata": {},
   "outputs": [
    {
     "name": "stdout",
     "output_type": "stream",
     "text": [
      "number is 9\n",
      "enter a number56\n",
      "lost\n"
     ]
    }
   ],
   "source": [
    "import random\n",
    "num=random.randint(1,20)\n",
    "print(\"number is\",num)\n",
    "val=eval(input(\"enter a number\"))\n",
    "if num==val:\n",
    "    print(\"you won\")\n",
    "else:\n",
    "    print(\"lost\")"
   ]
  },
  {
   "cell_type": "code",
   "execution_count": 6,
   "id": "92e0a40f",
   "metadata": {},
   "outputs": [
    {
     "name": "stdout",
     "output_type": "stream",
     "text": [
      "number is 12\n",
      "enter a number12\n",
      "you won\n"
     ]
    }
   ],
   "source": [
    "import random\n",
    "def ran():\n",
    "    num=random.randint(1,20)\n",
    "    print(\"number is\",num)\n",
    "    val=eval(input(\"enter a number\"))\n",
    "    if num==val:\n",
    "        print(\"you won\")\n",
    "    else:\n",
    "        print(\"lost\")\n",
    "ran()"
   ]
  },
  {
   "cell_type": "code",
   "execution_count": 8,
   "id": "acf50938",
   "metadata": {},
   "outputs": [
    {
     "name": "stdout",
     "output_type": "stream",
     "text": [
      "number is 6\n",
      "you lost\n"
     ]
    }
   ],
   "source": [
    "import random\n",
    "def ran(val):\n",
    "    num=random.randint(1,20)\n",
    "    print(\"number is\",num)\n",
    "    \n",
    "    if num==val:\n",
    "        print(\"you won\")\n",
    "    else:\n",
    "        print(\"you lost\")\n",
    "ran(34)  \n",
    "s sir\n",
    "#we can give through keyboard also\n",
    "#val=10\n",
    "#ran(val) we can give like this also"
   ]
  },
  {
   "cell_type": "code",
   "execution_count": 12,
   "id": "ab2369f6",
   "metadata": {},
   "outputs": [
    {
     "name": "stdout",
     "output_type": "stream",
     "text": [
      "enter number 6\n",
      "number is 6\n",
      "you won\n"
     ]
    }
   ],
   "source": [
    "import random\n",
    "def ran(num,val):\n",
    "    print(\"number is\",num)\n",
    "    \n",
    "    if num==val:\n",
    "        print(\"you won\")\n",
    "    else:\n",
    "        print(\"you lost\")\n",
    "        \n",
    "num=random.randint(1,20)\n",
    "val=eval(input(\"enter number \"))\n",
    "ran(num,val)  \n",
    "\n",
    "#s\n",
    "#val=10\n",
    "#ran(val) we can give like this also"
   ]
  },
  {
   "cell_type": "code",
   "execution_count": 13,
   "id": "d4e912ac",
   "metadata": {},
   "outputs": [
    {
     "name": "stdout",
     "output_type": "stream",
     "text": [
      "enter number 5\n",
      "number is 12\n",
      "you lost\n"
     ]
    }
   ],
   "source": [
    "import random\n",
    "        \n",
    "num=random.randint(1,20)\n",
    "val=eval(input(\"enter number \"))\n",
    "def ran(num,val):\n",
    "   \n",
    "    if num==val:\n",
    "        print(\"you won\")\n",
    "    else:\n",
    "        print(\"you lost\")\n",
    "\n",
    "ran(num,val)"
   ]
  },
  {
   "cell_type": "code",
   "execution_count": 16,
   "id": "ff3ba986",
   "metadata": {},
   "outputs": [
    {
     "name": "stdout",
     "output_type": "stream",
     "text": [
      "enter number 6\n",
      "random number is 9 \n",
      "you lost\n"
     ]
    }
   ],
   "source": [
    "import random\n",
    "def ran(num,val):\n",
    "    print(\"random number is {} \".format(num))\n",
    "    if num==val:\n",
    "        print(\"you won\")\n",
    "    else:\n",
    "        print(\"you lost\")\n",
    "\n",
    "ran(random.randint(1,20),eval(input(\"enter number \")))"
   ]
  },
  {
   "cell_type": "code",
   "execution_count": 17,
   "id": "cdb78bbd",
   "metadata": {},
   "outputs": [
    {
     "name": "stdout",
     "output_type": "stream",
     "text": [
      "enter salary20000\n",
      "enter tax_per10\n",
      "total tax is 22000.0 \n"
     ]
    }
   ],
   "source": [
    "# total tax program\n",
    "def tax(sal,tax_per):\n",
    "    tax=(tax_per/100)*sal\n",
    "    \n",
    "    print(\"total tax is {} \".format(total))\n",
    "\n",
    "tax(eval(input(\"enter salary\")),eval(input(\"enter tax_per\")))"
   ]
  },
  {
   "cell_type": "code",
   "execution_count": 18,
   "id": "6bbe29eb",
   "metadata": {},
   "outputs": [
    {
     "name": "stdout",
     "output_type": "stream",
     "text": [
      "enter salary200\n",
      "enter tax_per10\n",
      "total tax is 220.0 \n"
     ]
    }
   ],
   "source": [
    "# total tax program\n",
    "def tax(sal,tax_per):\n",
    "    try:\n",
    "        tax=(tax_per/100)*sal\n",
    "        total=sal+tax\n",
    "        print(\"total tax is {} \".format(total))\n",
    "        \n",
    "    except Exception as e:\n",
    "        print(e)\n",
    "\n",
    "tax(eval(input(\"enter salary\")),eval(input(\"enter tax_per\")))"
   ]
  },
  {
   "cell_type": "code",
   "execution_count": 17,
   "id": "9599e0b3",
   "metadata": {},
   "outputs": [
    {
     "name": "stdout",
     "output_type": "stream",
     "text": [
      "enter salary10\n",
      "enter tax_per10\n",
      "total tax is 1.0 \n"
     ]
    }
   ],
   "source": [
    "# total tax program\n",
    "sal=eval(input(\"enter salary\"))\n",
    "tax1=eval(input(\"enter tax_per\"))\n",
    "def tax(sal,tax1):\n",
    "    tax=(tax1/100)*sal\n",
    "    \n",
    "    print(\"total tax is {} \".format(tax))\n",
    "\n",
    "tax(sal,tax1)"
   ]
  },
  {
   "cell_type": "code",
   "execution_count": 20,
   "id": "97dc7088",
   "metadata": {},
   "outputs": [
    {
     "name": "stdout",
     "output_type": "stream",
     "text": [
      "avg is 33.333333333333336\n"
     ]
    }
   ],
   "source": [
    "#defualt parameter\n",
    "def avg(num1,num2,num3=50):\n",
    "    add=(num1+num2+num3)\n",
    "    avg=add/3\n",
    "    print(\"avg is\",avg)\n",
    "avg(20,30)"
   ]
  },
  {
   "cell_type": "code",
   "execution_count": 22,
   "id": "1f0de683",
   "metadata": {},
   "outputs": [
    {
     "name": "stdout",
     "output_type": "stream",
     "text": [
      "num3 is 100\n",
      "avg is 50.0\n"
     ]
    }
   ],
   "source": [
    "#defualt parameter\n",
    "def avg(num1,num2,num3=50):\n",
    "    print(\"num3 is\",num3)\n",
    "    add=(num1+num2+num3)\n",
    "    avg=add/3\n",
    "    print(\"avg is\",avg)\n",
    "avg(20,30,100)"
   ]
  },
  {
   "cell_type": "code",
   "execution_count": 18,
   "id": "cbffe2ef",
   "metadata": {},
   "outputs": [
    {
     "name": "stdout",
     "output_type": "stream",
     "text": [
      "90 90 90\n"
     ]
    }
   ],
   "source": [
    "num1=num2=num3=90\n",
    "print(num1,num2,num3)"
   ]
  },
  {
   "cell_type": "code",
   "execution_count": 45,
   "id": "b8eb276e",
   "metadata": {},
   "outputs": [
    {
     "ename": "NameError",
     "evalue": "name 'a1' is not defined",
     "output_type": "error",
     "traceback": [
      "\u001b[1;31m---------------------------------------------------------------------------\u001b[0m",
      "\u001b[1;31mNameError\u001b[0m                                 Traceback (most recent call last)",
      "Cell \u001b[1;32mIn[45], line 9\u001b[0m\n\u001b[0;32m      7\u001b[0m b\u001b[38;5;241m=\u001b[39m\u001b[38;5;241m2\u001b[39m\n\u001b[0;32m      8\u001b[0m c\u001b[38;5;241m=\u001b[39m\u001b[38;5;241m3\u001b[39m\n\u001b[1;32m----> 9\u001b[0m aa(a,b,c)\n",
      "Cell \u001b[1;32mIn[45], line 2\u001b[0m, in \u001b[0;36maa\u001b[1;34m(num1, num2, num3)\u001b[0m\n\u001b[0;32m      1\u001b[0m \u001b[38;5;28;01mdef\u001b[39;00m \u001b[38;5;21maa\u001b[39m(num1\u001b[38;5;241m=\u001b[39m\u001b[38;5;241m3\u001b[39m,num2\u001b[38;5;241m=\u001b[39m\u001b[38;5;241m2\u001b[39m,num3\u001b[38;5;241m=\u001b[39m\u001b[38;5;241m4\u001b[39m):\n\u001b[1;32m----> 2\u001b[0m     \u001b[38;5;28mprint\u001b[39m(a1)\n\u001b[0;32m      3\u001b[0m     \u001b[38;5;28mprint\u001b[39m(b1)\n\u001b[0;32m      5\u001b[0m     \u001b[38;5;28mprint\u001b[39m(c1)\n",
      "\u001b[1;31mNameError\u001b[0m: name 'a1' is not defined"
     ]
    }
   ],
   "source": [
    "def aa(num1=3,num2=2,num3=4):\n",
    "    print(a)\n",
    "    print(b)\n",
    "    \n",
    "    print(c)\n",
    "a=1\n",
    "b=2\n",
    "c=3\n",
    "aa(a,b,c)"
   ]
  },
  {
   "cell_type": "code",
   "execution_count": null,
   "id": "39158f8c",
   "metadata": {},
   "outputs": [],
   "source": []
  }
 ],
 "metadata": {
  "kernelspec": {
   "display_name": "Python 3 (ipykernel)",
   "language": "python",
   "name": "python3"
  },
  "language_info": {
   "codemirror_mode": {
    "name": "ipython",
    "version": 3
   },
   "file_extension": ".py",
   "mimetype": "text/x-python",
   "name": "python",
   "nbconvert_exporter": "python",
   "pygments_lexer": "ipython3",
   "version": "3.11.5"
  }
 },
 "nbformat": 4,
 "nbformat_minor": 5
}
