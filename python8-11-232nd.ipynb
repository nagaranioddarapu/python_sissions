{
 "cells": [
  {
   "cell_type": "code",
   "execution_count": 2,
   "id": "8af48a0f",
   "metadata": {},
   "outputs": [
    {
     "name": "stdout",
     "output_type": "stream",
     "text": [
      "even\n",
      "odd\n",
      "even\n",
      "odd\n",
      "even\n",
      "odd\n",
      "even\n",
      "odd\n",
      "even\n",
      "odd\n"
     ]
    }
   ],
   "source": [
    "i=10\n",
    "while i<=19:\n",
    "    if i%2==0:\n",
    "        print(\"even\")\n",
    "    else:\n",
    "        print(\"odd\")\n",
    "        \n",
    "    i+=1"
   ]
  },
  {
   "cell_type": "code",
   "execution_count": 8,
   "id": "faa84d42",
   "metadata": {},
   "outputs": [
    {
     "name": "stdout",
     "output_type": "stream",
     "text": [
      "55\n"
     ]
    }
   ],
   "source": [
    "\n",
    "summ=0\n",
    "for i in range(1,11):\n",
    "    summ=summ+i\n",
    "print(summ)"
   ]
  },
  {
   "cell_type": "code",
   "execution_count": 12,
   "id": "71cb1ffd",
   "metadata": {},
   "outputs": [
    {
     "name": "stdout",
     "output_type": "stream",
     "text": [
      "55\n"
     ]
    }
   ],
   "source": [
    "summ=0\n",
    "i=1\n",
    "while i<11:\n",
    "    summ=summ+i\n",
    "    i+=1\n",
    "    \n",
    "print(summ)"
   ]
  },
  {
   "cell_type": "code",
   "execution_count": 13,
   "id": "abff3a10",
   "metadata": {},
   "outputs": [
    {
     "name": "stdout",
     "output_type": "stream",
     "text": [
      "81\n",
      "93\n",
      "160\n",
      "193\n",
      "227\n",
      "321\n",
      "384\n",
      "454\n",
      "458\n",
      "515\n"
     ]
    }
   ],
   "source": [
    "#wap get 10 num from random numbers b/w 1to 100 and sum those numbers\n",
    "import random\n",
    "summ=0\n",
    "for i in range(10):\n",
    "    rand=random.randint(1,100)\n",
    "    summ=summ+rand\n",
    "    print(summ)\n",
    "    "
   ]
  },
  {
   "cell_type": "code",
   "execution_count": 15,
   "id": "66b972c5",
   "metadata": {},
   "outputs": [
    {
     "name": "stdout",
     "output_type": "stream",
     "text": [
      "9\n",
      "74\n",
      "77\n",
      "105\n",
      "110\n",
      "200\n",
      "283\n",
      "327\n",
      "396\n",
      "432\n",
      "432\n"
     ]
    }
   ],
   "source": [
    "#wap get 10 num from random numbers b/w 1to 100 and sum those numbers\n",
    "import random\n",
    "summ=0\n",
    "i=0\n",
    "while i<10:\n",
    "    rand=random.randint(1,100)\n",
    "    summ=summ+rand\n",
    "    print(summ)\n",
    "    i+=1\n",
    "print(summ)\n",
    "    "
   ]
  },
  {
   "cell_type": "code",
   "execution_count": null,
   "id": "72795b4b",
   "metadata": {},
   "outputs": [],
   "source": [
    "# wap ask user get 10 random numbsre b/w 10 to 100\n",
    "#count how many are >50"
   ]
  },
  {
   "cell_type": "code",
   "execution_count": 19,
   "id": "109ca087",
   "metadata": {},
   "outputs": [
    {
     "name": "stdout",
     "output_type": "stream",
     "text": [
      "58\n",
      "75\n",
      "57\n",
      "60\n",
      "86\n",
      "99\n",
      "54\n",
      "7\n"
     ]
    }
   ],
   "source": [
    "#wap get 10 num from random numbers b/w 1to 100 and sum those numbers\n",
    "count=0\n",
    "i=0\n",
    "while i<10:\n",
    "    rand=random.randint(10,100)\n",
    "    if rand>50:\n",
    "        count=count+1\n",
    "        print(rand)\n",
    "    i+=1\n",
    "print(count)\n",
    "    "
   ]
  },
  {
   "cell_type": "code",
   "execution_count": 22,
   "id": "d2ddb104",
   "metadata": {},
   "outputs": [
    {
     "name": "stdout",
     "output_type": "stream",
     "text": [
      "0\n",
      "8\n",
      "6\n",
      "0\n",
      "4\n"
     ]
    }
   ],
   "source": [
    "# wap ask user get 10 random numbsre b/w 10 to 10\n",
    "#count how many are >5 also = to 0\n",
    "count=0\n",
    "i=0\n",
    "while i<10:\n",
    "    rand=random.randint(0,10)\n",
    "    if rand>5 or rand==0:\n",
    "        count=count+1\n",
    "        print(rand)\n",
    "    i+=1\n",
    "print(count)\n",
    "    \n"
   ]
  },
  {
   "cell_type": "code",
   "execution_count": null,
   "id": "f465c743",
   "metadata": {},
   "outputs": [],
   "source": [
    "# wap ask user get 10 random numbsre b/w 10 to 10\n",
    "#count how many are >5 also = to 0\n",
    "count=0\n",
    "ocount=0\n",
    "i=0\n",
    "while i<10:\n",
    "    rand=random.randint(0,10)\n",
    "    if rand>=4\n",
    "        count=count+1\n",
    "        print(rand)\n",
    "        \n",
    "    elif rand==0:\n",
    "        ocount=ocount+1\n",
    "        print(rand)\n",
    "    i+=1\n",
    "print(count)\n",
    "    \n"
   ]
  }
 ],
 "metadata": {
  "kernelspec": {
   "display_name": "Python 3 (ipykernel)",
   "language": "python",
   "name": "python3"
  },
  "language_info": {
   "codemirror_mode": {
    "name": "ipython",
    "version": 3
   },
   "file_extension": ".py",
   "mimetype": "text/x-python",
   "name": "python",
   "nbconvert_exporter": "python",
   "pygments_lexer": "ipython3",
   "version": "3.11.5"
  }
 },
 "nbformat": 4,
 "nbformat_minor": 5
}
