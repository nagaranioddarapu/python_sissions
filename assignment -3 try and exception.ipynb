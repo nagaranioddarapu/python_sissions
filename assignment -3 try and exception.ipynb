{
 "cells": [
  {
   "cell_type": "code",
   "execution_count": 1,
   "id": "e589c35f",
   "metadata": {},
   "outputs": [
    {
     "name": "stdout",
     "output_type": "stream",
     "text": [
      "enter a number:6\n",
      "the square of 6 is 36 \n"
     ]
    }
   ],
   "source": [
    "#write a program to printout the square of the number by using TRY and EXCEPTION\n",
    "try:\n",
    "    num=eval(input(\"enter a number:\")) #etering value through keyboard\n",
    "    square=num*num  #finding square of a number\n",
    "    print(\"the square of {} is {} \".format(num,square)) #print  the square value\n",
    "    \n",
    "except Exception as square:\n",
    "    print(square)"
   ]
  },
  {
   "cell_type": "markdown",
   "id": "6c0f32e4",
   "metadata": {},
   "source": [
    "# write a program to print out x,2x,3x,4x and 5x by using try and exception"
   ]
  },
  {
   "cell_type": "code",
   "execution_count": 2,
   "id": "6d65ded3",
   "metadata": {},
   "outputs": [
    {
     "name": "stdout",
     "output_type": "stream",
     "text": [
      "enter a number :8\n",
      "8----16----24----32----40----"
     ]
    }
   ],
   "source": [
    "try:\n",
    "    num1=eval(input(\"enter a number :\"))  #enter the value through keyboard\n",
    "    print(num1,end=\"----\")  #prnitout x value\n",
    "    print(2*num1,end=\"----\")  #printiout 2x value\n",
    "    print(3*num1,end=\"----\")  #printout 3x value\n",
    "    print(4*num1,end=\"----\")  #printout 4x value\n",
    "    print(5*num1,end=\"----\")  #printout 5x value\n",
    "    \n",
    "except Exception as x:\n",
    "    print(x)"
   ]
  },
  {
   "cell_type": "markdown",
   "id": "2f152e44",
   "metadata": {},
   "source": [
    "# write a program to convert kilograms into pounds by using try and exception"
   ]
  },
  {
   "cell_type": "code",
   "execution_count": 3,
   "id": "5d73b3b1",
   "metadata": {},
   "outputs": [
    {
     "name": "stdout",
     "output_type": "stream",
     "text": [
      "enter a weight in kilograms4\n",
      "the 4 kilograms equal to 8.8 pounds\n"
     ]
    }
   ],
   "source": [
    " try:\n",
    "    weight=eval(input(\"enter a weight in kilograms\"))  #enter the weight in kilograms\n",
    "    total=2.2*weight  #convert the kilograms into pounds\n",
    "    print(\"the {} kilograms equal to {} pounds\".format(weight,total))   #print out the weight in pounds \n",
    "    \n",
    "except Exception as km:\n",
    "    print(km)\n"
   ]
  },
  {
   "cell_type": "markdown",
   "id": "f6fcf95c",
   "metadata": {},
   "source": [
    "# # write a program to print out total and average of 3 numbers by using try and exception "
   ]
  },
  {
   "cell_type": "code",
   "execution_count": 4,
   "id": "19bc28d2",
   "metadata": {},
   "outputs": [
    {
     "name": "stdout",
     "output_type": "stream",
     "text": [
      "enter a number 1:12\n",
      "enter a number 2:13\n",
      "enter a number 3:14\n",
      "the sum of 3 numbers is 39 \n",
      "the average of 3 numbers is 13.0\n"
     ]
    }
   ],
   "source": [
    "try:\n",
    "    a=eval(input(\"enter a number 1:\"))  #enter the  first value \n",
    "    b=eval(input(\"enter a number 2:\"))   # enter the second value\n",
    "    c=eval(input(\"enter a number 3:\"))   #enter the third value\n",
    "    total=a+b+c   # store  sum of the  three numbers in total variable\n",
    "    average=total/3  #store the average of 3 numbers in average variable\n",
    "    print(\"the sum of 3 numbers is {} \".format(total))   #print out the sum of 3 numbers\n",
    "    print(\"the average of 3 numbers is {}\".format(average))   #print out the average of 3 numbers\n",
    "    \n",
    "except Exception as total:\n",
    "    print(total)"
   ]
  },
  {
   "cell_type": "markdown",
   "id": "9391e506",
   "metadata": {},
   "source": [
    "# write a program to pint out total and average of 3 numbers by using try and exception"
   ]
  },
  {
   "cell_type": "code",
   "execution_count": 6,
   "id": "2b6fd05a",
   "metadata": {},
   "outputs": [
    {
     "name": "stdout",
     "output_type": "stream",
     "text": [
      "enter price of the meal1000\n",
      "enter the tip percentage20\n",
      "tip amount is 200.0 and  total bill is 1200.0 \n"
     ]
    }
   ],
   "source": [
    "try:\n",
    "    meal_price=eval(input(\"enter price of the meal\"))  #enter  price of the meal\n",
    "\n",
    "    tip_percentage=eval(input(\"enter the tip percentage\"))  # enter tip percentage \n",
    "    tip_amount=20/100*meal_price  #calculating tip amount \n",
    "    total_bill=meal_price+tip_amount  # calculating total bill\n",
    "    print(\"tip amount is {} and  total bill is {} \".format(tip_amount,total_bill))  #print out tip amount and total bill \n",
    "    \n",
    "except Exception as average:\n",
    "    print(average)"
   ]
  },
  {
   "cell_type": "markdown",
   "id": "eb3fa4da",
   "metadata": {},
   "source": [
    "# write a program to calculate ramesh gross salary\n"
   ]
  },
  {
   "cell_type": "code",
   "execution_count": 7,
   "id": "3ff5a4e4",
   "metadata": {},
   "outputs": [
    {
     "name": "stdout",
     "output_type": "stream",
     "text": [
      "Ramesh basic salary is20000\n",
      "DA is 8000.0 \n",
      "rent_allowance is 4000.0 \n",
      "Ramesh gross_salary is 32000.0 \n"
     ]
    }
   ],
   "source": [
    "try:\n",
    "    basic_salary=eval(input(\"Ramesh basic salary is\"))\n",
    "    DA=(40/100)*basic_salary\n",
    "    print(\"DA is {} \".format(DA))\n",
    "    rent_allowance=(20/100)*basic_salary\n",
    "    print(\"rent_allowance is {} \".format(rent_allowance))\n",
    "    gross_salary=basic_salary+DA+rent_allowance\n",
    "    print(\"Ramesh gross_salary is {} \".format(gross_salary))\n",
    "    \n",
    "except Exception as salary:\n",
    "    print(salary)"
   ]
  },
  {
   "cell_type": "markdown",
   "id": "42520a2b",
   "metadata": {},
   "source": [
    "# write a program to convert km to meters,feet,inches,centimeters"
   ]
  },
  {
   "cell_type": "code",
   "execution_count": 8,
   "id": "2f256c82",
   "metadata": {},
   "outputs": [
    {
     "name": "stdout",
     "output_type": "stream",
     "text": [
      "The distance between two cities in km is6\n",
      "the conversion of 6 km to meters is : 6000\n",
      "the conversion of 6 km to centimeters is: 600000\n",
      "the conversion of 6 km to feet is :19680\n",
      "the conversion of 6 km to inches is :236220\n"
     ]
    }
   ],
   "source": [
    "try:\n",
    "    distance=eval(input(\"The distance between two cities in km is\"))\n",
    "    print(\"the conversion of {} km to meters is : {}\".format(distance,distance*1000))\n",
    "    print(\"the conversion of {} km to centimeters is: {}\".format(distance,distance*100000))\n",
    "    print(\"the conversion of {} km to feet is :{}\".format(distance,distance*3280))\n",
    "    print(\"the conversion of {} km to inches is :{}\".format(distance,distance*39370))\n",
    "    \n",
    "except Exception as km:\n",
    "    print(km)"
   ]
  },
  {
   "cell_type": "markdown",
   "id": "a488f5e9",
   "metadata": {},
   "source": [
    "# write a program to find out aggregate marks and percentage marks obtained by  a student in 5 different subjects"
   ]
  },
  {
   "cell_type": "code",
   "execution_count": 10,
   "id": "1e0c5f28",
   "metadata": {},
   "outputs": [
    {
     "name": "stdout",
     "output_type": "stream",
     "text": [
      "enter subject1 marks:89\n",
      "enter subject2 marks:90\n",
      "enter subject3 marks:98\n",
      "enter subject4 marks:97\n",
      "enter subject5 marks:96\n",
      "the aggregate marks obtained by student in 5 subjects is: 470 \n",
      "the percentage marks  obtained by student in 5 subjects is: 94.0 \n"
     ]
    }
   ],
   "source": [
    "try:\n",
    "    subject1=eval(input(\"enter subject1 marks:\"))\n",
    "    subject2=eval(input(\"enter subject2 marks:\"))\n",
    "    subject3=eval(input(\"enter subject3 marks:\"))\n",
    "    subject4=eval(input(\"enter subject4 marks:\"))\n",
    "    subject5=eval(input(\"enter subject5 marks:\"))\n",
    "    aggregate=subject1+subject2+subject3+subject4+subject5\n",
    "    print(\"the aggregate marks obtained by student in 5 subjects is: {} \".format(aggregate))\n",
    "    percentage=round((aggregate/500)*100,2)\n",
    "    print(\"the percentage marks  obtained by student in 5 subjects is: {} \".format(percentage))\n",
    "    \n",
    "except Exception as marks:\n",
    "    print(marks)"
   ]
  },
  {
   "cell_type": "markdown",
   "id": "43b2f390",
   "metadata": {},
   "source": [
    "# write a program to convert temperature fahernheit into centigrade degrees"
   ]
  },
  {
   "cell_type": "code",
   "execution_count": 13,
   "id": "c4e6135e",
   "metadata": {},
   "outputs": [
    {
     "name": "stdout",
     "output_type": "stream",
     "text": [
      "temperature of a city in fahrenheit is :118\n",
      "the city temperature in centigrade degrees is : 48\n"
     ]
    }
   ],
   "source": [
    "try:\n",
    "    temperature=eval(input(\"temperature of a city in fahrenheit is :\"))\n",
    "    centigrade_degree=((temperature-32)*5)/9\n",
    "    print(\"the city temperature in centigrade degrees is : {}\".format(round(centigrade_degree),3))\n",
    "    \n",
    "except Exception as degree:\n",
    "    print(degree)\n",
    "    "
   ]
  },
  {
   "cell_type": "markdown",
   "id": "9da93a6f",
   "metadata": {},
   "source": [
    "# write a program to calculate the area&perimeter of rectangle,and the area and circumference of the circle"
   ]
  },
  {
   "cell_type": "code",
   "execution_count": 15,
   "id": "5b12cb1b",
   "metadata": {},
   "outputs": [
    {
     "name": "stdout",
     "output_type": "stream",
     "text": [
      "enter the length of rectangle6\n",
      "enter the breadth of the rectangle4\n",
      "enter the radius of the circle3\n",
      "the area of a rectangle is : 24 \n",
      "the perimeter of a rectangle is : 20  \n",
      "the area of the circle is : 28.274 \n",
      "the circumference of the circle is : 18.85 \n"
     ]
    }
   ],
   "source": [
    "import math\n",
    "try:\n",
    "    length1=eval(input(\"enter the length of rectangle\"))\n",
    "    breadth1=eval(input(\"enter the breadth of the rectangle\"))\n",
    "    radius1=eval(input(\"enter the radius of the circle\"))\n",
    "    area_rectangle1=length1*breadth1\n",
    "    print(\"the area of a rectangle is : {} \".format(area_rectangle1))\n",
    "    perimeter1=2*(length1+breadth1)\n",
    "    print(\"the perimeter of a rectangle is : {}  \".format(perimeter1))\n",
    "    area_circle1=round((math.pi)*(radius1*radius1),3)\n",
    "    print(\"the area of the circle is : {} \".format(area_circle1))\n",
    "    circumference1=round(2*(math.pi)*radius1,3)\n",
    "    print(\"the circumference of the circle is : {} \".format(circumference1))\n",
    "    \n",
    "except Exception as rect:\n",
    "    print(rect)"
   ]
  },
  {
   "cell_type": "markdown",
   "id": "ad718cc0",
   "metadata": {},
   "source": [
    "# write a program to interchange the content of theC and D"
   ]
  },
  {
   "cell_type": "code",
   "execution_count": 16,
   "id": "ea8bbcd9",
   "metadata": {},
   "outputs": [
    {
     "name": "stdout",
     "output_type": "stream",
     "text": [
      "enter content1:rani\n",
      "enter content 2:daya\n",
      "the content of C is rani and D is daya \n",
      "the content after interchange\n",
      "content of C is daya \n",
      "content of D is rani \n"
     ]
    }
   ],
   "source": [
    "try:\n",
    "    C=input(\"enter content1:\")\n",
    "    D=input(\"enter content 2:\")\n",
    "    print(\"the content of C is {} and D is {} \".format(C,D))\n",
    "    E=C\n",
    "    C=D\n",
    "    D=E\n",
    "    print(\"the content after interchange\")\n",
    "    print(\"content of C is {} \".format(C))\n",
    "    print(\"content of D is {} \".format(D))\n",
    "    \n",
    "except Exception as content:\n",
    "    print(content)\n",
    "    \n",
    "    \n",
    "    "
   ]
  },
  {
   "cell_type": "markdown",
   "id": "0ed9c37d",
   "metadata": {},
   "source": [
    "# write a program to reverse the number\n"
   ]
  },
  {
   "cell_type": "code",
   "execution_count": 17,
   "id": "2982edbb",
   "metadata": {},
   "outputs": [
    {
     "name": "stdout",
     "output_type": "stream",
     "text": [
      "enter a 5 digit number56789\n",
      "5 digit number is 56789 \n",
      "reverse of number is\n",
      "98765\n"
     ]
    }
   ],
   "source": [
    "try:\n",
    "    num=eval(input(\"enter a 5 digit number\"))\n",
    "    print(\"5 digit number is {} \".format(num))\n",
    "    num1=num%10\n",
    "    num2=num//10\n",
    "    num3=num2%10\n",
    "    num4=num2//10\n",
    "    num5=num4%10\n",
    "    num6=num4//10\n",
    "    num7=num6%10\n",
    "    num8=num6//10\n",
    "    print(\"reverse of number is\")\n",
    "    print(num1,end='')\n",
    "    print(num3,end='')\n",
    "    print(num5,end='')\n",
    "    print(num7,end='')\n",
    "    print(num8)\n",
    "except Exception as rev:\n",
    "    print(rev)\n",
    "    "
   ]
  },
  {
   "cell_type": "markdown",
   "id": "ea311234",
   "metadata": {},
   "source": [
    "# write a program obtain the sum of the first and last digit  of given number\n"
   ]
  },
  {
   "cell_type": "code",
   "execution_count": 18,
   "id": "4e78f623",
   "metadata": {},
   "outputs": [
    {
     "name": "stdout",
     "output_type": "stream",
     "text": [
      "enter 4 digit number3456\n",
      "4 digit number is 3456 \n",
      "the sume of the first digit and last digit of given number is 9 \n"
     ]
    }
   ],
   "source": [
    "try:\n",
    "    num=eval(input(\"enter 4 digit number\"))\n",
    "    print(\"4 digit number is {} \".format(num))\n",
    "    num1=num%10\n",
    "    num2=num//10\n",
    "    num3=num2%10\n",
    "    num4=num2//10\n",
    "    num5=num4%10\n",
    "    num6=num4//10\n",
    "    add=num1+num6\n",
    "    print(\"the sume of the first digit and last digit of given number is {} \".format(add))\n",
    "    \n",
    "except Exception as sums:\n",
    "    print(sums)\n"
   ]
  },
  {
   "cell_type": "markdown",
   "id": "4016d4a9",
   "metadata": {},
   "source": [
    "# write a program to find the total number of illiterate men and women "
   ]
  },
  {
   "cell_type": "code",
   "execution_count": 19,
   "id": "26f0a874",
   "metadata": {},
   "outputs": [
    {
     "name": "stdout",
     "output_type": "stream",
     "text": [
      "total literracy is : 38400.0\n",
      "total illiteracy is 41600.0 \n",
      "men literacy is : 13440.0\n",
      "total illiteracy of men and women is 41600.0\n"
     ]
    }
   ],
   "source": [
    "try:\n",
    "    total_population=80000\n",
    "    men_population=(52/100)*total_population\n",
    "    women_population=((100-52)/100)*total_population\n",
    "    total_literacy=(48/100)*total_population\n",
    "    print(\"total literracy is :\",total_literacy)\n",
    "    total_illiteracy=((100-48)/100)*total_population\n",
    "    print(\"total illiteracy is {} \".format(total_illiteracy))\n",
    "    men_literacy=(35/100)*total_literacy\n",
    "    print(\"men literacy is :\",men_literacy)\n",
    "    men_illiteracy=men_population-men_literacy\n",
    "    women_litercy=total_literacy-men_literacy\n",
    "    women_illiteracy=total_illiteracy-men_illiteracy\n",
    "    total_illiteracy1=men_illiteracy+women_illiteracy\n",
    "    print(\"total illiteracy of men and women is {}\".format(total_illiteracy1))\n",
    "    \n",
    "except Exception as total:\n",
    "    print(total)\n",
    "    "
   ]
  },
  {
   "cell_type": "markdown",
   "id": "6b806992",
   "metadata": {},
   "source": [
    "# write a program to find the total denomination the cashier will have to give to the withdrawer"
   ]
  },
  {
   "cell_type": "code",
   "execution_count": 20,
   "id": "11ae6004",
   "metadata": {},
   "outputs": [
    {
     "name": "stdout",
     "output_type": "stream",
     "text": [
      "enter the amount in hundreds987\n",
      "number of 100rs notes to be withdrawn  is 9 \n",
      "number of 50rs notes to be withdrawn  is 1 \n",
      "number of 10rs notes to be withdrawn  is 3 \n",
      "left amount  is 7 \n"
     ]
    }
   ],
   "source": [
    " try:\n",
    "        amt=eval(input(\"enter the amount in hundreds\"))\n",
    "        demon100=amt//100    #number of 100rs notes\n",
    "        demon50=(amt%100)//50    #number of 50rs notes\n",
    "        demon10=((amt%100)%50)//10  #number of 10rs notes\n",
    "        left_amt=((amt%100)%50)%10  # remainder\n",
    "        print(\"number of 100rs notes to be withdrawn  is {} \".format(demon100))\n",
    "        print(\"number of 50rs notes to be withdrawn  is {} \".format(demon50))\n",
    "        print(\"number of 10rs notes to be withdrawn  is {} \".format(demon10))\n",
    "        print(\"left amount  is {} \".format(left_amt))\n",
    "        \n",
    "        \n",
    "except Exception as denomination:\n",
    "    print(denomination)\n"
   ]
  },
  {
   "cell_type": "code",
   "execution_count": null,
   "id": "21cb98e0",
   "metadata": {},
   "outputs": [],
   "source": []
  }
 ],
 "metadata": {
  "kernelspec": {
   "display_name": "Python 3 (ipykernel)",
   "language": "python",
   "name": "python3"
  },
  "language_info": {
   "codemirror_mode": {
    "name": "ipython",
    "version": 3
   },
   "file_extension": ".py",
   "mimetype": "text/x-python",
   "name": "python",
   "nbconvert_exporter": "python",
   "pygments_lexer": "ipython3",
   "version": "3.11.5"
  }
 },
 "nbformat": 4,
 "nbformat_minor": 5
}
