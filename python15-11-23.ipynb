{
 "cells": [
  {
   "cell_type": "code",
   "execution_count": 1,
   "id": "635965b9",
   "metadata": {},
   "outputs": [
    {
     "data": {
      "text/plain": [
       "2"
      ]
     },
     "execution_count": 1,
     "metadata": {},
     "output_type": "execute_result"
    }
   ],
   "source": [
    "str1='hai how are you ,iam good'\n",
    "str1.index('i')"
   ]
  },
  {
   "cell_type": "code",
   "execution_count": 3,
   "id": "31abbdfb",
   "metadata": {},
   "outputs": [
    {
     "data": {
      "text/plain": [
       "'1489'"
      ]
     },
     "execution_count": 3,
     "metadata": {},
     "output_type": "execute_result"
    }
   ],
   "source": [
    "str1='3.1489'\n",
    "str1[str1.index('.')-1]\n",
    "str1[str1.index('.',)+1:]"
   ]
  },
  {
   "cell_type": "code",
   "execution_count": 5,
   "id": "862893ec",
   "metadata": {},
   "outputs": [
    {
     "data": {
      "text/plain": [
       "True"
      ]
     },
     "execution_count": 5,
     "metadata": {},
     "output_type": "execute_result"
    }
   ],
   "source": [
    "str1='abc'\n",
    "str1.isalnum()"
   ]
  },
  {
   "cell_type": "code",
   "execution_count": 6,
   "id": "9c3415a2",
   "metadata": {},
   "outputs": [
    {
     "data": {
      "text/plain": [
       "True"
      ]
     },
     "execution_count": 6,
     "metadata": {},
     "output_type": "execute_result"
    }
   ],
   "source": [
    "str1='123'\n",
    "str1.isnumeric()"
   ]
  },
  {
   "cell_type": "code",
   "execution_count": null,
   "id": "56640538",
   "metadata": {},
   "outputs": [],
   "source": [
    "str1='123'\n",
    "str1.isalpha()"
   ]
  },
  {
   "cell_type": "markdown",
   "id": "94f68ffa",
   "metadata": {},
   "source": [
    "$split$"
   ]
  },
  {
   "cell_type": "code",
   "execution_count": null,
   "id": "c88eed15",
   "metadata": {},
   "outputs": [],
   "source": [
    "str1="
   ]
  }
 ],
 "metadata": {
  "kernelspec": {
   "display_name": "Python 3 (ipykernel)",
   "language": "python",
   "name": "python3"
  },
  "language_info": {
   "codemirror_mode": {
    "name": "ipython",
    "version": 3
   },
   "file_extension": ".py",
   "mimetype": "text/x-python",
   "name": "python",
   "nbconvert_exporter": "python",
   "pygments_lexer": "ipython3",
   "version": "3.11.5"
  }
 },
 "nbformat": 4,
 "nbformat_minor": 5
}
