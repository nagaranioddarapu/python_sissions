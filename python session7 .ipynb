{
 "cells": [
  {
   "cell_type": "markdown",
   "id": "1dfd66bf",
   "metadata": {},
   "source": [
    "# conditional statements\n"
   ]
  },
  {
   "cell_type": "code",
   "execution_count": 8,
   "id": "afbc583a",
   "metadata": {},
   "outputs": [
    {
     "name": "stdout",
     "output_type": "stream",
     "text": [
      "run\n"
     ]
    }
   ],
   "source": [
    "name='python'\n",
    "if name=='python':\n",
    "    print(\"run\")"
   ]
  },
  {
   "cell_type": "code",
   "execution_count": 11,
   "id": "c8e21fdf",
   "metadata": {},
   "outputs": [],
   "source": [
    "name=\"python\"\n",
    "if name==\"py\":\n",
    "    a=10\n",
    "    b=20\n",
    "    print(a+b)"
   ]
  },
  {
   "cell_type": "code",
   "execution_count": 12,
   "id": "12867249",
   "metadata": {},
   "outputs": [
    {
     "name": "stdout",
     "output_type": "stream",
     "text": [
      "30\n"
     ]
    }
   ],
   "source": [
    "a=10\n",
    "b=20\n",
    "print(a+b)"
   ]
  },
  {
   "cell_type": "code",
   "execution_count": 13,
   "id": "c277d390",
   "metadata": {},
   "outputs": [
    {
     "name": "stdout",
     "output_type": "stream",
     "text": [
      "30\n"
     ]
    }
   ],
   "source": [
    "name=\"python\"\n",
    "if name==\"py\":\n",
    "    print(\"won\")\n",
    "else:\n",
    "    \n",
    "    a=10\n",
    "    b=20\n",
    "    print(a+b)"
   ]
  },
  {
   "cell_type": "code",
   "execution_count": null,
   "id": "392c4ea8",
   "metadata": {},
   "outputs": [],
   "source": [
    "print('hello')\n",
    "print(10)\n",
    "num1=eval(input(\"enter a number:\"))\n",
    "num2=eval(input(\"enter a number:\"))\n",
    "if num1==num2:\n",
    "    print(\"this is true case\")\n",
    "    print(\"we are doing addition operation\")\n",
    "    print(\"the addition of {} and {} is {}\".format(num1,num2,num1+num2))\n",
    "    print(\"happy ending\")\n",
    "    \n",
    "    "
   ]
  },
  {
   "cell_type": "code",
   "execution_count": 16,
   "id": "eebd5516",
   "metadata": {},
   "outputs": [
    {
     "name": "stdout",
     "output_type": "stream",
     "text": [
      "enter anumber6\n",
      "the 6 is even number\n"
     ]
    }
   ],
   "source": [
    "val=eval(input(\"enter anumber\"))\n",
    "val1=val%2\n",
    "if val1==0:\n",
    "    print(\"the {} is even number\".format(val))\n",
    "else:\n",
    "        print(\"it is odd number\")"
   ]
  },
  {
   "cell_type": "code",
   "execution_count": 18,
   "id": "9f7dd20f",
   "metadata": {},
   "outputs": [
    {
     "name": "stdout",
     "output_type": "stream",
     "text": [
      "enter anumber7\n",
      "it is odd number\n"
     ]
    }
   ],
   "source": [
    "try:\n",
    "    val=eval(input(\"enter anumber\"))\n",
    "    val1=val%2\n",
    "    if val1==0:\n",
    "        print(\"the {} is even number\".format(val))\n",
    "    else:\n",
    "          print(\"it is odd number\")\n",
    "        \n",
    "except Exception as e:\n",
    "             print(e)\n",
    "        "
   ]
  },
  {
   "cell_type": "code",
   "execution_count": 23,
   "id": "de07fc7e",
   "metadata": {},
   "outputs": [
    {
     "name": "stdout",
     "output_type": "stream",
     "text": [
      "the 46 is even num\n"
     ]
    }
   ],
   "source": [
    "import random\n",
    "num1=random.randint(1,50)\n",
    "\n",
    "if (num1%2!=0):\n",
    "    print(\"the {} is odd number\".format(num1))\n",
    "else:\n",
    "    print(\"the {} is even num\".format(num1))"
   ]
  },
  {
   "cell_type": "code",
   "execution_count": 27,
   "id": "e8d8f637",
   "metadata": {},
   "outputs": [
    {
     "name": "stdout",
     "output_type": "stream",
     "text": [
      "you won because 40 is between 10 and 99\n"
     ]
    }
   ],
   "source": [
    "import random\n",
    "try:\n",
    "    num1=random.randint(1,50)\n",
    "\n",
    "    if (num1>=10 and num1<=99):\n",
    "        print(\"you won because {} is between 10 and 99\".format(num1))\n",
    "    else:\n",
    "        print(\"you lost because {} isnot between 10 and 99\".format(num1))\n",
    "except Exception as e:\n",
    "    print(e)"
   ]
  },
  {
   "cell_type": "code",
   "execution_count": 30,
   "id": "280f10e1",
   "metadata": {},
   "outputs": [
    {
     "name": "stdout",
     "output_type": "stream",
     "text": [
      "enter a number8\n",
      "name 'num' is not defined\n"
     ]
    }
   ],
   "source": [
    " try:\n",
    "        num1=eval(input(\"enter a number\"))\n",
    "        if num1>=0:\n",
    "            print(\"the {} is positive number\".format(num1))\n",
    "        else:\n",
    "            print(\"the {} is negative  number\".format(num1))\n",
    "except Exception as e:\n",
    "                print(e)"
   ]
  },
  {
   "cell_type": "code",
   "execution_count": 35,
   "id": "466ce6ae",
   "metadata": {},
   "outputs": [
    {
     "name": "stdout",
     "output_type": "stream",
     "text": [
      "enter the marks percentage70\n",
      "D\n"
     ]
    }
   ],
   "source": [
    "per=eval(input(\"enter the marks percentage\"))\n",
    "if per>90:\n",
    "    print(\"A\")\n",
    "elif  70<per<90:\n",
    "    print(\"B\")\n",
    "elif 50<per<70:\n",
    "    print(\"C\")\n",
    "else:\n",
    "    print(\"D\")"
   ]
  },
  {
   "cell_type": "code",
   "execution_count": 36,
   "id": "bac13af1",
   "metadata": {},
   "outputs": [
    {
     "name": "stdout",
     "output_type": "stream",
     "text": [
      "enter the marks percentage58\n",
      "C\n"
     ]
    }
   ],
   "source": [
    "per=eval(input(\"enter the marks percentage\"))\n",
    "if per>=90:\n",
    "    print(\"A\")\n",
    "elif  per>=70:\n",
    "    print(\"B\")\n",
    "elif per>=50:\n",
    "    print(\"C\")\n",
    "else:\n",
    "    print(\"D\")"
   ]
  },
  {
   "cell_type": "code",
   "execution_count": 44,
   "id": "14a0ccb6",
   "metadata": {
    "scrolled": true
   },
   "outputs": [
    {
     "name": "stdout",
     "output_type": "stream",
     "text": [
      "enter age:120\n",
      "not possible\n"
     ]
    }
   ],
   "source": [
    "age=eval(input(\"enter age:\"))\n",
    "if age>=100:\n",
    "    print(\"not possible\")\n",
    "elif age>=60:\n",
    "    print(\"senior citizen\")\n",
    "elif age>=45:\n",
    "    print(\"aged\")\n",
    "elif age>=30:\n",
    "    print(\"middle aged\")\n",
    "elif age>=20:\n",
    "    print(\"young\")\n",
    "elif age>=13:\n",
    "     print(\"teenage\")\n",
    "elif age<=13:\n",
    "    print(\"child\")"
   ]
  },
  {
   "cell_type": "code",
   "execution_count": null,
   "id": "10cc5792",
   "metadata": {},
   "outputs": [],
   "source": []
  }
 ],
 "metadata": {
  "kernelspec": {
   "display_name": "Python 3 (ipykernel)",
   "language": "python",
   "name": "python3"
  },
  "language_info": {
   "codemirror_mode": {
    "name": "ipython",
    "version": 3
   },
   "file_extension": ".py",
   "mimetype": "text/x-python",
   "name": "python",
   "nbconvert_exporter": "python",
   "pygments_lexer": "ipython3",
   "version": "3.11.5"
  }
 },
 "nbformat": 4,
 "nbformat_minor": 5
}
